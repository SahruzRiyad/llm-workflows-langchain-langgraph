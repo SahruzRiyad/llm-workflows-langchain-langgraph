{
 "cells": [
  {
   "cell_type": "code",
   "execution_count": 1,
   "id": "d550d9cd",
   "metadata": {},
   "outputs": [],
   "source": [
    "import os\n",
    "from dotenv import load_dotenv\n",
    "\n",
    "load_dotenv()\n",
    "\n",
    "os.environ[\"OPENAI_API_KEY\"] = os.getenv(\"OPENAI_API_KEY\")"
   ]
  },
  {
   "cell_type": "code",
   "execution_count": 2,
   "id": "77dd79bb",
   "metadata": {},
   "outputs": [],
   "source": [
    "from openai import OpenAI\n",
    "\n",
    "client = OpenAI()"
   ]
  },
  {
   "cell_type": "code",
   "execution_count": 3,
   "id": "0a8a9238",
   "metadata": {},
   "outputs": [],
   "source": [
    "def get_completion(prompt, model=\"gpt-3.5-turbo\"):\n",
    "    response = client.chat.completions.create(\n",
    "        model = model,\n",
    "        messages = [\n",
    "            {'role': \"user\", 'content': prompt}\n",
    "        ],\n",
    "        temperature = 0\n",
    "    )\n",
    "\n",
    "    return response.choices[0].message.content"
   ]
  },
  {
   "cell_type": "markdown",
   "id": "417d3b40",
   "metadata": {},
   "source": [
    "## Generate a marketing product description from a product fact sheet"
   ]
  },
  {
   "cell_type": "code",
   "execution_count": 4,
   "id": "48a0a68b",
   "metadata": {},
   "outputs": [],
   "source": [
    "fact_sheet_chair = \"\"\"\n",
    "OVERVIEW\n",
    "- Part of a beautiful family of mid-century inspired office furniture, \n",
    "including filing cabinets, desks, bookcases, meeting tables, and more.\n",
    "- Several options of shell color and base finishes.\n",
    "- Available with plastic back and front upholstery (SWC-100) \n",
    "or full upholstery (SWC-110) in 10 fabric and 6 leather options.\n",
    "- Base finish options are: stainless steel, matte black, \n",
    "gloss white, or chrome.\n",
    "- Chair is available with or without armrests.\n",
    "- Suitable for home or business settings.\n",
    "- Qualified for contract use.\n",
    "\n",
    "CONSTRUCTION\n",
    "- 5-wheel plastic coated aluminum base.\n",
    "- Pneumatic chair adjust for easy raise/lower action.\n",
    "\n",
    "DIMENSIONS\n",
    "- WIDTH 53 CM | 20.87”\n",
    "- DEPTH 51 CM | 20.08”\n",
    "- HEIGHT 80 CM | 31.50”\n",
    "- SEAT HEIGHT 44 CM | 17.32”\n",
    "- SEAT DEPTH 41 CM | 16.14”\n",
    "\n",
    "OPTIONS\n",
    "- Soft or hard-floor caster options.\n",
    "- Two choices of seat foam densities: \n",
    " medium (1.8 lb/ft3) or high (2.8 lb/ft3)\n",
    "- Armless or 8 position PU armrests \n",
    "\n",
    "MATERIALS\n",
    "SHELL BASE GLIDER\n",
    "- Cast Aluminum with modified nylon PA6/PA66 coating.\n",
    "- Shell thickness: 10 mm.\n",
    "SEAT\n",
    "- HD36 foam\n",
    "\n",
    "COUNTRY OF ORIGIN\n",
    "- Italy\n",
    "\"\"\""
   ]
  },
  {
   "cell_type": "code",
   "execution_count": 5,
   "id": "08f9bce5",
   "metadata": {},
   "outputs": [
    {
     "name": "stdout",
     "output_type": "stream",
     "text": [
      "Introducing our sleek and stylish mid-century inspired office chair, perfect for both home and business settings. This chair is part of a beautiful family of office furniture that includes filing cabinets, desks, bookcases, meeting tables, and more.\n",
      "\n",
      "Customize your chair with several options of shell color and base finishes to match your decor. Choose between plastic back and front upholstery or full upholstery in a variety of fabric and leather options. The base finish options include stainless steel, matte black, gloss white, or chrome. You can also choose to have armrests or go for a more minimalist look without them.\n",
      "\n",
      "Constructed with a 5-wheel plastic coated aluminum base, this chair features a pneumatic adjust for easy raise/lower action. The dimensions of the chair are as follows: width 53 cm, depth 51 cm, height 80 cm, seat height 44 cm, and seat depth 41 cm.\n",
      "\n",
      "Customize your chair further with options such as soft or hard-floor caster options, two choices of seat foam densities (medium or high), and the choice between armless or 8 position PU armrests.\n",
      "\n",
      "Made with high-quality materials, the shell base glider is constructed with cast aluminum with modified nylon PA6/PA66 coating and a shell thickness of 10 mm. The seat is made with HD36 foam for maximum comfort.\n",
      "\n",
      "This stylish and functional office chair is designed and made in Italy, ensuring quality craftsmanship and attention to detail. Upgrade your workspace with our mid-century inspired office chair today!\n"
     ]
    }
   ],
   "source": [
    "prompt = f\"\"\"\n",
    "Your task is to help a marketing team create a \n",
    "description for a retail website of a product based \n",
    "on a technical fact sheet.\n",
    "\n",
    "Write a product description based on the information \n",
    "provided in the technical specifications delimited by \n",
    "triple backticks.\n",
    "\n",
    "Technical specifications: ```{fact_sheet_chair}```\n",
    "\"\"\"\n",
    "response = get_completion(prompt)\n",
    "print(response)"
   ]
  },
  {
   "cell_type": "markdown",
   "id": "480c60eb",
   "metadata": {},
   "source": [
    "### Issue 1: The text is too long\n",
    "Limit the number of words/sentences/characters."
   ]
  },
  {
   "cell_type": "code",
   "execution_count": 6,
   "id": "4e4b4653",
   "metadata": {},
   "outputs": [
    {
     "name": "stdout",
     "output_type": "stream",
     "text": [
      "Introducing our versatile and stylish mid-century office chair, available in a range of colors and finishes. With adjustable height and comfortable seating options, this chair is perfect for both home and business use. Made with quality materials from Italy, it's a perfect blend of form and function.\n"
     ]
    }
   ],
   "source": [
    "prompt = f\"\"\"\n",
    "Your task is to help a marketing team create a \n",
    "description for a retail website of a product based \n",
    "on a technical fact sheet.\n",
    "\n",
    "Write a product description based on the information \n",
    "provided in the technical specifications delimited by \n",
    "triple backticks.\n",
    "\n",
    "Use at most 50 words.\n",
    "\n",
    "Technical specifications: ```{fact_sheet_chair}```\n",
    "\"\"\"\n",
    "response = get_completion(prompt)\n",
    "print(response)\n"
   ]
  },
  {
   "cell_type": "code",
   "execution_count": 7,
   "id": "f3c6bc70",
   "metadata": {},
   "outputs": [
    {
     "data": {
      "text/plain": [
       "47"
      ]
     },
     "execution_count": 7,
     "metadata": {},
     "output_type": "execute_result"
    }
   ],
   "source": [
    "len(response.split())"
   ]
  },
  {
   "cell_type": "markdown",
   "id": "2acfc323",
   "metadata": {},
   "source": [
    "### Issue 2. Text focuses on the wrong details\n",
    "Ask it to focus on the aspects that are relevant to the intended audience."
   ]
  },
  {
   "cell_type": "code",
   "execution_count": 8,
   "id": "d2f1a706",
   "metadata": {},
   "outputs": [
    {
     "name": "stdout",
     "output_type": "stream",
     "text": [
      "Introducing our versatile and stylish office chair, part of a mid-century inspired furniture collection. Choose from a variety of shell colors and base finishes to suit your space. Constructed with a durable aluminum base and high-density foam seat for comfort. Made in Italy, perfect for home or business use.\n"
     ]
    }
   ],
   "source": [
    "prompt = f\"\"\"\n",
    "Your task is to help a marketing team create a \n",
    "description for a retail website of a product based \n",
    "on a technical fact sheet.\n",
    "\n",
    "Write a product description based on the information \n",
    "provided in the technical specifications delimited by \n",
    "triple backticks.\n",
    "\n",
    "The description is intended for furniture retailers, \n",
    "so should be technical in nature and focus on the \n",
    "materials the product is constructed from.\n",
    "\n",
    "Use at most 50 words.\n",
    "\n",
    "Technical specifications: ```{fact_sheet_chair}```\n",
    "\"\"\"\n",
    "response = get_completion(prompt)\n",
    "print(response)"
   ]
  },
  {
   "cell_type": "code",
   "execution_count": 9,
   "id": "fc60adf7",
   "metadata": {},
   "outputs": [
    {
     "name": "stdout",
     "output_type": "stream",
     "text": [
      "Introducing our versatile and stylish office chair, part of a mid-century inspired furniture collection. Choose from a variety of shell colors and base finishes to suit your space. Constructed with a durable aluminum base and high-density foam seat for comfort. Perfect for home or office use. \n",
      "\n",
      "Product IDs: SWC-100, SWC-110\n"
     ]
    }
   ],
   "source": [
    "prompt = f\"\"\"\n",
    "Your task is to help a marketing team create a \n",
    "description for a retail website of a product based \n",
    "on a technical fact sheet.\n",
    "\n",
    "Write a product description based on the information \n",
    "provided in the technical specifications delimited by \n",
    "triple backticks.\n",
    "\n",
    "The description is intended for furniture retailers, \n",
    "so should be technical in nature and focus on the \n",
    "materials the product is constructed from.\n",
    "\n",
    "At the end of the description, include every 7-character \n",
    "Product ID in the technical specification.\n",
    "\n",
    "Use at most 50 words.\n",
    "\n",
    "Technical specifications: ```{fact_sheet_chair}```\n",
    "\"\"\"\n",
    "response = get_completion(prompt)\n",
    "print(response)"
   ]
  },
  {
   "cell_type": "markdown",
   "id": "ddccc465",
   "metadata": {},
   "source": [
    "### Issue 3. Description needs a table of dimensions\n",
    "Ask it to extract information and organize it in a table."
   ]
  },
  {
   "cell_type": "code",
   "execution_count": 15,
   "id": "1064ab45",
   "metadata": {},
   "outputs": [
    {
     "name": "stdout",
     "output_type": "stream",
     "text": [
      "<div>\n",
      "  <h2>Product Overview</h2>\n",
      "  <p>Introducing our versatile office chair with customizable options for shell color, base finish, and upholstery. Constructed with a durable aluminum base and high-density foam seat for comfort and support. Perfect for both home and business use. Product ID: SWC-100, SWC-110</p>\n",
      "  \n",
      "  <h2>Product Dimensions</h2>\n",
      "  <table>\n",
      "    <tr>\n",
      "      <td>WIDTH</td>\n",
      "      <td>20.87\"</td>\n",
      "    </tr>\n",
      "    <tr>\n",
      "      <td>DEPTH</td>\n",
      "      <td>20.08\"</td>\n",
      "    </tr>\n",
      "    <tr>\n",
      "      <td>HEIGHT</td>\n",
      "      <td>31.50\"</td>\n",
      "    </tr>\n",
      "    <tr>\n",
      "      <td>SEAT HEIGHT</td>\n",
      "      <td>17.32\"</td>\n",
      "    </tr>\n",
      "    <tr>\n",
      "      <td>SEAT DEPTH</td>\n",
      "      <td>16.14\"</td>\n",
      "    </tr>\n",
      "  </table>\n",
      "</div>\n"
     ]
    }
   ],
   "source": [
    "prompt = f\"\"\"\n",
    "Your task is to help a marketing team create a \n",
    "description for a retail website of a product based \n",
    "on a technical fact sheet.\n",
    "\n",
    "Write a product description based on the information \n",
    "provided in the technical specifications delimited by \n",
    "triple backticks.\n",
    "\n",
    "The description is intended for furniture retailers, \n",
    "so should be technical in nature and focus on the \n",
    "materials the product is constructed from.\n",
    "\n",
    "At the end of the description, include every 7-character \n",
    "Product ID in the technical specification.\n",
    "\n",
    "After the description, include a table that gives the \n",
    "product's dimensions. The table should have two columns.\n",
    "In the first column include the name of the dimension. \n",
    "In the second column include the measurements in inches only.\n",
    "\n",
    "Give the table the title 'Product Dimensions'. Also give title of paragraph content\n",
    "as 'Product Overview'.\n",
    "\n",
    "Format everything as HTML that can be used in a website. \n",
    "Place the description in a <div> element.\n",
    "\n",
    "Use at most 50 words.\n",
    "\n",
    "Technical specifications: ```{fact_sheet_chair}```\n",
    "\"\"\"\n",
    "\n",
    "response = get_completion(prompt)\n",
    "print(response)"
   ]
  },
  {
   "cell_type": "markdown",
   "id": "6780dfd4",
   "metadata": {},
   "source": [
    "Load Python libraries to view HTML"
   ]
  },
  {
   "cell_type": "code",
   "execution_count": 11,
   "id": "86918d5b",
   "metadata": {},
   "outputs": [],
   "source": [
    "from IPython.display import display, HTML"
   ]
  },
  {
   "cell_type": "code",
   "execution_count": 16,
   "id": "2eeaa3ce",
   "metadata": {},
   "outputs": [
    {
     "data": {
      "text/html": [
       "<div>\n",
       "  <h2>Product Overview</h2>\n",
       "  <p>Introducing our versatile office chair with customizable options for shell color, base finish, and upholstery. Constructed with a durable aluminum base and high-density foam seat for comfort and support. Perfect for both home and business use. Product ID: SWC-100, SWC-110</p>\n",
       "  \n",
       "  <h2>Product Dimensions</h2>\n",
       "  <table>\n",
       "    <tr>\n",
       "      <td>WIDTH</td>\n",
       "      <td>20.87\"</td>\n",
       "    </tr>\n",
       "    <tr>\n",
       "      <td>DEPTH</td>\n",
       "      <td>20.08\"</td>\n",
       "    </tr>\n",
       "    <tr>\n",
       "      <td>HEIGHT</td>\n",
       "      <td>31.50\"</td>\n",
       "    </tr>\n",
       "    <tr>\n",
       "      <td>SEAT HEIGHT</td>\n",
       "      <td>17.32\"</td>\n",
       "    </tr>\n",
       "    <tr>\n",
       "      <td>SEAT DEPTH</td>\n",
       "      <td>16.14\"</td>\n",
       "    </tr>\n",
       "  </table>\n",
       "</div>"
      ],
      "text/plain": [
       "<IPython.core.display.HTML object>"
      ]
     },
     "metadata": {},
     "output_type": "display_data"
    }
   ],
   "source": [
    "display(HTML(response))"
   ]
  }
 ],
 "metadata": {
  "kernelspec": {
   "display_name": "myenv",
   "language": "python",
   "name": "python3"
  },
  "language_info": {
   "codemirror_mode": {
    "name": "ipython",
    "version": 3
   },
   "file_extension": ".py",
   "mimetype": "text/x-python",
   "name": "python",
   "nbconvert_exporter": "python",
   "pygments_lexer": "ipython3",
   "version": "3.12.10"
  }
 },
 "nbformat": 4,
 "nbformat_minor": 5
}
