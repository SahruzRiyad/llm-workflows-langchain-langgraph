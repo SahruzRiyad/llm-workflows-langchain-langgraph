{
 "cells": [
  {
   "cell_type": "code",
   "execution_count": 1,
   "metadata": {},
   "outputs": [],
   "source": [
    "import os\n",
    "from dotenv import load_dotenv\n",
    "\n",
    "load_dotenv()\n",
    "\n",
    "os.environ[\"OPENAI_API_KEY\"] = os.getenv(\"OPENAI_API_KEY\")"
   ]
  },
  {
   "cell_type": "code",
   "execution_count": 2,
   "metadata": {},
   "outputs": [],
   "source": [
    "from langgraph.graph import StateGraph, END \n",
    "from langchain.chat_models import ChatOpenAI\n",
    "from typing import Dict, TypedDict, List, Annotated, Optional, Any\n",
    "import operator, sqlite3\n",
    "from langchain_core.messages import HumanMessage, SystemMessage, AIMessage, FunctionMessage\n",
    "import json \n",
    "import re \n",
    "from enum import Enum\n",
    "from pydantic import BaseModel, Field\n",
    "from langchain.prompts import ChatPromptTemplate\n",
    "from langchain_core.output_parsers import JsonOutputParser"
   ]
  },
  {
   "cell_type": "code",
   "execution_count": 3,
   "metadata": {},
   "outputs": [
    {
     "name": "stderr",
     "output_type": "stream",
     "text": [
      "C:\\Users\\Sahruz Riyad\\AppData\\Local\\Temp\\ipykernel_8788\\4016619961.py:1: LangChainDeprecationWarning: The class `ChatOpenAI` was deprecated in LangChain 0.0.10 and will be removed in 1.0. An updated version of the class exists in the :class:`~langchain-openai package and should be used instead. To use it run `pip install -U :class:`~langchain-openai` and import as `from :class:`~langchain_openai import ChatOpenAI``.\n",
      "  llm = ChatOpenAI(temperature=0.7, model_name= \"gpt-4o\")\n"
     ]
    }
   ],
   "source": [
    "llm = ChatOpenAI(temperature=0.7, model_name= \"gpt-4o\")"
   ]
  },
  {
   "cell_type": "code",
   "execution_count": 4,
   "metadata": {},
   "outputs": [],
   "source": [
    "class User(BaseModel):\n",
    "    user_id: Optional[int] = None\n",
    "    name: str\n",
    "    age: int \n",
    "    email: str \n",
    "    order_list: Optional[List[Dict]] = None\n",
    "    interested_in: Optional[List[str]] = None"
   ]
  },
  {
   "cell_type": "code",
   "execution_count": 5,
   "metadata": {},
   "outputs": [],
   "source": [
    "class EcommerceState(TypedDict):\n",
    "    user_info: Dict\n",
    "    user_input: str"
   ]
  },
  {
   "cell_type": "markdown",
   "metadata": {},
   "source": [
    "Database Set-up"
   ]
  },
  {
   "cell_type": "code",
   "execution_count": 6,
   "metadata": {},
   "outputs": [],
   "source": [
    "def connect_db():\n",
    "    conn = sqlite3.connect(\"user.db\")\n",
    "    return conn \n",
    "\n",
    "def create_table(cursor):\n",
    "    \"\"\"Creates the users table if it doesn't exist.\"\"\"\n",
    "    cursor.execute('''\n",
    "        CREATE TABLE IF NOT EXISTS users (\n",
    "            user_id INTEGER PRIMARY KEY AUTOINCREMENT,\n",
    "            name TEXT,\n",
    "            age INTEGER,\n",
    "            email TEXT UNIQUE,\n",
    "            order_list TEXT,\n",
    "            interested_in TEXT\n",
    "        )\n",
    "    ''')\n",
    "\n",
    "def save_user(cursor, user: User):\n",
    "    \"\"\"Saves a User object to the database.\"\"\"\n",
    "    order_list_json = json.dumps(user.order_list) if user.order_list else None\n",
    "    interested_in_json = json.dumps(user.interested_in) if user.interested_in else None\n",
    "\n",
    "    if user.user_id is None: #insert new user\n",
    "        cursor.execute('''\n",
    "            INSERT INTO users (name, age, email, order_list, interested_in)\n",
    "            VALUES (?, ?, ?, ?, ?)\n",
    "        ''', (user.name, user.age, user.email, order_list_json, interested_in_json))\n",
    "        user.user_id = cursor.lastrowid #get the generated id\n",
    "    else: #update existing user\n",
    "         cursor.execute('''\n",
    "            UPDATE users SET name = ?, age = ?, email = ?, order_list = ?, interested_in = ?\n",
    "            WHERE user_id = ?\n",
    "        ''', (user.name, user.age, user.email, order_list_json, interested_in_json, user.user_id))\n",
    "\n",
    "def add_users_sample():\n",
    "    conn = connect_db()\n",
    "    cursor = conn.cursor()\n",
    "\n",
    "    create_table(cursor)\n",
    "\n",
    "    user1 = User(name=\"Alice\", age=30, email=\"alice@example.com\", order_list=[{\"item\": \"book\", \"quantity\": 1}], interested_in=[\"reading\", \"coding\"])\n",
    "    user2 = User(name=\"Bob\", age=25, email=\"bob@example.com\", interested_in=[\"sports\"])\n",
    "    user3 = User(name=\"Charlie\", age=35, email=\"charlie@example.com\", order_list=[], interested_in=[])\n",
    "\n",
    "    save_user(cursor, user1)\n",
    "    save_user(cursor, user2)\n",
    "    save_user(cursor, user3)\n",
    "\n",
    "    conn.commit()\n",
    "    conn.close()"
   ]
  },
  {
   "cell_type": "code",
   "execution_count": 7,
   "metadata": {},
   "outputs": [],
   "source": [
    "# add_users_sample()"
   ]
  },
  {
   "cell_type": "code",
   "execution_count": 8,
   "metadata": {},
   "outputs": [],
   "source": [
    "def fetch_user_info(email):\n",
    "    conn = connect_db()\n",
    "    cursor = conn.cursor()\n",
    "\n",
    "    cursor.execute(\"SELECT name, email, order_list, interested_in FROM users WHERE email=?\", (email,))\n",
    "    \n",
    "    user = cursor.fetchone()\n",
    "    conn.close()\n",
    "    \n",
    "    if user:\n",
    "        return {\n",
    "            \"name\": user[0],\n",
    "            \"email\": user[1],\n",
    "            \"order_list\": user[2],\n",
    "            \"interested_in\": user[3]\n",
    "        }\n",
    "    else:\n",
    "        return {\n",
    "            \"name\": \"Guest\",\n",
    "            \"email\": \"\",\n",
    "            \"order_list\": \"\",\n",
    "            \"interested_in\": \"\"\n",
    "        }"
   ]
  },
  {
   "cell_type": "code",
   "execution_count": 9,
   "metadata": {},
   "outputs": [
    {
     "name": "stdout",
     "output_type": "stream",
     "text": [
      "{\"name\": \"Alice\", \"email\": \"alice@example.com\", \"order_list\": \"[{\\\"item\\\": \\\"book\\\", \\\"quantity\\\": 1}]\", \"interested_in\": \"[\\\"reading\\\", \\\"coding\\\"]\"}\n"
     ]
    }
   ],
   "source": [
    "print(json.dumps(fetch_user_info(\"alice@example.com\")))"
   ]
  },
  {
   "cell_type": "code",
   "execution_count": 10,
   "metadata": {},
   "outputs": [
    {
     "name": "stdout",
     "output_type": "stream",
     "text": [
      "{'name': 'Alice', 'email': 'alice@example.com', 'order_list': '[{\"item\": \"book\", \"quantity\": 1}]', 'interested_in': '[\"reading\", \"coding\"]'}\n"
     ]
    }
   ],
   "source": [
    "user_info = fetch_user_info(\"alice@example.com\")\n",
    "print(user_info)"
   ]
  },
  {
   "cell_type": "code",
   "execution_count": 11,
   "metadata": {},
   "outputs": [],
   "source": [
    "def greet_user(state: EcommerceState):\n",
    "    print(state['user_info'])\n",
    "    return {\"message\": f\"Hello {state['user_info']['name']}! Welcome to our store. How can I assist you today?\"}"
   ]
  },
  {
   "cell_type": "code",
   "execution_count": 27,
   "metadata": {},
   "outputs": [],
   "source": [
    "def get_user_intent(state: EcommerceState):\n",
    "    user_input = state[1].lower()\n",
    "\n",
    "    if \"browse\" in user_input:\n",
    "        return \"browse\"\n",
    "    elif \"order\" in user_input:\n",
    "        return \"order_status\"\n",
    "    elif \"support\" in user_input:\n",
    "        return \"support\"\n",
    "    elif \"recommend\" in user_input:\n",
    "        return \"recommendations\"\n",
    "    else:\n",
    "        return \"unknown\""
   ]
  },
  {
   "cell_type": "code",
   "execution_count": 13,
   "metadata": {},
   "outputs": [],
   "source": [
    "def browse_product(state: EcommerceState):\n",
    "    return {\"message\": \"Here are some popular categories: Electronics, Fashion, Home & Kitchen. What interests you?\"}\n"
   ]
  },
  {
   "cell_type": "code",
   "execution_count": 14,
   "metadata": {},
   "outputs": [],
   "source": [
    "def check_order_status(state: EcommerceState):\n",
    "    return {\"message\": \"Please provide your order ID to check the status.\"}"
   ]
  },
  {
   "cell_type": "code",
   "execution_count": 15,
   "metadata": {},
   "outputs": [],
   "source": [
    "def customer_support(state: EcommerceState):\n",
    "    return {\"message\": \"What issue are you facing? I can assist with refunds, tracking, or general inquiries.\"}\n"
   ]
  },
  {
   "cell_type": "code",
   "execution_count": 16,
   "metadata": {},
   "outputs": [],
   "source": [
    "def personalized_recommendations(state: EcommerceState):\n",
    "    return {\"message\": f\"Based on your past orders: {state['user_info']['interested_in']}, you might like these items: [Product A], [Product B], [Product C].\"}\n"
   ]
  },
  {
   "cell_type": "code",
   "execution_count": 17,
   "metadata": {},
   "outputs": [],
   "source": [
    "def fallback(state: EcommerceState):\n",
    "    return {\"message\": \"I'm not sure how to assist with that. Can you please rephrase?\"}"
   ]
  },
  {
   "cell_type": "code",
   "execution_count": 18,
   "metadata": {},
   "outputs": [],
   "source": [
    "from langgraph.graph import Graph\n",
    "graph = Graph()"
   ]
  },
  {
   "cell_type": "code",
   "execution_count": 19,
   "metadata": {},
   "outputs": [
    {
     "data": {
      "text/plain": [
       "<langgraph.graph.graph.Graph at 0x26add6b7050>"
      ]
     },
     "execution_count": 19,
     "metadata": {},
     "output_type": "execute_result"
    }
   ],
   "source": [
    "graph.add_node(\"greet_user\",greet_user)\n",
    "graph.add_node(\"intent\", get_user_intent)\n",
    "graph.add_node(\"browse\", browse_product)\n",
    "graph.add_node(\"order_status\", check_order_status)\n",
    "graph.add_node(\"support\", customer_support)\n",
    "graph.add_node(\"recommendations\", personalized_recommendations)\n",
    "graph.add_node(\"fallback\", fallback)"
   ]
  },
  {
   "cell_type": "code",
   "execution_count": 20,
   "metadata": {},
   "outputs": [
    {
     "data": {
      "text/plain": [
       "<langgraph.graph.graph.Graph at 0x26add6b7050>"
      ]
     },
     "execution_count": 20,
     "metadata": {},
     "output_type": "execute_result"
    }
   ],
   "source": [
    "graph.add_edge(\"greet_user\", \"intent\")"
   ]
  },
  {
   "cell_type": "code",
   "execution_count": 21,
   "metadata": {},
   "outputs": [
    {
     "data": {
      "text/plain": [
       "<langgraph.graph.graph.Graph at 0x26add6b7050>"
      ]
     },
     "execution_count": 21,
     "metadata": {},
     "output_type": "execute_result"
    }
   ],
   "source": [
    "# Conditional routing\n",
    "def route_intent(state: EcommerceState):\n",
    "    intent = get_user_intent(state)\n",
    "    return {\n",
    "        \"browse\": \"browse\",\n",
    "        \"order_status\": \"order_status\",\n",
    "        \"support\": \"support\",\n",
    "        \"recommendations\": \"recommendations\"\n",
    "    }.get(intent, \"fallback\")\n",
    "\n",
    "graph.add_conditional_edges(\n",
    "    \"intent\",\n",
    "    route_intent,\n",
    "    {\n",
    "        \"browse\": \"browse\",\n",
    "        \"order_status\": \"order_status\",\n",
    "        \"support\": \"support\",\n",
    "        \"recommendations\": \"recommendations\",\n",
    "        \"fallback\": \"fallback\"\n",
    "    }\n",
    ")"
   ]
  },
  {
   "cell_type": "code",
   "execution_count": 22,
   "metadata": {},
   "outputs": [
    {
     "data": {
      "text/plain": [
       "<langgraph.graph.graph.Graph at 0x26add6b7050>"
      ]
     },
     "execution_count": 22,
     "metadata": {},
     "output_type": "execute_result"
    }
   ],
   "source": [
    "graph.set_entry_point(\"intent\")"
   ]
  },
  {
   "cell_type": "code",
   "execution_count": 23,
   "metadata": {},
   "outputs": [],
   "source": [
    "user_input = \"I want recommendations\""
   ]
  },
  {
   "cell_type": "code",
   "execution_count": 24,
   "metadata": {},
   "outputs": [],
   "source": [
    "workflow = graph.compile()"
   ]
  },
  {
   "cell_type": "code",
   "execution_count": 25,
   "metadata": {},
   "outputs": [],
   "source": [
    "initial_state = EcommerceState(\n",
    "    user_info=user_info,\n",
    "    user_input=user_input\n",
    ")"
   ]
  },
  {
   "cell_type": "code",
   "execution_count": 28,
   "metadata": {},
   "outputs": [],
   "source": [
    "result = workflow.invoke(initial_state)"
   ]
  },
  {
   "cell_type": "code",
   "execution_count": 29,
   "metadata": {},
   "outputs": [
    {
     "name": "stdout",
     "output_type": "stream",
     "text": [
      "None\n"
     ]
    }
   ],
   "source": [
    "print(result)"
   ]
  },
  {
   "cell_type": "code",
   "execution_count": null,
   "metadata": {},
   "outputs": [],
   "source": []
  }
 ],
 "metadata": {
  "kernelspec": {
   "display_name": "myenv",
   "language": "python",
   "name": "python3"
  },
  "language_info": {
   "codemirror_mode": {
    "name": "ipython",
    "version": 3
   },
   "file_extension": ".py",
   "mimetype": "text/x-python",
   "name": "python",
   "nbconvert_exporter": "python",
   "pygments_lexer": "ipython3",
   "version": "3.12.9"
  }
 },
 "nbformat": 4,
 "nbformat_minor": 2
}
