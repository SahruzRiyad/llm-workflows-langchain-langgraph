{
 "cells": [
  {
   "cell_type": "code",
   "execution_count": 1,
   "id": "273166d8",
   "metadata": {},
   "outputs": [],
   "source": [
    "import os\n",
    "from dotenv import load_dotenv\n",
    "\n",
    "load_dotenv()\n",
    "\n",
    "os.environ['OPENAI_API_KEY'] = os.getenv('OPENAI_API_KEY')"
   ]
  },
  {
   "cell_type": "code",
   "execution_count": 2,
   "id": "b7df8e8c",
   "metadata": {},
   "outputs": [],
   "source": [
    "# !pip install playwright"
   ]
  },
  {
   "cell_type": "code",
   "execution_count": 3,
   "id": "ab9339b9",
   "metadata": {},
   "outputs": [],
   "source": [
    "# !pip install tabulate"
   ]
  },
  {
   "cell_type": "code",
   "execution_count": 4,
   "id": "9482b94b",
   "metadata": {},
   "outputs": [],
   "source": [
    "import asyncio\n",
    "import json\n",
    "import os\n",
    "import nest_asyncio\n",
    "import pprint\n",
    "import base64\n",
    "from io import BytesIO\n",
    "import pandas as pd\n",
    "from playwright.async_api import async_playwright\n",
    "from openai import OpenAI\n",
    "from PIL import Image\n",
    "from tabulate import tabulate\n",
    "from IPython.display import display, HTML, Markdown\n",
    "from pydantic import BaseModel\n",
    "from helper import visualizeCourses"
   ]
  },
  {
   "cell_type": "code",
   "execution_count": 5,
   "id": "88ac1886",
   "metadata": {},
   "outputs": [],
   "source": [
    "nest_asyncio.apply()"
   ]
  },
  {
   "cell_type": "code",
   "execution_count": 6,
   "id": "b02a9a34",
   "metadata": {},
   "outputs": [],
   "source": [
    "class WebScraperAgent:\n",
    "    def __init__(self):\n",
    "        self.playwright = None\n",
    "        self.browser = None\n",
    "        self.page = None\n",
    "\n",
    "    async def init_browser(self):\n",
    "        try:\n",
    "            self.playwright = await async_playwright().start()\n",
    "            self.browser = await self.playwright.chromium.launch(\n",
    "                headless=True,\n",
    "                args=[\n",
    "                    \"--disable-dev-shm-usage\",\n",
    "                    \"--no-sandbox\",\n",
    "                    \"--disable-setuid-sandbox\",\n",
    "                    \"--disable-accelerated-2d-canvas\",\n",
    "                    \"--disable-gpu\",\n",
    "                    \"--no-zygote\",\n",
    "                    \"--disable-audio-output\",\n",
    "                    \"--disable-software-rasterizer\",\n",
    "                    \"--disable-webgl\",\n",
    "                    \"--disable-web-security\",\n",
    "                    \"--disable-features=LazyFrameLoading\",\n",
    "                    \"--disable-features=IsolateOrigins\",\n",
    "                    \"--disable-background-networking\"\n",
    "                ]\n",
    "            )\n",
    "            self.page = await self.browser.new_page()\n",
    "        \n",
    "        except Exception as e:\n",
    "            print(f\"❌ Browser initialization failed: {e}\")\n",
    "            await self.close()  # Clean up partial initialization\n",
    "            raise  # Re-raise to halt execution\n",
    "\n",
    "\n",
    "    async def scrape_content(self, url):\n",
    "        if not self.page or self.page.is_closed():\n",
    "            await self.init_browser()\n",
    "        await self.page.goto(url, wait_until=\"load\")\n",
    "        await self.page.wait_for_timeout(2000)  # Wait for dynamic content\n",
    "        return await self.page.content()\n",
    "\n",
    "    async def take_screenshot(self, path=\"screenshot.png\"):\n",
    "        await self.page.screenshot(path=path, full_page=True)\n",
    "        return path\n",
    "    async def screenshot_buffer(self):\n",
    "        screenshot_bytes = await self.page.screenshot(type=\"png\", full_page=False)\n",
    "        return screenshot_bytes\n",
    "\n",
    "    async def close(self):\n",
    "        try:\n",
    "            if self.page and not self.page.is_closed():\n",
    "                await self.page.close()\n",
    "            if self.browser:\n",
    "                await self.browser.close()\n",
    "            if self.playwright:\n",
    "                await self.playwright.stop()\n",
    "        except Exception as e:\n",
    "            print(f\"⚠️ Cleanup error (ignored): {e}\")\n",
    "        finally:\n",
    "            self.page = None\n",
    "            self.browser = None\n",
    "            self.playwright = None"
   ]
  },
  {
   "cell_type": "code",
   "execution_count": 7,
   "id": "fb335228",
   "metadata": {},
   "outputs": [],
   "source": [
    "scraper = WebScraperAgent()"
   ]
  },
  {
   "cell_type": "code",
   "execution_count": 8,
   "id": "d8912b11",
   "metadata": {},
   "outputs": [],
   "source": [
    "class DeeplearningCourse(BaseModel):\n",
    "    title: str\n",
    "    description: str\n",
    "    presenter: list[str]\n",
    "    imageUrl: str\n",
    "    courseURL: str\n",
    "\n",
    "class DeeplearningCourseList(BaseModel):\n",
    "    courses: list[DeeplearningCourse]"
   ]
  },
  {
   "cell_type": "code",
   "execution_count": 9,
   "id": "701fca81",
   "metadata": {},
   "outputs": [],
   "source": [
    "client = OpenAI()"
   ]
  },
  {
   "cell_type": "code",
   "execution_count": 10,
   "id": "050d6c33",
   "metadata": {},
   "outputs": [],
   "source": [
    "async def process_with_llm(html, instructions, truncate = False):\n",
    "    completion = client.beta.chat.completions.parse(\n",
    "        model=\"gpt-4o-mini-2024-07-18\",\n",
    "        messages=[{\n",
    "            \"role\": \"system\",\n",
    "            \"content\": f\"\"\"\n",
    "            You are an expert web scraping agent. Your task is to:\n",
    "            Extract relevant information from this HTML to JSON \n",
    "            following these instructions:\n",
    "            {instructions}\n",
    "            \n",
    "            Extract the title, description, presenter, \n",
    "            the image URL and course URL for each of \n",
    "            all the courses for the deeplearning.ai website\n",
    "\n",
    "            Return ONLY valid JSON, no markdown or extra text.\"\"\"\n",
    "        }, {\n",
    "            \"role\": \"user\",\n",
    "            \"content\": html[:150000]  # Truncate to stay under token limits\n",
    "        }],\n",
    "        temperature=0.1,\n",
    "        response_format=DeeplearningCourseList,\n",
    "        )\n",
    "    return completion.choices[0].message.parsed"
   ]
  },
  {
   "cell_type": "code",
   "execution_count": 11,
   "id": "17fba297",
   "metadata": {},
   "outputs": [],
   "source": [
    "async def webscraper(target_url, instructions):\n",
    "    result = None\n",
    "    screenshot = None\n",
    "\n",
    "    try:\n",
    "        print(\"Initializing browser...\")\n",
    "        await scraper.init_browser()  # Explicit initialization\n",
    "\n",
    "        # Scrape content and capture screenshot\n",
    "        print(\"Extracting HTML Content \\n\")\n",
    "        html_content = await scraper.scrape_content(target_url)\n",
    "\n",
    "        print(\"Taking Screenshot \\n\")\n",
    "        screenshot = await scraper.screenshot_buffer()\n",
    "        # Process content\n",
    "\n",
    "        print(\"Processing..\")\n",
    "        result: DeeplearningCourseList = await process_with_llm(html_content, instructions, False)\n",
    "        print(\"\\nGenerated Structured Response\")\n",
    "\n",
    "    except Exception as e:\n",
    "        print(f\"❌ Error: {str(e)}\")\n",
    "        \n",
    "    finally:\n",
    "        await scraper.close()\n",
    "\n",
    "    return result, screenshot"
   ]
  },
  {
   "cell_type": "code",
   "execution_count": 12,
   "id": "442d410d",
   "metadata": {},
   "outputs": [],
   "source": [
    "target_url = \"https://www.deeplearning.ai/courses\"  # Deeplearning AI courses\n",
    "base_url=\"https://deeplearning.ai\""
   ]
  },
  {
   "cell_type": "code",
   "execution_count": 13,
   "id": "81390ae6",
   "metadata": {},
   "outputs": [
    {
     "name": "stdout",
     "output_type": "stream",
     "text": [
      "Initializing browser...\n",
      "❌ Browser initialization failed: \n",
      "❌ Error: \n"
     ]
    }
   ],
   "source": [
    "instructions = \"\"\"\n",
    "    Get all the courses\n",
    "\"\"\"\n",
    "result, screenshot = await webscraper(target_url, instructions)"
   ]
  },
  {
   "cell_type": "code",
   "execution_count": 14,
   "id": "6d66ca09",
   "metadata": {},
   "outputs": [
    {
     "name": "stdout",
     "output_type": "stream",
     "text": [
      "None\n"
     ]
    }
   ],
   "source": [
    "print(result)"
   ]
  }
 ],
 "metadata": {
  "kernelspec": {
   "display_name": "myenv",
   "language": "python",
   "name": "python3"
  },
  "language_info": {
   "codemirror_mode": {
    "name": "ipython",
    "version": 3
   },
   "file_extension": ".py",
   "mimetype": "text/x-python",
   "name": "python",
   "nbconvert_exporter": "python",
   "pygments_lexer": "ipython3",
   "version": "3.12.10"
  }
 },
 "nbformat": 4,
 "nbformat_minor": 5
}
