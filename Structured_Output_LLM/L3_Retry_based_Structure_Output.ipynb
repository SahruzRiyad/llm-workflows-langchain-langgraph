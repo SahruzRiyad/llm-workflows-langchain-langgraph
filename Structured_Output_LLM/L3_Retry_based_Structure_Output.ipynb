{
 "cells": [
  {
   "cell_type": "code",
   "execution_count": 1,
   "id": "0b67f693",
   "metadata": {},
   "outputs": [],
   "source": [
    "import os\n",
    "from dotenv import load_dotenv\n",
    "\n",
    "load_dotenv()\n",
    "\n",
    "os.environ[\"OPENAI_API_KEY\"] = os.getenv(\"OPENAI_API_KEY\")"
   ]
  },
  {
   "cell_type": "code",
   "execution_count": 4,
   "id": "e5c5ae5d",
   "metadata": {},
   "outputs": [],
   "source": [
    "from openai import OpenAI\n",
    "\n",
    "client = OpenAI()"
   ]
  },
  {
   "cell_type": "code",
   "execution_count": 7,
   "id": "e1dd27c7",
   "metadata": {},
   "outputs": [],
   "source": [
    "import instructor"
   ]
  },
  {
   "cell_type": "code",
   "execution_count": 9,
   "id": "5fedef93",
   "metadata": {},
   "outputs": [
    {
     "data": {
      "text/plain": [
       "'Hey! Not much, just here to help. What’s up with you?'"
      ]
     },
     "execution_count": 9,
     "metadata": {},
     "output_type": "execute_result"
    }
   ],
   "source": [
    "response = client.chat.completions.create(\n",
    "    model='gpt-4o-mini',\n",
    "    messages=[\n",
    "        {'role': 'user', 'content': 'sup'}\n",
    "    ]\n",
    ")\n",
    "\n",
    "response.choices[0].message.content"
   ]
  },
  {
   "cell_type": "code",
   "execution_count": 10,
   "id": "64aed2e1",
   "metadata": {},
   "outputs": [],
   "source": [
    "#Adding instructor\n",
    "instructor_client = instructor.from_openai(client)"
   ]
  },
  {
   "cell_type": "code",
   "execution_count": 11,
   "id": "342b48e1",
   "metadata": {},
   "outputs": [],
   "source": [
    "from pydantic import BaseModel\n",
    "\n",
    "class Greeting(BaseModel):\n",
    "    hello: str"
   ]
  },
  {
   "cell_type": "code",
   "execution_count": 15,
   "id": "be422d65",
   "metadata": {},
   "outputs": [
    {
     "data": {
      "text/plain": [
       "Greeting(hello='sup')"
      ]
     },
     "execution_count": 15,
     "metadata": {},
     "output_type": "execute_result"
    }
   ],
   "source": [
    "response = instructor_client.chat.completions.create(\n",
    "    model='gpt-4o-mini',\n",
    "    messages = [{\n",
    "        \"role\": \"user\", \n",
    "        \"content\": 'sup'\n",
    "    }], \n",
    "    response_model=Greeting\n",
    ")\n",
    "\n",
    "response"
   ]
  },
  {
   "cell_type": "code",
   "execution_count": 16,
   "id": "31d4dfcd",
   "metadata": {},
   "outputs": [],
   "source": [
    "from pydantic import Field \n",
    "from datetime import date \n",
    "from typing import List \n",
    "\n",
    "class Person(BaseModel):\n",
    "    name: str\n",
    "\n",
    "class CalenderEvent(BaseModel):\n",
    "    name: str \n",
    "\n",
    "    date: date\n",
    "    participants: List[Person]\n",
    "\n",
    "    address_number: str \n",
    "    street_name: str\n",
    "    city_name: str \n",
    "\n",
    "    state_code: str = Field(pattern=r'[A-Z]{2}') #two letter state_code\n",
    "    zip_code: str = Field(pattern=r'\\d{5}') # 5 digits zip code"
   ]
  },
  {
   "cell_type": "code",
   "execution_count": 17,
   "id": "6e6653a6",
   "metadata": {},
   "outputs": [],
   "source": [
    "event_description = \"\"\"\n",
    "Alice and Bob are going to a science fair on Friday, January 2024.\n",
    "The science fair is hosted at the gymnasium of Hazeldale Elementary\n",
    "School at 20080 SW Farmington Road in Beaverton Oregon.\n",
    "\"\"\""
   ]
  },
  {
   "cell_type": "code",
   "execution_count": 18,
   "id": "c5832dce",
   "metadata": {},
   "outputs": [],
   "source": [
    "def generate(\n",
    "    response_model,\n",
    "    user_prompt, \n",
    "    system_prompt=\"Your are a helpful assistant\",\n",
    "    model=\"gpt-4o-mini\",\n",
    "    max_retries=3\n",
    "):\n",
    "    event = instructor_client.chat.completions.create(\n",
    "        model=model,\n",
    "        messages=[\n",
    "            {'role': 'system', 'content': system_prompt},\n",
    "            {'role': 'user', 'content': user_prompt},\n",
    "        ],\n",
    "        response_model=response_model,\n",
    "        max_retries=max_retries\n",
    "    )  \n",
    "\n",
    "    return event "
   ]
  },
  {
   "cell_type": "code",
   "execution_count": 19,
   "id": "9543a2d4",
   "metadata": {},
   "outputs": [],
   "source": [
    "system_prompt = \"\"\" \n",
    "Make a calendar event. Respond in JSON with\n",
    "the event name, date, list of participants,\n",
    "and the address.\n",
    "\"\"\"\n",
    "\n",
    "user_prompt = \"Event Description: \"+ event_description\n",
    "event = generate(\n",
    "    CalenderEvent,\n",
    "    user_prompt,\n",
    "    system_prompt\n",
    ")"
   ]
  },
  {
   "cell_type": "code",
   "execution_count": 20,
   "id": "61686aa0",
   "metadata": {},
   "outputs": [
    {
     "data": {
      "text/plain": [
       "CalenderEvent(name='Science Fair', date=datetime.date(2024, 1, 5), participants=[Person(name='Alice'), Person(name='Bob')], address_number='20080', street_name='SW Farmington Road', city_name='Beaverton', state_code='OR', zip_code='97007')"
      ]
     },
     "execution_count": 20,
     "metadata": {},
     "output_type": "execute_result"
    }
   ],
   "source": [
    "event"
   ]
  },
  {
   "cell_type": "markdown",
   "id": "f8be82b1",
   "metadata": {},
   "source": [
    "Retries"
   ]
  },
  {
   "cell_type": "code",
   "execution_count": 30,
   "id": "3aab23d1",
   "metadata": {},
   "outputs": [
    {
     "name": "stdout",
     "output_type": "stream",
     "text": [
      "Files in current directory: ['L2_Structure_Outptut_BaseModel.ipynb', 'L3_Retry_based_Structure_Output.ipynb', 'utils.py']\n"
     ]
    }
   ],
   "source": [
    "import os\n",
    "\n",
    "print(\"Files in current directory:\", os.listdir())"
   ]
  },
  {
   "cell_type": "code",
   "execution_count": 38,
   "id": "e1922b29",
   "metadata": {},
   "outputs": [],
   "source": [
    "from custom_utils import UsageTracker\n",
    "\n",
    "\n",
    "instructor_client.clear(\"completion:response\") # duplicate writes to the usage tracker.\n",
    "\n",
    "tracker = UsageTracker()\n",
    "\n",
    "# Define a custom instructor hook and update the\n",
    "# tracker when a new completion runs.\n",
    "def log_completion_kwargs(*args, **kwargs):\n",
    "    usage = args[0].usage\n",
    "    tracker.track(usage)\n",
    "\n",
    "# run each time the server returns a chat completion to us.\n",
    "instructor_client.on(\"completion:response\", log_completion_kwargs)\n"
   ]
  },
  {
   "cell_type": "code",
   "execution_count": 39,
   "id": "8672ff71",
   "metadata": {},
   "outputs": [
    {
     "data": {
      "text/plain": [
       "CalenderEvent(name='Science Fair', date=datetime.date(2024, 1, 5), participants=[Person(name='Alice'), Person(name='Bob')], address_number='20080', street_name='SW Farmington Road', city_name='Beaverton', state_code='OR', zip_code='97007')"
      ]
     },
     "execution_count": 39,
     "metadata": {},
     "output_type": "execute_result"
    }
   ],
   "source": [
    "# Clear the tracker before we run the completion\n",
    "# so we arent' tracking multiple jobs.\n",
    "tracker.clear()\n",
    "\n",
    "\n",
    "event = generate(\n",
    "    CalenderEvent,\n",
    "    user_prompt, \n",
    "    system_prompt=system_prompt,\n",
    "    max_retries=4,\n",
    ")\n",
    "\n",
    "event"
   ]
  },
  {
   "cell_type": "code",
   "execution_count": 40,
   "id": "ad98f6bf",
   "metadata": {},
   "outputs": [
    {
     "name": "stdout",
     "output_type": "stream",
     "text": [
      "Input tokens:   [235]\n",
      "Output tokens:  [60]\n",
      "Total tokens:   295\n",
      "Num retries:    1\n"
     ]
    }
   ],
   "source": [
    "print(\"Input tokens:  \", tracker.input_tokens)\n",
    "print(\"Output tokens: \", tracker.output_tokens)\n",
    "print(\"Total tokens:  \", sum(tracker.total_tokens))\n",
    "print(\"Num retries:   \", len(tracker.output_tokens))"
   ]
  },
  {
   "cell_type": "markdown",
   "id": "47bb6cb1",
   "metadata": {},
   "source": [
    "When retry method fails"
   ]
  },
  {
   "cell_type": "code",
   "execution_count": 41,
   "id": "21b57270",
   "metadata": {},
   "outputs": [],
   "source": [
    "from typing import Literal\n",
    "\n",
    "class Complicated(BaseModel):\n",
    "    # a must be cat, dog, or hat\n",
    "    a: Literal[\"cat\", \"dog\", \"hat\"]\n",
    "    b: int\n",
    "    c: bool\n"
   ]
  },
  {
   "cell_type": "code",
   "execution_count": 54,
   "id": "7bbbe0da",
   "metadata": {},
   "outputs": [
    {
     "name": "stdout",
     "output_type": "stream",
     "text": [
      "a='hat' b=5 c=True\n"
     ]
    }
   ],
   "source": [
    "# Clear the tracker before we run the completion\n",
    "# so we arent' tracking multiple jobs.\n",
    "tracker.clear()\n",
    "\n",
    "try:\n",
    "    event = generate(\n",
    "        Complicated, \n",
    "        \"Write me a short essay on Dolly Parton.\", \n",
    "        system_prompt=\"Don't generate anyting\",\n",
    "        max_retries=3,\n",
    "    )\n",
    "\n",
    "    # Show the event\n",
    "    print(event)\n",
    "except instructor.exceptions.InstructorRetryException as e : \n",
    "    print(\"We failed to parse!\")\n",
    "except Exception as e:\n",
    "    raise e"
   ]
  },
  {
   "cell_type": "code",
   "execution_count": 55,
   "id": "8673b25a",
   "metadata": {},
   "outputs": [
    {
     "name": "stdout",
     "output_type": "stream",
     "text": [
      "Input tokens:   [101]\n",
      "Output tokens:  [14]\n",
      "Total tokens:   115\n",
      "Num retries:    1\n"
     ]
    }
   ],
   "source": [
    "print(\"Input tokens:  \", tracker.input_tokens)\n",
    "print(\"Output tokens: \", tracker.output_tokens)\n",
    "print(\"Total tokens:  \", sum(tracker.total_tokens))\n",
    "print(\"Num retries:   \", len(tracker.output_tokens))"
   ]
  }
 ],
 "metadata": {
  "kernelspec": {
   "display_name": "myenv",
   "language": "python",
   "name": "python3"
  },
  "language_info": {
   "codemirror_mode": {
    "name": "ipython",
    "version": 3
   },
   "file_extension": ".py",
   "mimetype": "text/x-python",
   "name": "python",
   "nbconvert_exporter": "python",
   "pygments_lexer": "ipython3",
   "version": "3.12.9"
  }
 },
 "nbformat": 4,
 "nbformat_minor": 5
}
