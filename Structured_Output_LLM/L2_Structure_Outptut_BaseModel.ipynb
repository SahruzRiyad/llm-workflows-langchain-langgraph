{
 "cells": [
  {
   "cell_type": "code",
   "execution_count": null,
   "id": "dc5eb1f6",
   "metadata": {},
   "outputs": [],
   "source": [
    "import os\n",
    "from dotenv import load_dotenv\n",
    "\n",
    "load_dotenv()\n",
    "\n",
    "openai_api_key = os.getenv(\"OPENAI_API_KEY\")\n",
    "\n",
    "os.environ[\"OPENAI_API_KEY\"] = openai_api_key\n"
   ]
  },
  {
   "cell_type": "code",
   "execution_count": 4,
   "id": "59e1aa40",
   "metadata": {},
   "outputs": [],
   "source": [
    "from openai import OpenAI\n",
    "\n",
    "client = OpenAI()"
   ]
  },
  {
   "cell_type": "code",
   "execution_count": 2,
   "id": "1e805a0f",
   "metadata": {},
   "outputs": [],
   "source": [
    "from pydantic import BaseModel\n",
    "from typing import Optional"
   ]
  },
  {
   "cell_type": "code",
   "execution_count": 3,
   "id": "2b94665c",
   "metadata": {},
   "outputs": [],
   "source": [
    "class User(BaseModel):\n",
    "    name: str\n",
    "    age: int\n",
    "    email: Optional[str] = None "
   ]
  },
  {
   "cell_type": "code",
   "execution_count": 5,
   "id": "08f85b8b",
   "metadata": {},
   "outputs": [],
   "source": [
    "completion = client.beta.chat.completions.parse(\n",
    "    model= \"gpt-4o-mini\",\n",
    "    messages=[\n",
    "        {\"role\": \"system\", \"content\": \"You are a helpful assistant.\"},\n",
    "        {\"role\": \"user\", \"content\": \"Make up a user.\"},\n",
    "    ],\n",
    "    response_format=User\n",
    ")"
   ]
  },
  {
   "cell_type": "code",
   "execution_count": 6,
   "id": "67925e9f",
   "metadata": {},
   "outputs": [
    {
     "data": {
      "text/plain": [
       "User(name='Alice Johnson', age=30, email='alice.johnson@example.com')"
      ]
     },
     "execution_count": 6,
     "metadata": {},
     "output_type": "execute_result"
    }
   ],
   "source": [
    "user = completion.choices[0].message.parsed\n",
    "user"
   ]
  },
  {
   "cell_type": "markdown",
   "id": "657d06c0",
   "metadata": {},
   "source": [
    "The social media mention structure"
   ]
  },
  {
   "cell_type": "code",
   "execution_count": 7,
   "id": "e47961a8",
   "metadata": {},
   "outputs": [],
   "source": [
    "from enum import Enum\n",
    "from typing import List, Literal\n",
    "\n",
    "class Mention(BaseModel):\n",
    "\n",
    "    product: Literal['app','website','not_applicable'] # Use to choose from these\n",
    "    sentiment: Literal['positive','negative','neutral']\n",
    "\n",
    "    need_response: bool # can choose response to user\n",
    "    response: Optional[str]\n",
    "\n",
    "\n",
    "    support_ticket_descripton: Optional[str] # If support ticket need to open, model write description for developers"
   ]
  },
  {
   "cell_type": "code",
   "execution_count": 8,
   "id": "c55d02fe",
   "metadata": {},
   "outputs": [],
   "source": [
    "# Example\n",
    "mentions = [\n",
    "    # About the app\n",
    "    \"@techcorp your app is amazing! The new design is perfect\",\n",
    "    # Website is down, negative sentiment + needs a fix\n",
    "    \"@techcorp website is down again, please fix!\",\n",
    "    # Nothing to respond to\n",
    "    \"hey @techcorp you're so evil\"\n",
    "]"
   ]
  },
  {
   "cell_type": "code",
   "execution_count": 9,
   "id": "37586f33",
   "metadata": {},
   "outputs": [],
   "source": [
    "def analyze_mention(mention: str, personality: str=\"friendly\")-> Mention:\n",
    "    completions = client.beta.chat.completions.parse(\n",
    "        model = \"gpt-4o-mini\",\n",
    "        messages=[\n",
    "            {\n",
    "                \"role\": \"system\",\n",
    "                \"content\": f\"\"\"\n",
    "                    Extract structured information from \n",
    "                    social media mentions about our products.\n",
    "\n",
    "                    Provide\n",
    "                    - The product mentioned (website, app, not applicable)\n",
    "                    - The mention sentiment (positive, negative, neutral)\n",
    "                    - Whether to respond (true/false). Don't respond to \n",
    "                    inflammatory messages or bait.\n",
    "                    - A customized response to send to the user if we need \n",
    "                    to respond.\n",
    "                    - An optional support ticket description to create.\n",
    "\n",
    "                    Your personality is {personality}.\n",
    "                \"\"\"\n",
    "            },\n",
    "            {\"role\": \"user\", \"content\": mention}\n",
    "        ],\n",
    "        response_format=Mention\n",
    "    )\n",
    "\n",
    "    return completions.choices[0].message.parsed"
   ]
  },
  {
   "cell_type": "code",
   "execution_count": 14,
   "id": "81a04a6b",
   "metadata": {},
   "outputs": [
    {
     "name": "stdout",
     "output_type": "stream",
     "text": [
      "User post: @techcorp your app is amazing! The new design is perfect\n"
     ]
    },
    {
     "data": {
      "text/plain": [
       "Mention(product='app', sentiment='positive', need_response=True, response=\"Thank you so much for your kind words! We're thrilled to hear you love the new design. If you have any feedback or suggestions, feel free to share!\", support_ticket_descripton=None)"
      ]
     },
     "execution_count": 14,
     "metadata": {},
     "output_type": "execute_result"
    }
   ],
   "source": [
    "print(\"User post:\", mentions[0])\n",
    "processed_mention = analyze_mention(mentions[0])\n",
    "processed_mention"
   ]
  },
  {
   "cell_type": "code",
   "execution_count": 15,
   "id": "b1edb38b",
   "metadata": {},
   "outputs": [
    {
     "data": {
      "text/plain": [
       "\"Thanks for the compliment! We're glad you love the new design, but try not to get too attached. We change things around for fun sometimes.\""
      ]
     },
     "execution_count": 15,
     "metadata": {},
     "output_type": "execute_result"
    }
   ],
   "source": [
    "rude_mention = analyze_mention(mentions[0], personality=\"rude\")\n",
    "rude_mention.response"
   ]
  },
  {
   "cell_type": "code",
   "execution_count": 16,
   "id": "ad37c78f",
   "metadata": {},
   "outputs": [
    {
     "name": "stdout",
     "output_type": "stream",
     "text": [
      "{\n",
      "  \"product\": \"app\",\n",
      "  \"sentiment\": \"positive\",\n",
      "  \"need_response\": true,\n",
      "  \"response\": \"Thank you so much for your kind words! We're thrilled to hear you love the new design. If you have any feedback or suggestions, feel free to share!\",\n",
      "  \"support_ticket_descripton\": null\n",
      "}\n"
     ]
    }
   ],
   "source": [
    "mention_json_string = processed_mention.model_dump_json(indent=2)\n",
    "print(mention_json_string)"
   ]
  },
  {
   "cell_type": "markdown",
   "id": "6a5ffff6",
   "metadata": {},
   "source": [
    "Extra Practice"
   ]
  },
  {
   "cell_type": "code",
   "execution_count": 17,
   "id": "79d64ef4",
   "metadata": {},
   "outputs": [],
   "source": [
    "class UserPost(BaseModel):\n",
    "    message: str"
   ]
  },
  {
   "cell_type": "code",
   "execution_count": 18,
   "id": "9026d102",
   "metadata": {},
   "outputs": [
    {
     "data": {
      "text/plain": [
       "UserPost(message='🌟 Love the new updates on the Tech Corp app! The user interface is so intuitive and smooth! 🙌 It makes managing my tasks so much easier. Keep up the great work! 👍 #TechCorp #UserFriendly')"
      ]
     },
     "execution_count": 18,
     "metadata": {},
     "output_type": "execute_result"
    }
   ],
   "source": [
    "def make_post(output_class):\n",
    "    completion = client.beta.chat.completions.parse(\n",
    "        model=\"gpt-4o-mini\",\n",
    "        messages=[\n",
    "            {\n",
    "                'role': 'system',\n",
    "                'content': f\"\"\" \n",
    "                    You are a customer of Tech Corp (@techcorp), a company\n",
    "                    that provides an app and a website. Create a small \n",
    "                    microblog-style post to them that sends some kind of \n",
    "                    feedback, positive or negative.\n",
    "                \"\"\"\n",
    "            },\n",
    "            {'role': 'user', 'content': \"Write a post please\"},\n",
    "        ],\n",
    "        response_format=output_class\n",
    "    )\n",
    "\n",
    "    return completion.choices[0].message.parsed\n",
    "\n",
    "\n",
    "new_post = make_post(UserPost)\n",
    "new_post"
   ]
  },
  {
   "cell_type": "code",
   "execution_count": 19,
   "id": "3f9ac8f3",
   "metadata": {},
   "outputs": [
    {
     "data": {
      "text/plain": [
       "Mention(product='app', sentiment='positive', need_response=True, response=\"Thank you so much for your kind words! 🌟 We're thrilled to hear that you love the new updates and find the app user-friendly. Your feedback keeps us motivated to improve! If you have any suggestions, feel free to share. 😊\", support_ticket_descripton=None)"
      ]
     },
     "execution_count": 19,
     "metadata": {},
     "output_type": "execute_result"
    }
   ],
   "source": [
    "analyze_mention(new_post.message)"
   ]
  },
  {
   "cell_type": "code",
   "execution_count": 20,
   "id": "275db130",
   "metadata": {},
   "outputs": [
    {
     "data": {
      "text/plain": [
       "UserPostWithExtras(user_mood='bad', product='app', sentiment='negative', internal_monologue=['Why is the app crashing so much lately?', 'I need to get my tasks done but the app keeps freezing.', 'This is so frustrating!'], message=\"I've been having so many issues with the app lately. It keeps crashing in the middle of my tasks, which is really frustrating. Hope you can fix these bugs soon!\")"
      ]
     },
     "execution_count": 20,
     "metadata": {},
     "output_type": "execute_result"
    }
   ],
   "source": [
    "class UserPostWithExtras(BaseModel):\n",
    "    user_mood: Literal[\"awful\",\"bad\",\"evil\"]\n",
    "    product: Literal['app','website','not_applicable']\n",
    "    sentiment: Literal['positive','negative','neutral']\n",
    "    internal_monologue: List[str]\n",
    "    message: str\n",
    "\n",
    "new_post = make_post(UserPostWithExtras)\n",
    "new_post"
   ]
  },
  {
   "cell_type": "code",
   "execution_count": 21,
   "id": "efe978ca",
   "metadata": {},
   "outputs": [
    {
     "data": {
      "text/plain": [
       "Mention(product='app', sentiment='negative', need_response=True, response=\"Hi there! I'm really sorry to hear you're experiencing crashes with our app. We understand how frustrating that can be. Could you provide us with more details about the device you're using or the actions leading to the crashes? This will help us resolve the issues more effectively. Thank you for your patience!\", support_ticket_descripton='User is experiencing app crashes. Needs investigation and bug fixing.')"
      ]
     },
     "execution_count": 21,
     "metadata": {},
     "output_type": "execute_result"
    }
   ],
   "source": [
    "analyze_mention(new_post.message)"
   ]
  },
  {
   "cell_type": "markdown",
   "id": "0cf187ac",
   "metadata": {},
   "source": [
    "Save data into pd dataframe"
   ]
  },
  {
   "cell_type": "code",
   "execution_count": 23,
   "id": "5492e34a",
   "metadata": {},
   "outputs": [
    {
     "name": "stdout",
     "output_type": "stream",
     "text": [
      "product='app' sentiment='positive' need_response=True response=\"Thank you so much for your kind words! We're thrilled to hear you love the new design of our app! If you have any suggestions or feedback, feel free to share!\" support_ticket_descripton=None @techcorp your app is amazing! The new design is perfect\n",
      "\n",
      "product='website' sentiment='negative' need_response=True response=\"Hi there! We're sorry to hear that you're having trouble accessing our website. Our team is currently looking into it, and we appreciate your patience! If you have any specific issues, feel free to share them with us.\" support_ticket_descripton='User reports that the website is down and requests immediate attention.' @techcorp website is down again, please fix!\n",
      "\n",
      "product='not_applicable' sentiment='negative' need_response=False response=None support_ticket_descripton=None hey @techcorp you're so evil\n",
      "\n"
     ]
    }
   ],
   "source": [
    "rows = []\n",
    "for mention in mentions:\n",
    "    processed_mention = analyze_mention(mention)\n",
    "\n",
    "    print(processed_mention,mention)\n",
    "\n",
    "    processed_dict = processed_mention.model_dump()\n",
    "\n",
    "    processed_dict['mention'] = mention\n",
    "    rows.append(processed_dict)\n",
    "\n",
    "    print(\"\")"
   ]
  },
  {
   "cell_type": "code",
   "execution_count": 24,
   "id": "e79551e6",
   "metadata": {},
   "outputs": [
    {
     "data": {
      "text/html": [
       "<div>\n",
       "<style scoped>\n",
       "    .dataframe tbody tr th:only-of-type {\n",
       "        vertical-align: middle;\n",
       "    }\n",
       "\n",
       "    .dataframe tbody tr th {\n",
       "        vertical-align: top;\n",
       "    }\n",
       "\n",
       "    .dataframe thead th {\n",
       "        text-align: right;\n",
       "    }\n",
       "</style>\n",
       "<table border=\"1\" class=\"dataframe\">\n",
       "  <thead>\n",
       "    <tr style=\"text-align: right;\">\n",
       "      <th></th>\n",
       "      <th>product</th>\n",
       "      <th>sentiment</th>\n",
       "      <th>need_response</th>\n",
       "      <th>response</th>\n",
       "      <th>support_ticket_descripton</th>\n",
       "      <th>mention</th>\n",
       "    </tr>\n",
       "  </thead>\n",
       "  <tbody>\n",
       "    <tr>\n",
       "      <th>0</th>\n",
       "      <td>app</td>\n",
       "      <td>positive</td>\n",
       "      <td>True</td>\n",
       "      <td>Thank you so much for your kind words! We're t...</td>\n",
       "      <td>None</td>\n",
       "      <td>@techcorp your app is amazing! The new design ...</td>\n",
       "    </tr>\n",
       "    <tr>\n",
       "      <th>1</th>\n",
       "      <td>website</td>\n",
       "      <td>negative</td>\n",
       "      <td>True</td>\n",
       "      <td>Hi there! We're sorry to hear that you're havi...</td>\n",
       "      <td>User reports that the website is down and requ...</td>\n",
       "      <td>@techcorp website is down again, please fix!</td>\n",
       "    </tr>\n",
       "    <tr>\n",
       "      <th>2</th>\n",
       "      <td>not_applicable</td>\n",
       "      <td>negative</td>\n",
       "      <td>False</td>\n",
       "      <td>None</td>\n",
       "      <td>None</td>\n",
       "      <td>hey @techcorp you're so evil</td>\n",
       "    </tr>\n",
       "  </tbody>\n",
       "</table>\n",
       "</div>"
      ],
      "text/plain": [
       "          product sentiment  need_response  \\\n",
       "0             app  positive           True   \n",
       "1         website  negative           True   \n",
       "2  not_applicable  negative          False   \n",
       "\n",
       "                                            response  \\\n",
       "0  Thank you so much for your kind words! We're t...   \n",
       "1  Hi there! We're sorry to hear that you're havi...   \n",
       "2                                               None   \n",
       "\n",
       "                           support_ticket_descripton  \\\n",
       "0                                               None   \n",
       "1  User reports that the website is down and requ...   \n",
       "2                                               None   \n",
       "\n",
       "                                             mention  \n",
       "0  @techcorp your app is amazing! The new design ...  \n",
       "1       @techcorp website is down again, please fix!  \n",
       "2                       hey @techcorp you're so evil  "
      ]
     },
     "execution_count": 24,
     "metadata": {},
     "output_type": "execute_result"
    }
   ],
   "source": [
    "import pandas as pd\n",
    "\n",
    "df = pd.DataFrame(rows)\n",
    "df"
   ]
  }
 ],
 "metadata": {
  "kernelspec": {
   "display_name": "myenv",
   "language": "python",
   "name": "python3"
  },
  "language_info": {
   "codemirror_mode": {
    "name": "ipython",
    "version": 3
   },
   "file_extension": ".py",
   "mimetype": "text/x-python",
   "name": "python",
   "nbconvert_exporter": "python",
   "pygments_lexer": "ipython3",
   "version": "3.12.9"
  }
 },
 "nbformat": 4,
 "nbformat_minor": 5
}
