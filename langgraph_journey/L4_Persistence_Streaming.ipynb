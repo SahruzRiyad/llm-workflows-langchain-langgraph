{
 "cells": [
  {
   "cell_type": "code",
   "execution_count": 1,
   "metadata": {},
   "outputs": [],
   "source": [
    "import os\n",
    "from dotenv import load_dotenv\n",
    "\n",
    "load_dotenv()\n",
    "\n",
    "openai_api_key = os.getenv(\"OPENAI_API_KEY\")\n",
    "\n",
    "os.environ[\"OPENAI_API_KEY\"] = openai_api_key\n",
    "\n",
    "tavily_api_key = os.getenv(\"TAVILY_API_KEY\")\n",
    "os.environ[\"TAVILY_API_KEY\"] = tavily_api_key"
   ]
  },
  {
   "cell_type": "code",
   "execution_count": 2,
   "metadata": {},
   "outputs": [],
   "source": [
    "from langgraph.graph import StateGraph, END\n",
    "from typing import TypedDict, Annotated\n",
    "import operator\n",
    "from langchain_core.messages import AnyMessage, SystemMessage, HumanMessage, ToolMessage\n",
    "from langchain_openai import ChatOpenAI\n",
    "from langchain_community.tools.tavily_search import TavilySearchResults"
   ]
  },
  {
   "cell_type": "code",
   "execution_count": 3,
   "metadata": {},
   "outputs": [],
   "source": [
    "tool = TavilySearchResults(max_results=2)"
   ]
  },
  {
   "cell_type": "code",
   "execution_count": 4,
   "metadata": {},
   "outputs": [],
   "source": [
    "class AgentState(TypedDict):\n",
    "    messages: Annotated[list[AnyMessage], operator.add]"
   ]
  },
  {
   "cell_type": "code",
   "execution_count": 41,
   "metadata": {},
   "outputs": [],
   "source": [
    "import sqlite3\n",
    "from langgraph.checkpoint.sqlite import SqliteSaver\n",
    "\n",
    "conn = sqlite3.connect(\"checkpoints.sqlite\", check_same_thread=False)\n",
    "memory = SqliteSaver(conn)"
   ]
  },
  {
   "cell_type": "code",
   "execution_count": 18,
   "metadata": {},
   "outputs": [],
   "source": [
    "class Agent:\n",
    "    def __init__(self, model, tools, checkpointer, system=\"\"):\n",
    "        self.system = system\n",
    "        graph = StateGraph(AgentState)\n",
    "        graph.add_node(\"llm\", self.call_openai)\n",
    "        graph.add_node(\"action\", self.take_action)\n",
    "        graph.add_conditional_edges(\"llm\", self.exists_action, {True: \"action\", False: END})\n",
    "        graph.add_edge(\"action\", \"llm\")\n",
    "        graph.set_entry_point(\"llm\")\n",
    "        self.graph = graph.compile(checkpointer=checkpointer)\n",
    "        self.tools = {t.name: t for t in tools}\n",
    "        self.model = model.bind_tools(tools)\n",
    "\n",
    "    def call_openai(self, state: AgentState):\n",
    "        messages = state['messages']\n",
    "        if self.system:\n",
    "            messages = [SystemMessage(content=self.system)] + messages\n",
    "        message = self.model.invoke(messages)\n",
    "        return {'messages': [message]}\n",
    "\n",
    "    def exists_action(self, state: AgentState):\n",
    "        result = state['messages'][-1]\n",
    "        return len(result.tool_calls) > 0\n",
    "\n",
    "    def take_action(self, state: AgentState):\n",
    "        tool_calls = state['messages'][-1].tool_calls\n",
    "        results = []\n",
    "        for t in tool_calls:\n",
    "            print(f\"Calling: {t}\")\n",
    "            result = self.tools[t['name']].invoke(t['args'])\n",
    "            results.append(ToolMessage(tool_call_id=t['id'], name=t['name'], content=str(result)))\n",
    "        print(\"Back to the model!\")\n",
    "        return {'messages': results}"
   ]
  },
  {
   "cell_type": "code",
   "execution_count": 42,
   "metadata": {},
   "outputs": [],
   "source": [
    "prompt = \"\"\"You are a smart research assistant. Use the search engine to look up information. \\\n",
    "You are allowed to make multiple calls (either together or in sequence). \\\n",
    "Only look up information when you are sure of what you want. \\\n",
    "If you need to look up some information before asking a follow up question, you are allowed to do that!\n",
    "\"\"\"\n",
    "model = ChatOpenAI(model=\"gpt-4o\")\n",
    "abot = Agent(model, [tool], system=prompt, checkpointer=memory)"
   ]
  },
  {
   "cell_type": "code",
   "execution_count": 20,
   "metadata": {},
   "outputs": [],
   "source": [
    "messages = [HumanMessage(content=\"What is the weather in sf?\")]"
   ]
  },
  {
   "cell_type": "code",
   "execution_count": 21,
   "metadata": {},
   "outputs": [],
   "source": [
    "thread = {\"configurable\": {\"thread_id\": \"1\"}}"
   ]
  },
  {
   "cell_type": "code",
   "execution_count": 43,
   "metadata": {},
   "outputs": [
    {
     "name": "stdout",
     "output_type": "stream",
     "text": [
      "[AIMessage(content='', additional_kwargs={'tool_calls': [{'id': 'call_Bsy371M3xAr1cFYedr1OufFd', 'function': {'arguments': '{\"query\":\"current weather San Francisco\"}', 'name': 'tavily_search_results_json'}, 'type': 'function'}], 'refusal': None}, response_metadata={'token_usage': {'completion_tokens': 22, 'prompt_tokens': 151, 'total_tokens': 173, 'completion_tokens_details': {'accepted_prediction_tokens': 0, 'audio_tokens': 0, 'reasoning_tokens': 0, 'rejected_prediction_tokens': 0}, 'prompt_tokens_details': {'audio_tokens': 0, 'cached_tokens': 0}}, 'model_name': 'gpt-4o-2024-08-06', 'system_fingerprint': 'fp_898ac29719', 'id': 'chatcmpl-BIAktTPfrry8ZgXd5SEQW6J1Xr2zN', 'finish_reason': 'tool_calls', 'logprobs': None}, id='run-3b7176fe-c346-4db8-a494-0d42c2e84362-0', tool_calls=[{'name': 'tavily_search_results_json', 'args': {'query': 'current weather San Francisco'}, 'id': 'call_Bsy371M3xAr1cFYedr1OufFd', 'type': 'tool_call'}], usage_metadata={'input_tokens': 151, 'output_tokens': 22, 'total_tokens': 173, 'input_token_details': {'audio': 0, 'cache_read': 0}, 'output_token_details': {'audio': 0, 'reasoning': 0}})]\n",
      "Calling: {'name': 'tavily_search_results_json', 'args': {'query': 'current weather San Francisco'}, 'id': 'call_Bsy371M3xAr1cFYedr1OufFd', 'type': 'tool_call'}\n",
      "Back to the model!\n",
      "[ToolMessage(content='[{\\'title\\': \\'Weather in San Francisco\\', \\'url\\': \\'https://www.weatherapi.com/\\', \\'content\\': \"{\\'location\\': {\\'name\\': \\'San Francisco\\', \\'region\\': \\'California\\', \\'country\\': \\'United States of America\\', \\'lat\\': 37.775, \\'lon\\': -122.4183, \\'tz_id\\': \\'America/Los_Angeles\\', \\'localtime_epoch\\': 1743667949, \\'localtime\\': \\'2025-04-03 01:12\\'}, \\'current\\': {\\'last_updated_epoch\\': 1743667200, \\'last_updated\\': \\'2025-04-03 01:00\\', \\'temp_c\\': 7.8, \\'temp_f\\': 46.0, \\'is_day\\': 0, \\'condition\\': {\\'text\\': \\'Partly cloudy\\', \\'icon\\': \\'//cdn.weatherapi.com/weather/64x64/night/116.png\\', \\'code\\': 1003}, \\'wind_mph\\': 10.7, \\'wind_kph\\': 17.3, \\'wind_degree\\': 309, \\'wind_dir\\': \\'NW\\', \\'pressure_mb\\': 1014.0, \\'pressure_in\\': 29.94, \\'precip_mm\\': 0.0, \\'precip_in\\': 0.0, \\'humidity\\': 86, \\'cloud\\': 25, \\'feelslike_c\\': 4.9, \\'feelslike_f\\': 40.8, \\'windchill_c\\': 7.1, \\'windchill_f\\': 44.8, \\'heatindex_c\\': 9.8, \\'heatindex_f\\': 49.7, \\'dewpoint_c\\': 7.0, \\'dewpoint_f\\': 44.5, \\'vis_km\\': 16.0, \\'vis_miles\\': 9.0, \\'uv\\': 0.0, \\'gust_mph\\': 16.4, \\'gust_kph\\': 26.4}}\", \\'score\\': 0.9418864}, {\\'title\\': \\'Weather in San Francisco in April 2025 - Detailed Forecast\\', \\'url\\': \\'https://www.easeweather.com/north-america/united-states/california/city-and-county-of-san-francisco/san-francisco/april\\', \\'content\\': \\'| --- | --- | --- | --- | --- | --- |\\\\n| Apr. 1 | \\\\nModerate rain\\\\n| 53° /48° | 0.22\\\\xa0in | 1.3 |  |\\\\n| Apr. 2 | \\\\nPartly cloudy\\\\n| 53° /46° | 0\\\\xa0in | 1.3 |  |\\\\n| Apr. 3 | \\\\nSunny\\\\n| 53° /46° | 0\\\\xa0in | 1.2 |  |\\\\n| Apr. 4 | \\\\nPartly cloudy\\\\n| 62° /48° | 0\\\\xa0in | 1.5 |  |\\\\n| Apr. 5 | \\\\nPartly cloudy\\\\n| 64° /53° | 0\\\\xa0in | 0 |  |\\\\n| Apr. 6 | \\\\nCloudy\\\\n| 57° /51° | 0\\\\xa0in | 3 |  |\\\\n| Apr. 7 | \\\\nSunny\\\\n| 59° /50° | 0\\\\xa0in | 4 |  |\\\\n| Apr. 8 | \\\\nSunny\\\\n| 60° /50° | 0\\\\xa0in | 4 |  |\\\\n| Apr. 9 | \\\\nSunny\\\\n| 64° /53° | 0\\\\xa0in | 4 |  |\\\\n| Apr. 10 | [...] April\\\\nJanuaryFebruaryMarch\\\\nApril\\\\nMayJuneJulyAugustSeptemberOctoberNovemberDecember\\\\nWeather in San Francisco for April 2025\\\\nYour guide to San Francisco weather in April - trends and predictions\\\\nTemperatures\\\\n\\\\n\\\\nThe forecast for the next days in San Francisco predicts temperatures to be around 59\\\\xa0°F, close to the historical average. [...] San Francisco Weather April\\\\nMove between months or click on a day\\\\nMarch\\\\nMay\\\\n| Sun. | Mon. | Tue. | Wed. | Thu. | Fri. | Sat. |\\\\n| --- | --- | --- | --- | --- | --- | --- |\\\\n| \\\\n | \\\\n| 1  53° | 2  53° | 3  53° | 4  62° | 5  64° |\\\\n| 6  57° | 7  59° | 8  60° | 9  64° | 10  64° | 11  59° | 12  55° |\\\\n| 13  55° | 14  51° | 15  59° | 16  60° | 17  60° | 18  62° | 19  60° |\\\\n| 20  62° | 21  62° | 22  62° | 23  62° | 24  62° | 25  60° | 26  64° |\\\\n| 27  64° | 28  66° | 29  64° | 30  62° |  |  |  |\\', \\'score\\': 0.87139857}]', name='tavily_search_results_json', tool_call_id='call_Bsy371M3xAr1cFYedr1OufFd')]\n",
      "[AIMessage(content=\"The current weather in San Francisco is partly cloudy with a temperature of 7.8°C (46.0°F). The wind is coming from the northwest at 10.7 mph (17.3 kph) and the humidity is at 86%. There's no precipitation at the moment.\", additional_kwargs={'refusal': None}, response_metadata={'token_usage': {'completion_tokens': 61, 'prompt_tokens': 1347, 'total_tokens': 1408, 'completion_tokens_details': {'accepted_prediction_tokens': 0, 'audio_tokens': 0, 'reasoning_tokens': 0, 'rejected_prediction_tokens': 0}, 'prompt_tokens_details': {'audio_tokens': 0, 'cached_tokens': 0}}, 'model_name': 'gpt-4o-2024-08-06', 'system_fingerprint': 'fp_898ac29719', 'id': 'chatcmpl-BIAkwQi7ggKhwBT0dsNOLdrpDMlSA', 'finish_reason': 'stop', 'logprobs': None}, id='run-3da462e4-7486-4c11-a028-dbf86e99009a-0', usage_metadata={'input_tokens': 1347, 'output_tokens': 61, 'total_tokens': 1408, 'input_token_details': {'audio': 0, 'cache_read': 0}, 'output_token_details': {'audio': 0, 'reasoning': 0}})]\n"
     ]
    }
   ],
   "source": [
    "for event in abot.graph.stream({\"messages\": messages}, thread):\n",
    "    for v in event.values():\n",
    "        print(v['messages'])"
   ]
  },
  {
   "cell_type": "code",
   "execution_count": 44,
   "metadata": {},
   "outputs": [
    {
     "name": "stdout",
     "output_type": "stream",
     "text": [
      "{'messages': [AIMessage(content='', additional_kwargs={'tool_calls': [{'id': 'call_ZBXzId0J2DK9PHZUejex3ZlJ', 'function': {'arguments': '{\"query\":\"current weather Los Angeles\"}', 'name': 'tavily_search_results_json'}, 'type': 'function'}], 'refusal': None}, response_metadata={'token_usage': {'completion_tokens': 22, 'prompt_tokens': 1419, 'total_tokens': 1441, 'completion_tokens_details': {'accepted_prediction_tokens': 0, 'audio_tokens': 0, 'reasoning_tokens': 0, 'rejected_prediction_tokens': 0}, 'prompt_tokens_details': {'audio_tokens': 0, 'cached_tokens': 1280}}, 'model_name': 'gpt-4o-2024-08-06', 'system_fingerprint': 'fp_898ac29719', 'id': 'chatcmpl-BIAoVKtzsuwpzsZ24lDN76DFxnIbM', 'finish_reason': 'tool_calls', 'logprobs': None}, id='run-8acde81e-8080-4c33-b85c-4b91eb788950-0', tool_calls=[{'name': 'tavily_search_results_json', 'args': {'query': 'current weather Los Angeles'}, 'id': 'call_ZBXzId0J2DK9PHZUejex3ZlJ', 'type': 'tool_call'}], usage_metadata={'input_tokens': 1419, 'output_tokens': 22, 'total_tokens': 1441, 'input_token_details': {'audio': 0, 'cache_read': 1280}, 'output_token_details': {'audio': 0, 'reasoning': 0}})]}\n",
      "Calling: {'name': 'tavily_search_results_json', 'args': {'query': 'current weather Los Angeles'}, 'id': 'call_ZBXzId0J2DK9PHZUejex3ZlJ', 'type': 'tool_call'}\n",
      "Back to the model!\n",
      "{'messages': [ToolMessage(content='[{\\'title\\': \\'Weather in Los Angeles\\', \\'url\\': \\'https://www.weatherapi.com/\\', \\'content\\': \"{\\'location\\': {\\'name\\': \\'Los Angeles\\', \\'region\\': \\'California\\', \\'country\\': \\'United States of America\\', \\'lat\\': 34.0522, \\'lon\\': -118.2428, \\'tz_id\\': \\'America/Los_Angeles\\', \\'localtime_epoch\\': 1743671172, \\'localtime\\': \\'2025-04-03 02:06\\'}, \\'current\\': {\\'last_updated_epoch\\': 1743670800, \\'last_updated\\': \\'2025-04-03 02:00\\', \\'temp_c\\': 12.2, \\'temp_f\\': 54.0, \\'is_day\\': 0, \\'condition\\': {\\'text\\': \\'Partly cloudy\\', \\'icon\\': \\'//cdn.weatherapi.com/weather/64x64/night/116.png\\', \\'code\\': 1003}, \\'wind_mph\\': 8.7, \\'wind_kph\\': 14.0, \\'wind_degree\\': 87, \\'wind_dir\\': \\'E\\', \\'pressure_mb\\': 1012.0, \\'pressure_in\\': 29.88, \\'precip_mm\\': 0.0, \\'precip_in\\': 0.0, \\'humidity\\': 72, \\'cloud\\': 50, \\'feelslike_c\\': 10.7, \\'feelslike_f\\': 51.3, \\'windchill_c\\': 11.4, \\'windchill_f\\': 52.5, \\'heatindex_c\\': 11.5, \\'heatindex_f\\': 52.6, \\'dewpoint_c\\': 6.1, \\'dewpoint_f\\': 43.0, \\'vis_km\\': 16.0, \\'vis_miles\\': 9.0, \\'uv\\': 0.0, \\'gust_mph\\': 11.5, \\'gust_kph\\': 18.4}}\", \\'score\\': 0.9527082}, {\\'title\\': \\'Thursday, April 3, 2025. Los Angeles, CA - Weather Forecast\\', \\'url\\': \\'https://weathershogun.com/weather/usa/ca/los-angeles/451/april/2025-04-03\\', \\'content\\': \\'Los Angeles, California Weather: Thursday, April 3, 2025. Cloudy weather, overcast skies with clouds. Day 66°. Night 50°. Precipitation 10 %.\\', \\'score\\': 0.9392538}]', name='tavily_search_results_json', tool_call_id='call_ZBXzId0J2DK9PHZUejex3ZlJ')]}\n",
      "{'messages': [AIMessage(content=\"The current weather in Los Angeles is partly cloudy with a temperature of 12.2°C (54.0°F). The wind is blowing from the east at 8.7 mph (14.0 kph), and the humidity is 72%. There's no precipitation at the moment.\", additional_kwargs={'refusal': None}, response_metadata={'token_usage': {'completion_tokens': 60, 'prompt_tokens': 1986, 'total_tokens': 2046, 'completion_tokens_details': {'accepted_prediction_tokens': 0, 'audio_tokens': 0, 'reasoning_tokens': 0, 'rejected_prediction_tokens': 0}, 'prompt_tokens_details': {'audio_tokens': 0, 'cached_tokens': 1408}}, 'model_name': 'gpt-4o-2024-08-06', 'system_fingerprint': 'fp_898ac29719', 'id': 'chatcmpl-BIAob1pWEgdfTmK5e08KfarAtTPGs', 'finish_reason': 'stop', 'logprobs': None}, id='run-8e3f7eff-a294-4626-96e6-09ee1932b69f-0', usage_metadata={'input_tokens': 1986, 'output_tokens': 60, 'total_tokens': 2046, 'input_token_details': {'audio': 0, 'cache_read': 1408}, 'output_token_details': {'audio': 0, 'reasoning': 0}})]}\n"
     ]
    }
   ],
   "source": [
    "messages = [HumanMessage(content=\"What about in la?\")]\n",
    "thread = {\"configurable\": {\"thread_id\": \"1\"}}\n",
    "for event in abot.graph.stream({\"messages\": messages}, thread):\n",
    "    for v in event.values():\n",
    "        print(v)"
   ]
  },
  {
   "cell_type": "code",
   "execution_count": 45,
   "metadata": {},
   "outputs": [
    {
     "name": "stdout",
     "output_type": "stream",
     "text": [
      "{'messages': [AIMessage(content=\"Los Angeles is currently warmer than San Francisco. Los Angeles has a temperature of 12.2°C (54.0°F) compared to San Francisco's 7.8°C (46.0°F).\", additional_kwargs={'refusal': None}, response_metadata={'token_usage': {'completion_tokens': 44, 'prompt_tokens': 2057, 'total_tokens': 2101, 'completion_tokens_details': {'accepted_prediction_tokens': 0, 'audio_tokens': 0, 'reasoning_tokens': 0, 'rejected_prediction_tokens': 0}, 'prompt_tokens_details': {'audio_tokens': 0, 'cached_tokens': 1920}}, 'model_name': 'gpt-4o-2024-08-06', 'system_fingerprint': 'fp_898ac29719', 'id': 'chatcmpl-BIArvdSSVSbreD26ERnSqmkvk5aei', 'finish_reason': 'stop', 'logprobs': None}, id='run-888d98b2-2fdb-4505-9c09-4712ace7d993-0', usage_metadata={'input_tokens': 2057, 'output_tokens': 44, 'total_tokens': 2101, 'input_token_details': {'audio': 0, 'cache_read': 1920}, 'output_token_details': {'audio': 0, 'reasoning': 0}})]}\n"
     ]
    }
   ],
   "source": [
    "messages = [HumanMessage(content=\"Which one is warmer?\")]\n",
    "thread = {\"configurable\": {\"thread_id\": \"1\"}}\n",
    "\n",
    "for event in abot.graph.stream({\"messages\": messages}, thread):\n",
    "    for v in event.values():\n",
    "        print(v)"
   ]
  },
  {
   "cell_type": "code",
   "execution_count": 46,
   "metadata": {},
   "outputs": [
    {
     "name": "stdout",
     "output_type": "stream",
     "text": [
      "{'messages': [AIMessage(content='Could you please provide more context or specify the locations, items, or time periods you are comparing to determine which one is warmer?', additional_kwargs={'refusal': None}, response_metadata={'token_usage': {'completion_tokens': 28, 'prompt_tokens': 149, 'total_tokens': 177, 'completion_tokens_details': {'accepted_prediction_tokens': 0, 'audio_tokens': 0, 'reasoning_tokens': 0, 'rejected_prediction_tokens': 0}, 'prompt_tokens_details': {'audio_tokens': 0, 'cached_tokens': 0}}, 'model_name': 'gpt-4o-2024-08-06', 'system_fingerprint': 'fp_898ac29719', 'id': 'chatcmpl-BIAsgJKUETagVWeEkh5Qu537FzYzF', 'finish_reason': 'stop', 'logprobs': None}, id='run-b294e563-7b0c-46a1-b1a5-049f4efa6e81-0', usage_metadata={'input_tokens': 149, 'output_tokens': 28, 'total_tokens': 177, 'input_token_details': {'audio': 0, 'cache_read': 0}, 'output_token_details': {'audio': 0, 'reasoning': 0}})]}\n"
     ]
    }
   ],
   "source": [
    "messages = [HumanMessage(content=\"Which one is warmer?\")]\n",
    "thread = {\"configurable\": {\"thread_id\": \"2\"}}\n",
    "for event in abot.graph.stream({\"messages\": messages}, thread):\n",
    "    for v in event.values():\n",
    "        print(v)"
   ]
  },
  {
   "cell_type": "code",
   "execution_count": 57,
   "metadata": {},
   "outputs": [],
   "source": [
    "from langgraph.checkpoint.sqlite.aio import AsyncSqliteSaver\n",
    "import aiosqlite\n",
    "\n",
    "# conn = sqlite3.connect(\"checkpoints.sqlite\", check_same_thread=False)\n",
    "# memory = SqliteSaver(conn)\n",
    "\n",
    "conn = aiosqlite.connect(\"checkpoints.sqlite\", check_same_thread = False)\n",
    "memory = AsyncSqliteSaver(conn)\n",
    "# async with aiosqlite.connect(\"checkpoints.db\") as conn:\n",
    "#     memory = AsyncSqliteSaver(conn)\n",
    "\n",
    "abot = Agent(model, [tool], system=prompt, checkpointer=memory)"
   ]
  },
  {
   "cell_type": "code",
   "execution_count": 59,
   "metadata": {},
   "outputs": [
    {
     "name": "stdout",
     "output_type": "stream",
     "text": [
      "The current weather in San Francisco is partly cloudy with a temperature of approximately 9.4°C (48.9°F). It is nighttime, with wind blowing at 10.7 mph from the northwest. The humidity level is around 83%, and the conditions have a wind chill factor making it feel like 6.9°C (44.4°F). Visibility is approximately 16 kilometers."
     ]
    }
   ],
   "source": [
    "messages = [HumanMessage(content=\"What is the weather in SF?\")]\n",
    "thread = {\"configurable\": {\"thread_id\": \"4\"}}\n",
    "async for event in abot.graph.astream_events({\"messages\": messages}, thread, version=\"v1\"):\n",
    "    kind = event[\"event\"]\n",
    "    if kind == \"on_chat_model_stream\":\n",
    "        content = event[\"data\"][\"chunk\"].content\n",
    "        if content:\n",
    "            # Empty content in the context of OpenAI means\n",
    "            # that the model is asking for a tool to be invoked.\n",
    "            # So we only print non-empty content\n",
    "            print(content, end=\"\")"
   ]
  }
 ],
 "metadata": {
  "kernelspec": {
   "display_name": "myenv",
   "language": "python",
   "name": "python3"
  },
  "language_info": {
   "codemirror_mode": {
    "name": "ipython",
    "version": 3
   },
   "file_extension": ".py",
   "mimetype": "text/x-python",
   "name": "python",
   "nbconvert_exporter": "python",
   "pygments_lexer": "ipython3",
   "version": "3.12.9"
  }
 },
 "nbformat": 4,
 "nbformat_minor": 2
}
