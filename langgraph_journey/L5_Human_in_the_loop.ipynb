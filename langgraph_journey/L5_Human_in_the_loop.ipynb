{
 "cells": [
  {
   "cell_type": "code",
   "execution_count": 1,
   "metadata": {},
   "outputs": [],
   "source": [
    "import os\n",
    "from dotenv import load_dotenv\n",
    "\n",
    "load_dotenv()\n",
    "\n",
    "openai_api_key = os.getenv(\"OPENAI_API_KEY\")\n",
    "\n",
    "os.environ[\"OPENAI_API_KEY\"] = openai_api_key\n",
    "\n",
    "tavily_api_key = os.getenv(\"TAVILY_API_KEY\")\n",
    "os.environ[\"TAVILY_API_KEY\"] = tavily_api_key"
   ]
  },
  {
   "cell_type": "code",
   "execution_count": 2,
   "metadata": {},
   "outputs": [],
   "source": [
    "from langgraph.graph import StateGraph, END\n",
    "from typing import TypedDict, Annotated\n",
    "import operator, sqlite3\n",
    "from langchain_core.messages import AnyMessage, SystemMessage, HumanMessage, ToolMessage\n",
    "from langchain_openai import ChatOpenAI\n",
    "from langchain_community.tools.tavily_search import TavilySearchResults\n",
    "from langgraph.checkpoint.sqlite import SqliteSaver\n",
    "\n",
    "conn = sqlite3.connect(\"checkpoints.sqlite\", check_same_thread=False)\n",
    "memory = SqliteSaver(conn)"
   ]
  },
  {
   "cell_type": "code",
   "execution_count": 3,
   "metadata": {},
   "outputs": [],
   "source": [
    "from uuid import uuid4\n",
    "from langchain_core.messages import AIMessage\n",
    "\n",
    "\"\"\"\n",
    "In previous examples we've annotated the `messages` state key\n",
    "with the default `operator.add` or `+` reducer, which always\n",
    "appends new messages to the end of the existing messages array.\n",
    "\n",
    "Now, to support replacing existing messages, we annotate the\n",
    "`messages` key with a customer reducer function, which replaces\n",
    "messages with the same `id`, and appends them otherwise.\n",
    "\"\"\"\n",
    "def reduce_messages(left: list[AnyMessage], right: list[AnyMessage]) -> list[AnyMessage]:\n",
    "    # assign ids to messages that don't have them\n",
    "    for message in right:\n",
    "        if not message.id:\n",
    "            message.id = str(uuid4())\n",
    "    # merge the new messages with the existing messages\n",
    "    merged = left.copy()\n",
    "    for message in right:\n",
    "        for i, existing in enumerate(merged):\n",
    "            # replace any existing messages with the same id\n",
    "            if existing.id == message.id:\n",
    "                merged[i] = message\n",
    "                break\n",
    "        else:\n",
    "            # append any new messages to the end\n",
    "            merged.append(message)\n",
    "    return merged\n",
    "\n",
    "class AgentState(TypedDict):\n",
    "    messages: Annotated[list[AnyMessage], reduce_messages]"
   ]
  },
  {
   "cell_type": "code",
   "execution_count": 4,
   "metadata": {},
   "outputs": [],
   "source": [
    "tool = TavilySearchResults(max_results=2)"
   ]
  },
  {
   "cell_type": "code",
   "execution_count": 5,
   "metadata": {},
   "outputs": [],
   "source": [
    "class Agent:\n",
    "    def __init__(self, model, tools, system=\"\", checkpointer=None):\n",
    "        self.system = system\n",
    "        graph = StateGraph(AgentState)\n",
    "        graph.add_node(\"llm\", self.call_openai)\n",
    "        graph.add_node(\"action\", self.take_action)\n",
    "        graph.add_conditional_edges(\"llm\", self.exists_action, {True: \"action\", False: END})\n",
    "        graph.add_edge(\"action\", \"llm\")\n",
    "        graph.set_entry_point(\"llm\")\n",
    "        self.graph = graph.compile(\n",
    "            checkpointer=checkpointer,\n",
    "            interrupt_before=[\"action\"] # added interupt before action, to take human response\n",
    "        )\n",
    "        self.tools = {t.name: t for t in tools}\n",
    "        self.model = model.bind_tools(tools)\n",
    "\n",
    "    def call_openai(self, state: AgentState):\n",
    "        messages = state['messages']\n",
    "        if self.system:\n",
    "            messages = [SystemMessage(content=self.system)] + messages\n",
    "        message = self.model.invoke(messages)\n",
    "        return {'messages': [message]}\n",
    "\n",
    "    def exists_action(self, state: AgentState):\n",
    "        print(state)\n",
    "        result = state['messages'][-1]\n",
    "        return len(result.tool_calls) > 0\n",
    "\n",
    "    def take_action(self, state: AgentState):\n",
    "        tool_calls = state['messages'][-1].tool_calls\n",
    "        results = []\n",
    "        for t in tool_calls:\n",
    "            print(f\"Calling: {t}\")\n",
    "            result = self.tools[t['name']].invoke(t['args'])\n",
    "            results.append(ToolMessage(tool_call_id=t['id'], name=t['name'], content=str(result)))\n",
    "        print(\"Back to the model!\")\n",
    "        return {'messages': results}"
   ]
  },
  {
   "cell_type": "code",
   "execution_count": 6,
   "metadata": {},
   "outputs": [],
   "source": [
    "prompt = \"\"\"You are a smart research assistant. Use the search engine to look up information. \\\n",
    "You are allowed to make multiple calls (either together or in sequence). \\\n",
    "Only look up information when you are sure of what you want. \\\n",
    "If you need to look up some information before asking a follow up question, you are allowed to do that!\n",
    "\"\"\"\n",
    "model = ChatOpenAI(model=\"gpt-4o\")\n",
    "abot = Agent(model, [tool], system=prompt, checkpointer=memory)"
   ]
  },
  {
   "cell_type": "code",
   "execution_count": 7,
   "metadata": {},
   "outputs": [
    {
     "name": "stdout",
     "output_type": "stream",
     "text": [
      "{'messages': [HumanMessage(content='Whats the weather in SF?', additional_kwargs={}, response_metadata={}, id='3075fea6-82af-4b68-8d6d-583d418f061a'), AIMessage(content='', additional_kwargs={'tool_calls': [{'id': 'call_Q0688Nzw1RiH63YOipy5r3ZA', 'function': {'arguments': '{\"query\":\"current weather in San Francisco\"}', 'name': 'tavily_search_results_json'}, 'type': 'function'}], 'refusal': None}, response_metadata={'token_usage': {'completion_tokens': 23, 'prompt_tokens': 150, 'total_tokens': 173, 'completion_tokens_details': {'accepted_prediction_tokens': 0, 'audio_tokens': 0, 'reasoning_tokens': 0, 'rejected_prediction_tokens': 0}, 'prompt_tokens_details': {'audio_tokens': 0, 'cached_tokens': 0}}, 'model_name': 'gpt-4o-2024-08-06', 'system_fingerprint': 'fp_898ac29719', 'id': 'chatcmpl-BIBexlP7Zjpr0FwmIJfp80utYu9sq', 'finish_reason': 'tool_calls', 'logprobs': None}, id='run-8c2bcf4a-be6c-416c-a166-b4a867261b97-0', tool_calls=[{'name': 'tavily_search_results_json', 'args': {'query': 'current weather in San Francisco'}, 'id': 'call_Q0688Nzw1RiH63YOipy5r3ZA', 'type': 'tool_call'}], usage_metadata={'input_tokens': 150, 'output_tokens': 23, 'total_tokens': 173, 'input_token_details': {'audio': 0, 'cache_read': 0}, 'output_token_details': {'audio': 0, 'reasoning': 0}})]}\n",
      "{'messages': [AIMessage(content='', additional_kwargs={'tool_calls': [{'id': 'call_Q0688Nzw1RiH63YOipy5r3ZA', 'function': {'arguments': '{\"query\":\"current weather in San Francisco\"}', 'name': 'tavily_search_results_json'}, 'type': 'function'}], 'refusal': None}, response_metadata={'token_usage': {'completion_tokens': 23, 'prompt_tokens': 150, 'total_tokens': 173, 'completion_tokens_details': {'accepted_prediction_tokens': 0, 'audio_tokens': 0, 'reasoning_tokens': 0, 'rejected_prediction_tokens': 0}, 'prompt_tokens_details': {'audio_tokens': 0, 'cached_tokens': 0}}, 'model_name': 'gpt-4o-2024-08-06', 'system_fingerprint': 'fp_898ac29719', 'id': 'chatcmpl-BIBexlP7Zjpr0FwmIJfp80utYu9sq', 'finish_reason': 'tool_calls', 'logprobs': None}, id='run-8c2bcf4a-be6c-416c-a166-b4a867261b97-0', tool_calls=[{'name': 'tavily_search_results_json', 'args': {'query': 'current weather in San Francisco'}, 'id': 'call_Q0688Nzw1RiH63YOipy5r3ZA', 'type': 'tool_call'}], usage_metadata={'input_tokens': 150, 'output_tokens': 23, 'total_tokens': 173, 'input_token_details': {'audio': 0, 'cache_read': 0}, 'output_token_details': {'audio': 0, 'reasoning': 0}})]}\n",
      "()\n"
     ]
    }
   ],
   "source": [
    "messages = [HumanMessage(content=\"Whats the weather in SF?\")]\n",
    "thread = {\"configurable\": {\"thread_id\": \"1\"}}\n",
    "for event in abot.graph.stream({\"messages\": messages}, thread):\n",
    "    for v in event.values():\n",
    "        print(v)"
   ]
  },
  {
   "cell_type": "code",
   "execution_count": 8,
   "metadata": {},
   "outputs": [
    {
     "data": {
      "text/plain": [
       "StateSnapshot(values={'messages': [HumanMessage(content='Whats the weather in SF?', additional_kwargs={}, response_metadata={}, id='3075fea6-82af-4b68-8d6d-583d418f061a'), AIMessage(content='', additional_kwargs={'tool_calls': [{'id': 'call_Q0688Nzw1RiH63YOipy5r3ZA', 'function': {'arguments': '{\"query\":\"current weather in San Francisco\"}', 'name': 'tavily_search_results_json'}, 'type': 'function'}], 'refusal': None}, response_metadata={'token_usage': {'completion_tokens': 23, 'prompt_tokens': 150, 'total_tokens': 173, 'completion_tokens_details': {'accepted_prediction_tokens': 0, 'audio_tokens': 0, 'reasoning_tokens': 0, 'rejected_prediction_tokens': 0}, 'prompt_tokens_details': {'audio_tokens': 0, 'cached_tokens': 0}}, 'model_name': 'gpt-4o-2024-08-06', 'system_fingerprint': 'fp_898ac29719', 'id': 'chatcmpl-BIBexlP7Zjpr0FwmIJfp80utYu9sq', 'finish_reason': 'tool_calls', 'logprobs': None}, id='run-8c2bcf4a-be6c-416c-a166-b4a867261b97-0', tool_calls=[{'name': 'tavily_search_results_json', 'args': {'query': 'current weather in San Francisco'}, 'id': 'call_Q0688Nzw1RiH63YOipy5r3ZA', 'type': 'tool_call'}], usage_metadata={'input_tokens': 150, 'output_tokens': 23, 'total_tokens': 173, 'input_token_details': {'audio': 0, 'cache_read': 0}, 'output_token_details': {'audio': 0, 'reasoning': 0}})]}, next=('action',), config={'configurable': {'thread_id': '1', 'checkpoint_ns': '', 'checkpoint_id': '1f010727-62ba-6e8c-8001-cf2c86ad76f1'}}, metadata={'source': 'loop', 'writes': {'llm': {'messages': [AIMessage(content='', additional_kwargs={'tool_calls': [{'id': 'call_Q0688Nzw1RiH63YOipy5r3ZA', 'function': {'arguments': '{\"query\":\"current weather in San Francisco\"}', 'name': 'tavily_search_results_json'}, 'type': 'function'}], 'refusal': None}, response_metadata={'token_usage': {'completion_tokens': 23, 'prompt_tokens': 150, 'total_tokens': 173, 'completion_tokens_details': {'accepted_prediction_tokens': 0, 'audio_tokens': 0, 'reasoning_tokens': 0, 'rejected_prediction_tokens': 0}, 'prompt_tokens_details': {'audio_tokens': 0, 'cached_tokens': 0}}, 'model_name': 'gpt-4o-2024-08-06', 'system_fingerprint': 'fp_898ac29719', 'id': 'chatcmpl-BIBexlP7Zjpr0FwmIJfp80utYu9sq', 'finish_reason': 'tool_calls', 'logprobs': None}, id='run-8c2bcf4a-be6c-416c-a166-b4a867261b97-0', tool_calls=[{'name': 'tavily_search_results_json', 'args': {'query': 'current weather in San Francisco'}, 'id': 'call_Q0688Nzw1RiH63YOipy5r3ZA', 'type': 'tool_call'}], usage_metadata={'input_tokens': 150, 'output_tokens': 23, 'total_tokens': 173, 'input_token_details': {'audio': 0, 'cache_read': 0}, 'output_token_details': {'audio': 0, 'reasoning': 0}})]}}, 'step': 1, 'parents': {}, 'thread_id': '1'}, created_at='2025-04-03T10:00:24.337575+00:00', parent_config={'configurable': {'thread_id': '1', 'checkpoint_ns': '', 'checkpoint_id': '1f010727-5317-6d17-8000-6ca75702871b'}}, tasks=(PregelTask(id='0eafa286-7ad2-a714-8ba9-e7193306006e', name='action', path=('__pregel_pull', 'action'), error=None, interrupts=(), state=None, result=None),))"
      ]
     },
     "execution_count": 8,
     "metadata": {},
     "output_type": "execute_result"
    }
   ],
   "source": [
    "abot.graph.get_state(thread)"
   ]
  },
  {
   "cell_type": "code",
   "execution_count": 9,
   "metadata": {},
   "outputs": [
    {
     "data": {
      "text/plain": [
       "('action',)"
      ]
     },
     "execution_count": 9,
     "metadata": {},
     "output_type": "execute_result"
    }
   ],
   "source": [
    "abot.graph.get_state(thread).next"
   ]
  },
  {
   "cell_type": "code",
   "execution_count": 17,
   "metadata": {},
   "outputs": [
    {
     "name": "stdout",
     "output_type": "stream",
     "text": [
      "{'messages': [HumanMessage(content='Whats the weather in LA?', additional_kwargs={}, response_metadata={}, id='2eb20245-0bbe-4dd7-b545-dbeafeacb8f8'), AIMessage(content='', additional_kwargs={'tool_calls': [{'id': 'call_E7EEADJ5n9waxtbDIUmFrp7V', 'function': {'arguments': '{\"query\":\"Los Angeles weather today\"}', 'name': 'tavily_search_results_json'}, 'type': 'function'}], 'refusal': None}, response_metadata={'token_usage': {'completion_tokens': 22, 'prompt_tokens': 150, 'total_tokens': 172, 'completion_tokens_details': {'accepted_prediction_tokens': 0, 'audio_tokens': 0, 'reasoning_tokens': 0, 'rejected_prediction_tokens': 0}, 'prompt_tokens_details': {'audio_tokens': 0, 'cached_tokens': 0}}, 'model_name': 'gpt-4o-2024-08-06', 'system_fingerprint': 'fp_898ac29719', 'id': 'chatcmpl-BIBlearL0ksksLR3sWdOplQnh53w7', 'finish_reason': 'tool_calls', 'logprobs': None}, id='run-7e804d71-40ea-45bb-bede-7671f0465e46-0', tool_calls=[{'name': 'tavily_search_results_json', 'args': {'query': 'Los Angeles weather today'}, 'id': 'call_E7EEADJ5n9waxtbDIUmFrp7V', 'type': 'tool_call'}], usage_metadata={'input_tokens': 150, 'output_tokens': 22, 'total_tokens': 172, 'input_token_details': {'audio': 0, 'cache_read': 0}, 'output_token_details': {'audio': 0, 'reasoning': 0}})]}\n",
      "{'messages': [AIMessage(content='', additional_kwargs={'tool_calls': [{'id': 'call_E7EEADJ5n9waxtbDIUmFrp7V', 'function': {'arguments': '{\"query\":\"Los Angeles weather today\"}', 'name': 'tavily_search_results_json'}, 'type': 'function'}], 'refusal': None}, response_metadata={'token_usage': {'completion_tokens': 22, 'prompt_tokens': 150, 'total_tokens': 172, 'completion_tokens_details': {'accepted_prediction_tokens': 0, 'audio_tokens': 0, 'reasoning_tokens': 0, 'rejected_prediction_tokens': 0}, 'prompt_tokens_details': {'audio_tokens': 0, 'cached_tokens': 0}}, 'model_name': 'gpt-4o-2024-08-06', 'system_fingerprint': 'fp_898ac29719', 'id': 'chatcmpl-BIBlearL0ksksLR3sWdOplQnh53w7', 'finish_reason': 'tool_calls', 'logprobs': None}, id='run-7e804d71-40ea-45bb-bede-7671f0465e46-0', tool_calls=[{'name': 'tavily_search_results_json', 'args': {'query': 'Los Angeles weather today'}, 'id': 'call_E7EEADJ5n9waxtbDIUmFrp7V', 'type': 'tool_call'}], usage_metadata={'input_tokens': 150, 'output_tokens': 22, 'total_tokens': 172, 'input_token_details': {'audio': 0, 'cache_read': 0}, 'output_token_details': {'audio': 0, 'reasoning': 0}})]}\n",
      "()\n"
     ]
    }
   ],
   "source": [
    "messages = [HumanMessage(\"Whats the weather in LA?\")]\n",
    "thread = {\"configurable\": {\"thread_id\": \"3\"}}\n",
    "for event in abot.graph.stream({\"messages\": messages}, thread):\n",
    "    for v in event.values():\n",
    "        print(v)"
   ]
  },
  {
   "cell_type": "code",
   "execution_count": 18,
   "metadata": {},
   "outputs": [
    {
     "name": "stdout",
     "output_type": "stream",
     "text": [
      "\n",
      " StateSnapshot(values={'messages': [HumanMessage(content='Whats the weather in LA?', additional_kwargs={}, response_metadata={}, id='2eb20245-0bbe-4dd7-b545-dbeafeacb8f8'), AIMessage(content='', additional_kwargs={'tool_calls': [{'id': 'call_E7EEADJ5n9waxtbDIUmFrp7V', 'function': {'arguments': '{\"query\":\"Los Angeles weather today\"}', 'name': 'tavily_search_results_json'}, 'type': 'function'}], 'refusal': None}, response_metadata={'token_usage': {'completion_tokens': 22, 'prompt_tokens': 150, 'total_tokens': 172, 'completion_tokens_details': {'accepted_prediction_tokens': 0, 'audio_tokens': 0, 'reasoning_tokens': 0, 'rejected_prediction_tokens': 0}, 'prompt_tokens_details': {'audio_tokens': 0, 'cached_tokens': 0}}, 'model_name': 'gpt-4o-2024-08-06', 'system_fingerprint': 'fp_898ac29719', 'id': 'chatcmpl-BIBlearL0ksksLR3sWdOplQnh53w7', 'finish_reason': 'tool_calls', 'logprobs': None}, id='run-7e804d71-40ea-45bb-bede-7671f0465e46-0', tool_calls=[{'name': 'tavily_search_results_json', 'args': {'query': 'Los Angeles weather today'}, 'id': 'call_E7EEADJ5n9waxtbDIUmFrp7V', 'type': 'tool_call'}], usage_metadata={'input_tokens': 150, 'output_tokens': 22, 'total_tokens': 172, 'input_token_details': {'audio': 0, 'cache_read': 0}, 'output_token_details': {'audio': 0, 'reasoning': 0}})]}, next=('action',), config={'configurable': {'thread_id': '3', 'checkpoint_ns': '', 'checkpoint_id': '1f010736-d39f-6f5b-8001-7a4788fb04dd'}}, metadata={'source': 'loop', 'writes': {'llm': {'messages': [AIMessage(content='', additional_kwargs={'tool_calls': [{'id': 'call_E7EEADJ5n9waxtbDIUmFrp7V', 'function': {'arguments': '{\"query\":\"Los Angeles weather today\"}', 'name': 'tavily_search_results_json'}, 'type': 'function'}], 'refusal': None}, response_metadata={'token_usage': {'completion_tokens': 22, 'prompt_tokens': 150, 'total_tokens': 172, 'completion_tokens_details': {'accepted_prediction_tokens': 0, 'audio_tokens': 0, 'reasoning_tokens': 0, 'rejected_prediction_tokens': 0}, 'prompt_tokens_details': {'audio_tokens': 0, 'cached_tokens': 0}}, 'model_name': 'gpt-4o-2024-08-06', 'system_fingerprint': 'fp_898ac29719', 'id': 'chatcmpl-BIBlearL0ksksLR3sWdOplQnh53w7', 'finish_reason': 'tool_calls', 'logprobs': None}, id='run-7e804d71-40ea-45bb-bede-7671f0465e46-0', tool_calls=[{'name': 'tavily_search_results_json', 'args': {'query': 'Los Angeles weather today'}, 'id': 'call_E7EEADJ5n9waxtbDIUmFrp7V', 'type': 'tool_call'}], usage_metadata={'input_tokens': 150, 'output_tokens': 22, 'total_tokens': 172, 'input_token_details': {'audio': 0, 'cache_read': 0}, 'output_token_details': {'audio': 0, 'reasoning': 0}})]}}, 'step': 1, 'parents': {}, 'thread_id': '3'}, created_at='2025-04-03T10:07:18.828629+00:00', parent_config={'configurable': {'thread_id': '3', 'checkpoint_ns': '', 'checkpoint_id': '1f010736-c803-67db-8000-80b4c680d5ef'}}, tasks=(PregelTask(id='7172200c-ed51-5671-60d2-85c9574f4114', name='action', path=('__pregel_pull', 'action'), error=None, interrupts=(), state=None, result=None),)) \n",
      "\n",
      "aborting\n"
     ]
    }
   ],
   "source": [
    "while abot.graph.get_state(thread).next:\n",
    "    print(\"\\n\", abot.graph.get_state(thread),\"\\n\")\n",
    "    _input = input(\"proceed?\")\n",
    "    if _input != \"y\":\n",
    "        print(\"aborting\")\n",
    "        break\n",
    "    for event in abot.graph.stream(None, thread):\n",
    "        for v in event.values():\n",
    "            print(v)"
   ]
  },
  {
   "cell_type": "markdown",
   "metadata": {},
   "source": [
    "Modify state"
   ]
  },
  {
   "cell_type": "code",
   "execution_count": 19,
   "metadata": {},
   "outputs": [
    {
     "name": "stdout",
     "output_type": "stream",
     "text": [
      "{'messages': [HumanMessage(content='Whats the weather in LA?', additional_kwargs={}, response_metadata={}, id='b6143d9e-c683-44b6-af23-b49e34215de2'), AIMessage(content='', additional_kwargs={'tool_calls': [{'id': 'call_eaMk8qDevR4wWwlo4lXUl3MW', 'function': {'arguments': '{\"query\":\"current weather in Los Angeles\"}', 'name': 'tavily_search_results_json'}, 'type': 'function'}], 'refusal': None}, response_metadata={'token_usage': {'completion_tokens': 23, 'prompt_tokens': 150, 'total_tokens': 173, 'completion_tokens_details': {'accepted_prediction_tokens': 0, 'audio_tokens': 0, 'reasoning_tokens': 0, 'rejected_prediction_tokens': 0}, 'prompt_tokens_details': {'audio_tokens': 0, 'cached_tokens': 0}}, 'model_name': 'gpt-4o-2024-08-06', 'system_fingerprint': 'fp_898ac29719', 'id': 'chatcmpl-BIBq4ILRLV9f1wUckictE6ewtNFym', 'finish_reason': 'tool_calls', 'logprobs': None}, id='run-29ca967b-403e-4134-bddf-a4c7183aa803-0', tool_calls=[{'name': 'tavily_search_results_json', 'args': {'query': 'current weather in Los Angeles'}, 'id': 'call_eaMk8qDevR4wWwlo4lXUl3MW', 'type': 'tool_call'}], usage_metadata={'input_tokens': 150, 'output_tokens': 23, 'total_tokens': 173, 'input_token_details': {'audio': 0, 'cache_read': 0}, 'output_token_details': {'audio': 0, 'reasoning': 0}})]}\n",
      "{'messages': [AIMessage(content='', additional_kwargs={'tool_calls': [{'id': 'call_eaMk8qDevR4wWwlo4lXUl3MW', 'function': {'arguments': '{\"query\":\"current weather in Los Angeles\"}', 'name': 'tavily_search_results_json'}, 'type': 'function'}], 'refusal': None}, response_metadata={'token_usage': {'completion_tokens': 23, 'prompt_tokens': 150, 'total_tokens': 173, 'completion_tokens_details': {'accepted_prediction_tokens': 0, 'audio_tokens': 0, 'reasoning_tokens': 0, 'rejected_prediction_tokens': 0}, 'prompt_tokens_details': {'audio_tokens': 0, 'cached_tokens': 0}}, 'model_name': 'gpt-4o-2024-08-06', 'system_fingerprint': 'fp_898ac29719', 'id': 'chatcmpl-BIBq4ILRLV9f1wUckictE6ewtNFym', 'finish_reason': 'tool_calls', 'logprobs': None}, id='run-29ca967b-403e-4134-bddf-a4c7183aa803-0', tool_calls=[{'name': 'tavily_search_results_json', 'args': {'query': 'current weather in Los Angeles'}, 'id': 'call_eaMk8qDevR4wWwlo4lXUl3MW', 'type': 'tool_call'}], usage_metadata={'input_tokens': 150, 'output_tokens': 23, 'total_tokens': 173, 'input_token_details': {'audio': 0, 'cache_read': 0}, 'output_token_details': {'audio': 0, 'reasoning': 0}})]}\n",
      "()\n"
     ]
    }
   ],
   "source": [
    "messages = [HumanMessage(\"Whats the weather in LA?\")]\n",
    "thread = {\"configurable\": {\"thread_id\": \"4\"}}\n",
    "for event in abot.graph.stream({\"messages\": messages}, thread):\n",
    "    for v in event.values():\n",
    "        print(v)"
   ]
  },
  {
   "cell_type": "code",
   "execution_count": 20,
   "metadata": {},
   "outputs": [
    {
     "data": {
      "text/plain": [
       "StateSnapshot(values={'messages': [HumanMessage(content='Whats the weather in LA?', additional_kwargs={}, response_metadata={}, id='b6143d9e-c683-44b6-af23-b49e34215de2'), AIMessage(content='', additional_kwargs={'tool_calls': [{'id': 'call_eaMk8qDevR4wWwlo4lXUl3MW', 'function': {'arguments': '{\"query\":\"current weather in Los Angeles\"}', 'name': 'tavily_search_results_json'}, 'type': 'function'}], 'refusal': None}, response_metadata={'token_usage': {'completion_tokens': 23, 'prompt_tokens': 150, 'total_tokens': 173, 'completion_tokens_details': {'accepted_prediction_tokens': 0, 'audio_tokens': 0, 'reasoning_tokens': 0, 'rejected_prediction_tokens': 0}, 'prompt_tokens_details': {'audio_tokens': 0, 'cached_tokens': 0}}, 'model_name': 'gpt-4o-2024-08-06', 'system_fingerprint': 'fp_898ac29719', 'id': 'chatcmpl-BIBq4ILRLV9f1wUckictE6ewtNFym', 'finish_reason': 'tool_calls', 'logprobs': None}, id='run-29ca967b-403e-4134-bddf-a4c7183aa803-0', tool_calls=[{'name': 'tavily_search_results_json', 'args': {'query': 'current weather in Los Angeles'}, 'id': 'call_eaMk8qDevR4wWwlo4lXUl3MW', 'type': 'tool_call'}], usage_metadata={'input_tokens': 150, 'output_tokens': 23, 'total_tokens': 173, 'input_token_details': {'audio': 0, 'cache_read': 0}, 'output_token_details': {'audio': 0, 'reasoning': 0}})]}, next=('action',), config={'configurable': {'thread_id': '4', 'checkpoint_ns': '', 'checkpoint_id': '1f010741-0746-6738-8001-14c61b87eaff'}}, metadata={'source': 'loop', 'writes': {'llm': {'messages': [AIMessage(content='', additional_kwargs={'tool_calls': [{'id': 'call_eaMk8qDevR4wWwlo4lXUl3MW', 'function': {'arguments': '{\"query\":\"current weather in Los Angeles\"}', 'name': 'tavily_search_results_json'}, 'type': 'function'}], 'refusal': None}, response_metadata={'token_usage': {'completion_tokens': 23, 'prompt_tokens': 150, 'total_tokens': 173, 'completion_tokens_details': {'accepted_prediction_tokens': 0, 'audio_tokens': 0, 'reasoning_tokens': 0, 'rejected_prediction_tokens': 0}, 'prompt_tokens_details': {'audio_tokens': 0, 'cached_tokens': 0}}, 'model_name': 'gpt-4o-2024-08-06', 'system_fingerprint': 'fp_898ac29719', 'id': 'chatcmpl-BIBq4ILRLV9f1wUckictE6ewtNFym', 'finish_reason': 'tool_calls', 'logprobs': None}, id='run-29ca967b-403e-4134-bddf-a4c7183aa803-0', tool_calls=[{'name': 'tavily_search_results_json', 'args': {'query': 'current weather in Los Angeles'}, 'id': 'call_eaMk8qDevR4wWwlo4lXUl3MW', 'type': 'tool_call'}], usage_metadata={'input_tokens': 150, 'output_tokens': 23, 'total_tokens': 173, 'input_token_details': {'audio': 0, 'cache_read': 0}, 'output_token_details': {'audio': 0, 'reasoning': 0}})]}}, 'step': 1, 'parents': {}, 'thread_id': '4'}, created_at='2025-04-03T10:11:52.680018+00:00', parent_config={'configurable': {'thread_id': '4', 'checkpoint_ns': '', 'checkpoint_id': '1f010740-fbf7-63a2-8000-9fe77f05c3b8'}}, tasks=(PregelTask(id='dcb0509a-7c4b-4aa4-f500-9775d0b527ed', name='action', path=('__pregel_pull', 'action'), error=None, interrupts=(), state=None, result=None),))"
      ]
     },
     "execution_count": 20,
     "metadata": {},
     "output_type": "execute_result"
    }
   ],
   "source": [
    "abot.graph.get_state(thread)"
   ]
  },
  {
   "cell_type": "code",
   "execution_count": 22,
   "metadata": {},
   "outputs": [],
   "source": [
    "current_values = abot.graph.get_state(thread)"
   ]
  },
  {
   "cell_type": "code",
   "execution_count": 23,
   "metadata": {},
   "outputs": [
    {
     "data": {
      "text/plain": [
       "AIMessage(content='', additional_kwargs={'tool_calls': [{'id': 'call_eaMk8qDevR4wWwlo4lXUl3MW', 'function': {'arguments': '{\"query\":\"current weather in Los Angeles\"}', 'name': 'tavily_search_results_json'}, 'type': 'function'}], 'refusal': None}, response_metadata={'token_usage': {'completion_tokens': 23, 'prompt_tokens': 150, 'total_tokens': 173, 'completion_tokens_details': {'accepted_prediction_tokens': 0, 'audio_tokens': 0, 'reasoning_tokens': 0, 'rejected_prediction_tokens': 0}, 'prompt_tokens_details': {'audio_tokens': 0, 'cached_tokens': 0}}, 'model_name': 'gpt-4o-2024-08-06', 'system_fingerprint': 'fp_898ac29719', 'id': 'chatcmpl-BIBq4ILRLV9f1wUckictE6ewtNFym', 'finish_reason': 'tool_calls', 'logprobs': None}, id='run-29ca967b-403e-4134-bddf-a4c7183aa803-0', tool_calls=[{'name': 'tavily_search_results_json', 'args': {'query': 'current weather in Los Angeles'}, 'id': 'call_eaMk8qDevR4wWwlo4lXUl3MW', 'type': 'tool_call'}], usage_metadata={'input_tokens': 150, 'output_tokens': 23, 'total_tokens': 173, 'input_token_details': {'audio': 0, 'cache_read': 0}, 'output_token_details': {'audio': 0, 'reasoning': 0}})"
      ]
     },
     "execution_count": 23,
     "metadata": {},
     "output_type": "execute_result"
    }
   ],
   "source": [
    "current_values.values['messages'][-1]"
   ]
  },
  {
   "cell_type": "code",
   "execution_count": 24,
   "metadata": {},
   "outputs": [
    {
     "data": {
      "text/plain": [
       "[{'name': 'tavily_search_results_json',\n",
       "  'args': {'query': 'current weather in Los Angeles'},\n",
       "  'id': 'call_eaMk8qDevR4wWwlo4lXUl3MW',\n",
       "  'type': 'tool_call'}]"
      ]
     },
     "execution_count": 24,
     "metadata": {},
     "output_type": "execute_result"
    }
   ],
   "source": [
    "current_values.values['messages'][-1].tool_calls"
   ]
  },
  {
   "cell_type": "code",
   "execution_count": 26,
   "metadata": {},
   "outputs": [],
   "source": [
    "_id = current_values.values['messages'][-1].tool_calls[0]['id']\n",
    "\n",
    "current_values.values['messages'][-1].tool_calls = [\n",
    "    {'name': 'tavily_search_results_json',\n",
    "    'args': {'query': 'current weather in Louisiana'},\n",
    "    'id': _id}\n",
    "]"
   ]
  },
  {
   "cell_type": "code",
   "execution_count": 27,
   "metadata": {},
   "outputs": [
    {
     "name": "stdout",
     "output_type": "stream",
     "text": [
      "{'messages': [HumanMessage(content='Whats the weather in LA?', additional_kwargs={}, response_metadata={}, id='b6143d9e-c683-44b6-af23-b49e34215de2'), AIMessage(content='', additional_kwargs={'tool_calls': [{'id': 'call_eaMk8qDevR4wWwlo4lXUl3MW', 'function': {'arguments': '{\"query\":\"current weather in Los Angeles\"}', 'name': 'tavily_search_results_json'}, 'type': 'function'}], 'refusal': None}, response_metadata={'token_usage': {'completion_tokens': 23, 'prompt_tokens': 150, 'total_tokens': 173, 'completion_tokens_details': {'accepted_prediction_tokens': 0, 'audio_tokens': 0, 'reasoning_tokens': 0, 'rejected_prediction_tokens': 0}, 'prompt_tokens_details': {'audio_tokens': 0, 'cached_tokens': 0}}, 'model_name': 'gpt-4o-2024-08-06', 'system_fingerprint': 'fp_898ac29719', 'id': 'chatcmpl-BIBq4ILRLV9f1wUckictE6ewtNFym', 'finish_reason': 'tool_calls', 'logprobs': None}, id='run-29ca967b-403e-4134-bddf-a4c7183aa803-0', tool_calls=[{'name': 'tavily_search_results_json', 'args': {'query': 'current weather in Louisiana'}, 'id': 'call_eaMk8qDevR4wWwlo4lXUl3MW'}], usage_metadata={'input_tokens': 150, 'output_tokens': 23, 'total_tokens': 173, 'input_token_details': {'audio': 0, 'cache_read': 0}, 'output_token_details': {'audio': 0, 'reasoning': 0}})]}\n"
     ]
    },
    {
     "data": {
      "text/plain": [
       "{'configurable': {'thread_id': '4',\n",
       "  'checkpoint_ns': '',\n",
       "  'checkpoint_id': '1f01074f-16f7-694b-8002-c72c91da8558'}}"
      ]
     },
     "execution_count": 27,
     "metadata": {},
     "output_type": "execute_result"
    }
   ],
   "source": [
    "abot.graph.update_state(thread, current_values.values)"
   ]
  },
  {
   "cell_type": "code",
   "execution_count": 28,
   "metadata": {},
   "outputs": [
    {
     "data": {
      "text/plain": [
       "StateSnapshot(values={'messages': [HumanMessage(content='Whats the weather in LA?', additional_kwargs={}, response_metadata={}, id='b6143d9e-c683-44b6-af23-b49e34215de2'), AIMessage(content='', additional_kwargs={'tool_calls': [{'id': 'call_eaMk8qDevR4wWwlo4lXUl3MW', 'function': {'arguments': '{\"query\":\"current weather in Los Angeles\"}', 'name': 'tavily_search_results_json'}, 'type': 'function'}], 'refusal': None}, response_metadata={'token_usage': {'completion_tokens': 23, 'prompt_tokens': 150, 'total_tokens': 173, 'completion_tokens_details': {'accepted_prediction_tokens': 0, 'audio_tokens': 0, 'reasoning_tokens': 0, 'rejected_prediction_tokens': 0}, 'prompt_tokens_details': {'audio_tokens': 0, 'cached_tokens': 0}}, 'model_name': 'gpt-4o-2024-08-06', 'system_fingerprint': 'fp_898ac29719', 'id': 'chatcmpl-BIBq4ILRLV9f1wUckictE6ewtNFym', 'finish_reason': 'tool_calls', 'logprobs': None}, id='run-29ca967b-403e-4134-bddf-a4c7183aa803-0', tool_calls=[{'name': 'tavily_search_results_json', 'args': {'query': 'current weather in Louisiana'}, 'id': 'call_eaMk8qDevR4wWwlo4lXUl3MW', 'type': 'tool_call'}], usage_metadata={'input_tokens': 150, 'output_tokens': 23, 'total_tokens': 173, 'input_token_details': {'audio': 0, 'cache_read': 0}, 'output_token_details': {'audio': 0, 'reasoning': 0}})]}, next=('action',), config={'configurable': {'thread_id': '4', 'checkpoint_ns': '', 'checkpoint_id': '1f01074f-16f7-694b-8002-c72c91da8558'}}, metadata={'source': 'update', 'writes': {'llm': {'messages': [HumanMessage(content='Whats the weather in LA?', additional_kwargs={}, response_metadata={}, id='b6143d9e-c683-44b6-af23-b49e34215de2'), AIMessage(content='', additional_kwargs={'tool_calls': [{'id': 'call_eaMk8qDevR4wWwlo4lXUl3MW', 'function': {'arguments': '{\"query\":\"current weather in Los Angeles\"}', 'name': 'tavily_search_results_json'}, 'type': 'function'}], 'refusal': None}, response_metadata={'token_usage': {'completion_tokens': 23, 'prompt_tokens': 150, 'total_tokens': 173, 'completion_tokens_details': {'accepted_prediction_tokens': 0, 'audio_tokens': 0, 'reasoning_tokens': 0, 'rejected_prediction_tokens': 0}, 'prompt_tokens_details': {'audio_tokens': 0, 'cached_tokens': 0}}, 'model_name': 'gpt-4o-2024-08-06', 'system_fingerprint': 'fp_898ac29719', 'id': 'chatcmpl-BIBq4ILRLV9f1wUckictE6ewtNFym', 'finish_reason': 'tool_calls', 'logprobs': None}, id='run-29ca967b-403e-4134-bddf-a4c7183aa803-0', tool_calls=[{'name': 'tavily_search_results_json', 'args': {'query': 'current weather in Louisiana'}, 'id': 'call_eaMk8qDevR4wWwlo4lXUl3MW', 'type': 'tool_call'}], usage_metadata={'input_tokens': 150, 'output_tokens': 23, 'total_tokens': 173, 'input_token_details': {'audio': 0, 'cache_read': 0}, 'output_token_details': {'audio': 0, 'reasoning': 0}})]}}, 'step': 2, 'parents': {}, 'thread_id': '4'}, created_at='2025-04-03T10:18:10.135073+00:00', parent_config={'configurable': {'thread_id': '4', 'checkpoint_ns': '', 'checkpoint_id': '1f010741-0746-6738-8001-14c61b87eaff'}}, tasks=(PregelTask(id='bba66997-7da2-4433-63b2-006416570f03', name='action', path=('__pregel_pull', 'action'), error=None, interrupts=(), state=None, result=None),))"
      ]
     },
     "execution_count": 28,
     "metadata": {},
     "output_type": "execute_result"
    }
   ],
   "source": [
    "abot.graph.get_state(thread)"
   ]
  },
  {
   "cell_type": "code",
   "execution_count": 29,
   "metadata": {},
   "outputs": [
    {
     "name": "stdout",
     "output_type": "stream",
     "text": [
      "Calling: {'name': 'tavily_search_results_json', 'args': {'query': 'current weather in Louisiana'}, 'id': 'call_eaMk8qDevR4wWwlo4lXUl3MW', 'type': 'tool_call'}\n",
      "Back to the model!\n",
      "{'messages': [ToolMessage(content='[{\\'title\\': \\'Weather in Louisiana\\', \\'url\\': \\'https://www.weatherapi.com/\\', \\'content\\': \"{\\'location\\': {\\'name\\': \\'Louisiana\\', \\'region\\': \\'Missouri\\', \\'country\\': \\'USA United States of America\\', \\'lat\\': 39.4411, \\'lon\\': -91.0551, \\'tz_id\\': \\'America/Chicago\\', \\'localtime_epoch\\': 1743672222, \\'localtime\\': \\'2025-04-03 04:23\\'}, \\'current\\': {\\'last_updated_epoch\\': 1743671700, \\'last_updated\\': \\'2025-04-03 04:15\\', \\'temp_c\\': 12.2, \\'temp_f\\': 54.0, \\'is_day\\': 0, \\'condition\\': {\\'text\\': \\'Clear\\', \\'icon\\': \\'//cdn.weatherapi.com/weather/64x64/night/113.png\\', \\'code\\': 1000}, \\'wind_mph\\': 6.0, \\'wind_kph\\': 9.7, \\'wind_degree\\': 262, \\'wind_dir\\': \\'W\\', \\'pressure_mb\\': 1012.0, \\'pressure_in\\': 29.88, \\'precip_mm\\': 0.0, \\'precip_in\\': 0.0, \\'humidity\\': 67, \\'cloud\\': 0, \\'feelslike_c\\': 11.3, \\'feelslike_f\\': 52.3, \\'windchill_c\\': 8.3, \\'windchill_f\\': 47.0, \\'heatindex_c\\': 9.5, \\'heatindex_f\\': 49.2, \\'dewpoint_c\\': 7.3, \\'dewpoint_f\\': 45.1, \\'vis_km\\': 16.0, \\'vis_miles\\': 9.0, \\'uv\\': 0.0, \\'gust_mph\\': 12.7, \\'gust_kph\\': 20.4}}\", \\'score\\': 0.9689737}, {\\'title\\': \\'Weather Forecast and Conditions for Louisiana, LA\\', \\'url\\': \\'https://weather.com/weather/today/l/Louisiana+LA?placeId=c0ddc87c922dbe2cf7e9d0054dde4d8ca4cb307344fe711e9206ee736018c3b3\\', \\'content\\': \\'Louisiana, LA Forecast · Morning. 74°. -- · Afternoon. 74°. -- · Evening. 74°. Chance of Rain3% · Overnight. 73°. Chance of Rain7%\\', \\'score\\': 0.54274267}]', name='tavily_search_results_json', id='61eaaf33-7bde-4e42-82c1-dc2c58d6094f', tool_call_id='call_eaMk8qDevR4wWwlo4lXUl3MW')]}\n",
      "{'messages': [HumanMessage(content='Whats the weather in LA?', additional_kwargs={}, response_metadata={}, id='b6143d9e-c683-44b6-af23-b49e34215de2'), AIMessage(content='', additional_kwargs={'tool_calls': [{'id': 'call_eaMk8qDevR4wWwlo4lXUl3MW', 'function': {'arguments': '{\"query\":\"current weather in Los Angeles\"}', 'name': 'tavily_search_results_json'}, 'type': 'function'}], 'refusal': None}, response_metadata={'token_usage': {'completion_tokens': 23, 'prompt_tokens': 150, 'total_tokens': 173, 'completion_tokens_details': {'accepted_prediction_tokens': 0, 'audio_tokens': 0, 'reasoning_tokens': 0, 'rejected_prediction_tokens': 0}, 'prompt_tokens_details': {'audio_tokens': 0, 'cached_tokens': 0}}, 'model_name': 'gpt-4o-2024-08-06', 'system_fingerprint': 'fp_898ac29719', 'id': 'chatcmpl-BIBq4ILRLV9f1wUckictE6ewtNFym', 'finish_reason': 'tool_calls', 'logprobs': None}, id='run-29ca967b-403e-4134-bddf-a4c7183aa803-0', tool_calls=[{'name': 'tavily_search_results_json', 'args': {'query': 'current weather in Louisiana'}, 'id': 'call_eaMk8qDevR4wWwlo4lXUl3MW', 'type': 'tool_call'}], usage_metadata={'input_tokens': 150, 'output_tokens': 23, 'total_tokens': 173, 'input_token_details': {'audio': 0, 'cache_read': 0}, 'output_token_details': {'audio': 0, 'reasoning': 0}}), ToolMessage(content='[{\\'title\\': \\'Weather in Louisiana\\', \\'url\\': \\'https://www.weatherapi.com/\\', \\'content\\': \"{\\'location\\': {\\'name\\': \\'Louisiana\\', \\'region\\': \\'Missouri\\', \\'country\\': \\'USA United States of America\\', \\'lat\\': 39.4411, \\'lon\\': -91.0551, \\'tz_id\\': \\'America/Chicago\\', \\'localtime_epoch\\': 1743672222, \\'localtime\\': \\'2025-04-03 04:23\\'}, \\'current\\': {\\'last_updated_epoch\\': 1743671700, \\'last_updated\\': \\'2025-04-03 04:15\\', \\'temp_c\\': 12.2, \\'temp_f\\': 54.0, \\'is_day\\': 0, \\'condition\\': {\\'text\\': \\'Clear\\', \\'icon\\': \\'//cdn.weatherapi.com/weather/64x64/night/113.png\\', \\'code\\': 1000}, \\'wind_mph\\': 6.0, \\'wind_kph\\': 9.7, \\'wind_degree\\': 262, \\'wind_dir\\': \\'W\\', \\'pressure_mb\\': 1012.0, \\'pressure_in\\': 29.88, \\'precip_mm\\': 0.0, \\'precip_in\\': 0.0, \\'humidity\\': 67, \\'cloud\\': 0, \\'feelslike_c\\': 11.3, \\'feelslike_f\\': 52.3, \\'windchill_c\\': 8.3, \\'windchill_f\\': 47.0, \\'heatindex_c\\': 9.5, \\'heatindex_f\\': 49.2, \\'dewpoint_c\\': 7.3, \\'dewpoint_f\\': 45.1, \\'vis_km\\': 16.0, \\'vis_miles\\': 9.0, \\'uv\\': 0.0, \\'gust_mph\\': 12.7, \\'gust_kph\\': 20.4}}\", \\'score\\': 0.9689737}, {\\'title\\': \\'Weather Forecast and Conditions for Louisiana, LA\\', \\'url\\': \\'https://weather.com/weather/today/l/Louisiana+LA?placeId=c0ddc87c922dbe2cf7e9d0054dde4d8ca4cb307344fe711e9206ee736018c3b3\\', \\'content\\': \\'Louisiana, LA Forecast · Morning. 74°. -- · Afternoon. 74°. -- · Evening. 74°. Chance of Rain3% · Overnight. 73°. Chance of Rain7%\\', \\'score\\': 0.54274267}]', name='tavily_search_results_json', id='61eaaf33-7bde-4e42-82c1-dc2c58d6094f', tool_call_id='call_eaMk8qDevR4wWwlo4lXUl3MW'), AIMessage(content='', additional_kwargs={'tool_calls': [{'id': 'call_IxYT0cxgdDjV3Q9ii08KDJrh', 'function': {'arguments': '{\"query\":\"current weather in Los Angeles\"}', 'name': 'tavily_search_results_json'}, 'type': 'function'}], 'refusal': None}, response_metadata={'token_usage': {'completion_tokens': 23, 'prompt_tokens': 732, 'total_tokens': 755, 'completion_tokens_details': {'accepted_prediction_tokens': 0, 'audio_tokens': 0, 'reasoning_tokens': 0, 'rejected_prediction_tokens': 0}, 'prompt_tokens_details': {'audio_tokens': 0, 'cached_tokens': 0}}, 'model_name': 'gpt-4o-2024-08-06', 'system_fingerprint': 'fp_898ac29719', 'id': 'chatcmpl-BIBy7nVS5aabPLSZ8kgoFkkePg1HO', 'finish_reason': 'tool_calls', 'logprobs': None}, id='run-8fc48525-40f6-4385-8060-e5f7681b7afa-0', tool_calls=[{'name': 'tavily_search_results_json', 'args': {'query': 'current weather in Los Angeles'}, 'id': 'call_IxYT0cxgdDjV3Q9ii08KDJrh', 'type': 'tool_call'}], usage_metadata={'input_tokens': 732, 'output_tokens': 23, 'total_tokens': 755, 'input_token_details': {'audio': 0, 'cache_read': 0}, 'output_token_details': {'audio': 0, 'reasoning': 0}})]}\n",
      "{'messages': [AIMessage(content='', additional_kwargs={'tool_calls': [{'id': 'call_IxYT0cxgdDjV3Q9ii08KDJrh', 'function': {'arguments': '{\"query\":\"current weather in Los Angeles\"}', 'name': 'tavily_search_results_json'}, 'type': 'function'}], 'refusal': None}, response_metadata={'token_usage': {'completion_tokens': 23, 'prompt_tokens': 732, 'total_tokens': 755, 'completion_tokens_details': {'accepted_prediction_tokens': 0, 'audio_tokens': 0, 'reasoning_tokens': 0, 'rejected_prediction_tokens': 0}, 'prompt_tokens_details': {'audio_tokens': 0, 'cached_tokens': 0}}, 'model_name': 'gpt-4o-2024-08-06', 'system_fingerprint': 'fp_898ac29719', 'id': 'chatcmpl-BIBy7nVS5aabPLSZ8kgoFkkePg1HO', 'finish_reason': 'tool_calls', 'logprobs': None}, id='run-8fc48525-40f6-4385-8060-e5f7681b7afa-0', tool_calls=[{'name': 'tavily_search_results_json', 'args': {'query': 'current weather in Los Angeles'}, 'id': 'call_IxYT0cxgdDjV3Q9ii08KDJrh', 'type': 'tool_call'}], usage_metadata={'input_tokens': 732, 'output_tokens': 23, 'total_tokens': 755, 'input_token_details': {'audio': 0, 'cache_read': 0}, 'output_token_details': {'audio': 0, 'reasoning': 0}})]}\n",
      "()\n"
     ]
    }
   ],
   "source": [
    "for event in abot.graph.stream(None, thread):\n",
    "    for v in event.values():\n",
    "        print(v)"
   ]
  },
  {
   "cell_type": "markdown",
   "metadata": {},
   "source": [
    "Time Travel"
   ]
  },
  {
   "cell_type": "code",
   "execution_count": 30,
   "metadata": {},
   "outputs": [
    {
     "name": "stdout",
     "output_type": "stream",
     "text": [
      "StateSnapshot(values={'messages': [HumanMessage(content='Whats the weather in LA?', additional_kwargs={}, response_metadata={}, id='b6143d9e-c683-44b6-af23-b49e34215de2'), AIMessage(content='', additional_kwargs={'tool_calls': [{'id': 'call_eaMk8qDevR4wWwlo4lXUl3MW', 'function': {'arguments': '{\"query\":\"current weather in Los Angeles\"}', 'name': 'tavily_search_results_json'}, 'type': 'function'}], 'refusal': None}, response_metadata={'token_usage': {'completion_tokens': 23, 'prompt_tokens': 150, 'total_tokens': 173, 'completion_tokens_details': {'accepted_prediction_tokens': 0, 'audio_tokens': 0, 'reasoning_tokens': 0, 'rejected_prediction_tokens': 0}, 'prompt_tokens_details': {'audio_tokens': 0, 'cached_tokens': 0}}, 'model_name': 'gpt-4o-2024-08-06', 'system_fingerprint': 'fp_898ac29719', 'id': 'chatcmpl-BIBq4ILRLV9f1wUckictE6ewtNFym', 'finish_reason': 'tool_calls', 'logprobs': None}, id='run-29ca967b-403e-4134-bddf-a4c7183aa803-0', tool_calls=[{'name': 'tavily_search_results_json', 'args': {'query': 'current weather in Louisiana'}, 'id': 'call_eaMk8qDevR4wWwlo4lXUl3MW', 'type': 'tool_call'}], usage_metadata={'input_tokens': 150, 'output_tokens': 23, 'total_tokens': 173, 'input_token_details': {'audio': 0, 'cache_read': 0}, 'output_token_details': {'audio': 0, 'reasoning': 0}}), ToolMessage(content='[{\\'title\\': \\'Weather in Louisiana\\', \\'url\\': \\'https://www.weatherapi.com/\\', \\'content\\': \"{\\'location\\': {\\'name\\': \\'Louisiana\\', \\'region\\': \\'Missouri\\', \\'country\\': \\'USA United States of America\\', \\'lat\\': 39.4411, \\'lon\\': -91.0551, \\'tz_id\\': \\'America/Chicago\\', \\'localtime_epoch\\': 1743672222, \\'localtime\\': \\'2025-04-03 04:23\\'}, \\'current\\': {\\'last_updated_epoch\\': 1743671700, \\'last_updated\\': \\'2025-04-03 04:15\\', \\'temp_c\\': 12.2, \\'temp_f\\': 54.0, \\'is_day\\': 0, \\'condition\\': {\\'text\\': \\'Clear\\', \\'icon\\': \\'//cdn.weatherapi.com/weather/64x64/night/113.png\\', \\'code\\': 1000}, \\'wind_mph\\': 6.0, \\'wind_kph\\': 9.7, \\'wind_degree\\': 262, \\'wind_dir\\': \\'W\\', \\'pressure_mb\\': 1012.0, \\'pressure_in\\': 29.88, \\'precip_mm\\': 0.0, \\'precip_in\\': 0.0, \\'humidity\\': 67, \\'cloud\\': 0, \\'feelslike_c\\': 11.3, \\'feelslike_f\\': 52.3, \\'windchill_c\\': 8.3, \\'windchill_f\\': 47.0, \\'heatindex_c\\': 9.5, \\'heatindex_f\\': 49.2, \\'dewpoint_c\\': 7.3, \\'dewpoint_f\\': 45.1, \\'vis_km\\': 16.0, \\'vis_miles\\': 9.0, \\'uv\\': 0.0, \\'gust_mph\\': 12.7, \\'gust_kph\\': 20.4}}\", \\'score\\': 0.9689737}, {\\'title\\': \\'Weather Forecast and Conditions for Louisiana, LA\\', \\'url\\': \\'https://weather.com/weather/today/l/Louisiana+LA?placeId=c0ddc87c922dbe2cf7e9d0054dde4d8ca4cb307344fe711e9206ee736018c3b3\\', \\'content\\': \\'Louisiana, LA Forecast · Morning. 74°. -- · Afternoon. 74°. -- · Evening. 74°. Chance of Rain3% · Overnight. 73°. Chance of Rain7%\\', \\'score\\': 0.54274267}]', name='tavily_search_results_json', id='61eaaf33-7bde-4e42-82c1-dc2c58d6094f', tool_call_id='call_eaMk8qDevR4wWwlo4lXUl3MW'), AIMessage(content='', additional_kwargs={'tool_calls': [{'id': 'call_IxYT0cxgdDjV3Q9ii08KDJrh', 'function': {'arguments': '{\"query\":\"current weather in Los Angeles\"}', 'name': 'tavily_search_results_json'}, 'type': 'function'}], 'refusal': None}, response_metadata={'token_usage': {'completion_tokens': 23, 'prompt_tokens': 732, 'total_tokens': 755, 'completion_tokens_details': {'accepted_prediction_tokens': 0, 'audio_tokens': 0, 'reasoning_tokens': 0, 'rejected_prediction_tokens': 0}, 'prompt_tokens_details': {'audio_tokens': 0, 'cached_tokens': 0}}, 'model_name': 'gpt-4o-2024-08-06', 'system_fingerprint': 'fp_898ac29719', 'id': 'chatcmpl-BIBy7nVS5aabPLSZ8kgoFkkePg1HO', 'finish_reason': 'tool_calls', 'logprobs': None}, id='run-8fc48525-40f6-4385-8060-e5f7681b7afa-0', tool_calls=[{'name': 'tavily_search_results_json', 'args': {'query': 'current weather in Los Angeles'}, 'id': 'call_IxYT0cxgdDjV3Q9ii08KDJrh', 'type': 'tool_call'}], usage_metadata={'input_tokens': 732, 'output_tokens': 23, 'total_tokens': 755, 'input_token_details': {'audio': 0, 'cache_read': 0}, 'output_token_details': {'audio': 0, 'reasoning': 0}})]}, next=('action',), config={'configurable': {'thread_id': '4', 'checkpoint_ns': '', 'checkpoint_id': '1f010753-9b4b-6ec0-8004-637524ad43a5'}}, metadata={'source': 'loop', 'writes': {'llm': {'messages': [AIMessage(content='', additional_kwargs={'tool_calls': [{'id': 'call_IxYT0cxgdDjV3Q9ii08KDJrh', 'function': {'arguments': '{\"query\":\"current weather in Los Angeles\"}', 'name': 'tavily_search_results_json'}, 'type': 'function'}], 'refusal': None}, response_metadata={'token_usage': {'completion_tokens': 23, 'prompt_tokens': 732, 'total_tokens': 755, 'completion_tokens_details': {'accepted_prediction_tokens': 0, 'audio_tokens': 0, 'reasoning_tokens': 0, 'rejected_prediction_tokens': 0}, 'prompt_tokens_details': {'audio_tokens': 0, 'cached_tokens': 0}}, 'model_name': 'gpt-4o-2024-08-06', 'system_fingerprint': 'fp_898ac29719', 'id': 'chatcmpl-BIBy7nVS5aabPLSZ8kgoFkkePg1HO', 'finish_reason': 'tool_calls', 'logprobs': None}, id='run-8fc48525-40f6-4385-8060-e5f7681b7afa-0', tool_calls=[{'name': 'tavily_search_results_json', 'args': {'query': 'current weather in Los Angeles'}, 'id': 'call_IxYT0cxgdDjV3Q9ii08KDJrh', 'type': 'tool_call'}], usage_metadata={'input_tokens': 732, 'output_tokens': 23, 'total_tokens': 755, 'input_token_details': {'audio': 0, 'cache_read': 0}, 'output_token_details': {'audio': 0, 'reasoning': 0}})]}}, 'step': 4, 'parents': {}, 'thread_id': '4'}, created_at='2025-04-03T10:20:11.384007+00:00', parent_config={'configurable': {'thread_id': '4', 'checkpoint_ns': '', 'checkpoint_id': '1f010753-8e6b-606c-8003-82c39f3bd0b3'}}, tasks=(PregelTask(id='1e1496af-1fd3-26f5-8369-f42631d575f6', name='action', path=('__pregel_pull', 'action'), error=None, interrupts=(), state=None, result=None),))\n",
      "--\n",
      "StateSnapshot(values={'messages': [HumanMessage(content='Whats the weather in LA?', additional_kwargs={}, response_metadata={}, id='b6143d9e-c683-44b6-af23-b49e34215de2'), AIMessage(content='', additional_kwargs={'tool_calls': [{'id': 'call_eaMk8qDevR4wWwlo4lXUl3MW', 'function': {'arguments': '{\"query\":\"current weather in Los Angeles\"}', 'name': 'tavily_search_results_json'}, 'type': 'function'}], 'refusal': None}, response_metadata={'token_usage': {'completion_tokens': 23, 'prompt_tokens': 150, 'total_tokens': 173, 'completion_tokens_details': {'accepted_prediction_tokens': 0, 'audio_tokens': 0, 'reasoning_tokens': 0, 'rejected_prediction_tokens': 0}, 'prompt_tokens_details': {'audio_tokens': 0, 'cached_tokens': 0}}, 'model_name': 'gpt-4o-2024-08-06', 'system_fingerprint': 'fp_898ac29719', 'id': 'chatcmpl-BIBq4ILRLV9f1wUckictE6ewtNFym', 'finish_reason': 'tool_calls', 'logprobs': None}, id='run-29ca967b-403e-4134-bddf-a4c7183aa803-0', tool_calls=[{'name': 'tavily_search_results_json', 'args': {'query': 'current weather in Louisiana'}, 'id': 'call_eaMk8qDevR4wWwlo4lXUl3MW', 'type': 'tool_call'}], usage_metadata={'input_tokens': 150, 'output_tokens': 23, 'total_tokens': 173, 'input_token_details': {'audio': 0, 'cache_read': 0}, 'output_token_details': {'audio': 0, 'reasoning': 0}}), ToolMessage(content='[{\\'title\\': \\'Weather in Louisiana\\', \\'url\\': \\'https://www.weatherapi.com/\\', \\'content\\': \"{\\'location\\': {\\'name\\': \\'Louisiana\\', \\'region\\': \\'Missouri\\', \\'country\\': \\'USA United States of America\\', \\'lat\\': 39.4411, \\'lon\\': -91.0551, \\'tz_id\\': \\'America/Chicago\\', \\'localtime_epoch\\': 1743672222, \\'localtime\\': \\'2025-04-03 04:23\\'}, \\'current\\': {\\'last_updated_epoch\\': 1743671700, \\'last_updated\\': \\'2025-04-03 04:15\\', \\'temp_c\\': 12.2, \\'temp_f\\': 54.0, \\'is_day\\': 0, \\'condition\\': {\\'text\\': \\'Clear\\', \\'icon\\': \\'//cdn.weatherapi.com/weather/64x64/night/113.png\\', \\'code\\': 1000}, \\'wind_mph\\': 6.0, \\'wind_kph\\': 9.7, \\'wind_degree\\': 262, \\'wind_dir\\': \\'W\\', \\'pressure_mb\\': 1012.0, \\'pressure_in\\': 29.88, \\'precip_mm\\': 0.0, \\'precip_in\\': 0.0, \\'humidity\\': 67, \\'cloud\\': 0, \\'feelslike_c\\': 11.3, \\'feelslike_f\\': 52.3, \\'windchill_c\\': 8.3, \\'windchill_f\\': 47.0, \\'heatindex_c\\': 9.5, \\'heatindex_f\\': 49.2, \\'dewpoint_c\\': 7.3, \\'dewpoint_f\\': 45.1, \\'vis_km\\': 16.0, \\'vis_miles\\': 9.0, \\'uv\\': 0.0, \\'gust_mph\\': 12.7, \\'gust_kph\\': 20.4}}\", \\'score\\': 0.9689737}, {\\'title\\': \\'Weather Forecast and Conditions for Louisiana, LA\\', \\'url\\': \\'https://weather.com/weather/today/l/Louisiana+LA?placeId=c0ddc87c922dbe2cf7e9d0054dde4d8ca4cb307344fe711e9206ee736018c3b3\\', \\'content\\': \\'Louisiana, LA Forecast · Morning. 74°. -- · Afternoon. 74°. -- · Evening. 74°. Chance of Rain3% · Overnight. 73°. Chance of Rain7%\\', \\'score\\': 0.54274267}]', name='tavily_search_results_json', id='61eaaf33-7bde-4e42-82c1-dc2c58d6094f', tool_call_id='call_eaMk8qDevR4wWwlo4lXUl3MW')]}, next=('llm',), config={'configurable': {'thread_id': '4', 'checkpoint_ns': '', 'checkpoint_id': '1f010753-8e6b-606c-8003-82c39f3bd0b3'}}, metadata={'source': 'loop', 'writes': {'action': {'messages': [ToolMessage(content='[{\\'title\\': \\'Weather in Louisiana\\', \\'url\\': \\'https://www.weatherapi.com/\\', \\'content\\': \"{\\'location\\': {\\'name\\': \\'Louisiana\\', \\'region\\': \\'Missouri\\', \\'country\\': \\'USA United States of America\\', \\'lat\\': 39.4411, \\'lon\\': -91.0551, \\'tz_id\\': \\'America/Chicago\\', \\'localtime_epoch\\': 1743672222, \\'localtime\\': \\'2025-04-03 04:23\\'}, \\'current\\': {\\'last_updated_epoch\\': 1743671700, \\'last_updated\\': \\'2025-04-03 04:15\\', \\'temp_c\\': 12.2, \\'temp_f\\': 54.0, \\'is_day\\': 0, \\'condition\\': {\\'text\\': \\'Clear\\', \\'icon\\': \\'//cdn.weatherapi.com/weather/64x64/night/113.png\\', \\'code\\': 1000}, \\'wind_mph\\': 6.0, \\'wind_kph\\': 9.7, \\'wind_degree\\': 262, \\'wind_dir\\': \\'W\\', \\'pressure_mb\\': 1012.0, \\'pressure_in\\': 29.88, \\'precip_mm\\': 0.0, \\'precip_in\\': 0.0, \\'humidity\\': 67, \\'cloud\\': 0, \\'feelslike_c\\': 11.3, \\'feelslike_f\\': 52.3, \\'windchill_c\\': 8.3, \\'windchill_f\\': 47.0, \\'heatindex_c\\': 9.5, \\'heatindex_f\\': 49.2, \\'dewpoint_c\\': 7.3, \\'dewpoint_f\\': 45.1, \\'vis_km\\': 16.0, \\'vis_miles\\': 9.0, \\'uv\\': 0.0, \\'gust_mph\\': 12.7, \\'gust_kph\\': 20.4}}\", \\'score\\': 0.9689737}, {\\'title\\': \\'Weather Forecast and Conditions for Louisiana, LA\\', \\'url\\': \\'https://weather.com/weather/today/l/Louisiana+LA?placeId=c0ddc87c922dbe2cf7e9d0054dde4d8ca4cb307344fe711e9206ee736018c3b3\\', \\'content\\': \\'Louisiana, LA Forecast · Morning. 74°. -- · Afternoon. 74°. -- · Evening. 74°. Chance of Rain3% · Overnight. 73°. Chance of Rain7%\\', \\'score\\': 0.54274267}]', name='tavily_search_results_json', id='61eaaf33-7bde-4e42-82c1-dc2c58d6094f', tool_call_id='call_eaMk8qDevR4wWwlo4lXUl3MW')]}}, 'step': 3, 'parents': {}, 'thread_id': '4'}, created_at='2025-04-03T10:20:10.034596+00:00', parent_config={'configurable': {'thread_id': '4', 'checkpoint_ns': '', 'checkpoint_id': '1f01074f-16f7-694b-8002-c72c91da8558'}}, tasks=(PregelTask(id='20d2157d-2780-d543-d0ec-9b51796f1663', name='llm', path=('__pregel_pull', 'llm'), error=None, interrupts=(), state=None, result={'messages': [AIMessage(content='', additional_kwargs={'tool_calls': [{'id': 'call_IxYT0cxgdDjV3Q9ii08KDJrh', 'function': {'arguments': '{\"query\":\"current weather in Los Angeles\"}', 'name': 'tavily_search_results_json'}, 'type': 'function'}], 'refusal': None}, response_metadata={'token_usage': {'completion_tokens': 23, 'prompt_tokens': 732, 'total_tokens': 755, 'completion_tokens_details': {'accepted_prediction_tokens': 0, 'audio_tokens': 0, 'reasoning_tokens': 0, 'rejected_prediction_tokens': 0}, 'prompt_tokens_details': {'audio_tokens': 0, 'cached_tokens': 0}}, 'model_name': 'gpt-4o-2024-08-06', 'system_fingerprint': 'fp_898ac29719', 'id': 'chatcmpl-BIBy7nVS5aabPLSZ8kgoFkkePg1HO', 'finish_reason': 'tool_calls', 'logprobs': None}, id='run-8fc48525-40f6-4385-8060-e5f7681b7afa-0', tool_calls=[{'name': 'tavily_search_results_json', 'args': {'query': 'current weather in Los Angeles'}, 'id': 'call_IxYT0cxgdDjV3Q9ii08KDJrh', 'type': 'tool_call'}], usage_metadata={'input_tokens': 732, 'output_tokens': 23, 'total_tokens': 755, 'input_token_details': {'audio': 0, 'cache_read': 0}, 'output_token_details': {'audio': 0, 'reasoning': 0}})]}),))\n",
      "--\n",
      "StateSnapshot(values={'messages': [HumanMessage(content='Whats the weather in LA?', additional_kwargs={}, response_metadata={}, id='b6143d9e-c683-44b6-af23-b49e34215de2'), AIMessage(content='', additional_kwargs={'tool_calls': [{'id': 'call_eaMk8qDevR4wWwlo4lXUl3MW', 'function': {'arguments': '{\"query\":\"current weather in Los Angeles\"}', 'name': 'tavily_search_results_json'}, 'type': 'function'}], 'refusal': None}, response_metadata={'token_usage': {'completion_tokens': 23, 'prompt_tokens': 150, 'total_tokens': 173, 'completion_tokens_details': {'accepted_prediction_tokens': 0, 'audio_tokens': 0, 'reasoning_tokens': 0, 'rejected_prediction_tokens': 0}, 'prompt_tokens_details': {'audio_tokens': 0, 'cached_tokens': 0}}, 'model_name': 'gpt-4o-2024-08-06', 'system_fingerprint': 'fp_898ac29719', 'id': 'chatcmpl-BIBq4ILRLV9f1wUckictE6ewtNFym', 'finish_reason': 'tool_calls', 'logprobs': None}, id='run-29ca967b-403e-4134-bddf-a4c7183aa803-0', tool_calls=[{'name': 'tavily_search_results_json', 'args': {'query': 'current weather in Louisiana'}, 'id': 'call_eaMk8qDevR4wWwlo4lXUl3MW', 'type': 'tool_call'}], usage_metadata={'input_tokens': 150, 'output_tokens': 23, 'total_tokens': 173, 'input_token_details': {'audio': 0, 'cache_read': 0}, 'output_token_details': {'audio': 0, 'reasoning': 0}})]}, next=('action',), config={'configurable': {'thread_id': '4', 'checkpoint_ns': '', 'checkpoint_id': '1f01074f-16f7-694b-8002-c72c91da8558'}}, metadata={'source': 'update', 'writes': {'llm': {'messages': [HumanMessage(content='Whats the weather in LA?', additional_kwargs={}, response_metadata={}, id='b6143d9e-c683-44b6-af23-b49e34215de2'), AIMessage(content='', additional_kwargs={'tool_calls': [{'id': 'call_eaMk8qDevR4wWwlo4lXUl3MW', 'function': {'arguments': '{\"query\":\"current weather in Los Angeles\"}', 'name': 'tavily_search_results_json'}, 'type': 'function'}], 'refusal': None}, response_metadata={'token_usage': {'completion_tokens': 23, 'prompt_tokens': 150, 'total_tokens': 173, 'completion_tokens_details': {'accepted_prediction_tokens': 0, 'audio_tokens': 0, 'reasoning_tokens': 0, 'rejected_prediction_tokens': 0}, 'prompt_tokens_details': {'audio_tokens': 0, 'cached_tokens': 0}}, 'model_name': 'gpt-4o-2024-08-06', 'system_fingerprint': 'fp_898ac29719', 'id': 'chatcmpl-BIBq4ILRLV9f1wUckictE6ewtNFym', 'finish_reason': 'tool_calls', 'logprobs': None}, id='run-29ca967b-403e-4134-bddf-a4c7183aa803-0', tool_calls=[{'name': 'tavily_search_results_json', 'args': {'query': 'current weather in Louisiana'}, 'id': 'call_eaMk8qDevR4wWwlo4lXUl3MW', 'type': 'tool_call'}], usage_metadata={'input_tokens': 150, 'output_tokens': 23, 'total_tokens': 173, 'input_token_details': {'audio': 0, 'cache_read': 0}, 'output_token_details': {'audio': 0, 'reasoning': 0}})]}}, 'step': 2, 'parents': {}, 'thread_id': '4'}, created_at='2025-04-03T10:18:10.135073+00:00', parent_config={'configurable': {'thread_id': '4', 'checkpoint_ns': '', 'checkpoint_id': '1f010741-0746-6738-8001-14c61b87eaff'}}, tasks=(PregelTask(id='bba66997-7da2-4433-63b2-006416570f03', name='action', path=('__pregel_pull', 'action'), error=None, interrupts=(), state=None, result={'messages': [ToolMessage(content='[{\\'title\\': \\'Weather in Louisiana\\', \\'url\\': \\'https://www.weatherapi.com/\\', \\'content\\': \"{\\'location\\': {\\'name\\': \\'Louisiana\\', \\'region\\': \\'Missouri\\', \\'country\\': \\'USA United States of America\\', \\'lat\\': 39.4411, \\'lon\\': -91.0551, \\'tz_id\\': \\'America/Chicago\\', \\'localtime_epoch\\': 1743672222, \\'localtime\\': \\'2025-04-03 04:23\\'}, \\'current\\': {\\'last_updated_epoch\\': 1743671700, \\'last_updated\\': \\'2025-04-03 04:15\\', \\'temp_c\\': 12.2, \\'temp_f\\': 54.0, \\'is_day\\': 0, \\'condition\\': {\\'text\\': \\'Clear\\', \\'icon\\': \\'//cdn.weatherapi.com/weather/64x64/night/113.png\\', \\'code\\': 1000}, \\'wind_mph\\': 6.0, \\'wind_kph\\': 9.7, \\'wind_degree\\': 262, \\'wind_dir\\': \\'W\\', \\'pressure_mb\\': 1012.0, \\'pressure_in\\': 29.88, \\'precip_mm\\': 0.0, \\'precip_in\\': 0.0, \\'humidity\\': 67, \\'cloud\\': 0, \\'feelslike_c\\': 11.3, \\'feelslike_f\\': 52.3, \\'windchill_c\\': 8.3, \\'windchill_f\\': 47.0, \\'heatindex_c\\': 9.5, \\'heatindex_f\\': 49.2, \\'dewpoint_c\\': 7.3, \\'dewpoint_f\\': 45.1, \\'vis_km\\': 16.0, \\'vis_miles\\': 9.0, \\'uv\\': 0.0, \\'gust_mph\\': 12.7, \\'gust_kph\\': 20.4}}\", \\'score\\': 0.9689737}, {\\'title\\': \\'Weather Forecast and Conditions for Louisiana, LA\\', \\'url\\': \\'https://weather.com/weather/today/l/Louisiana+LA?placeId=c0ddc87c922dbe2cf7e9d0054dde4d8ca4cb307344fe711e9206ee736018c3b3\\', \\'content\\': \\'Louisiana, LA Forecast · Morning. 74°. -- · Afternoon. 74°. -- · Evening. 74°. Chance of Rain3% · Overnight. 73°. Chance of Rain7%\\', \\'score\\': 0.54274267}]', name='tavily_search_results_json', tool_call_id='call_eaMk8qDevR4wWwlo4lXUl3MW')]}),))\n",
      "--\n",
      "StateSnapshot(values={'messages': [HumanMessage(content='Whats the weather in LA?', additional_kwargs={}, response_metadata={}, id='b6143d9e-c683-44b6-af23-b49e34215de2'), AIMessage(content='', additional_kwargs={'tool_calls': [{'id': 'call_eaMk8qDevR4wWwlo4lXUl3MW', 'function': {'arguments': '{\"query\":\"current weather in Los Angeles\"}', 'name': 'tavily_search_results_json'}, 'type': 'function'}], 'refusal': None}, response_metadata={'token_usage': {'completion_tokens': 23, 'prompt_tokens': 150, 'total_tokens': 173, 'completion_tokens_details': {'accepted_prediction_tokens': 0, 'audio_tokens': 0, 'reasoning_tokens': 0, 'rejected_prediction_tokens': 0}, 'prompt_tokens_details': {'audio_tokens': 0, 'cached_tokens': 0}}, 'model_name': 'gpt-4o-2024-08-06', 'system_fingerprint': 'fp_898ac29719', 'id': 'chatcmpl-BIBq4ILRLV9f1wUckictE6ewtNFym', 'finish_reason': 'tool_calls', 'logprobs': None}, id='run-29ca967b-403e-4134-bddf-a4c7183aa803-0', tool_calls=[{'name': 'tavily_search_results_json', 'args': {'query': 'current weather in Los Angeles'}, 'id': 'call_eaMk8qDevR4wWwlo4lXUl3MW', 'type': 'tool_call'}], usage_metadata={'input_tokens': 150, 'output_tokens': 23, 'total_tokens': 173, 'input_token_details': {'audio': 0, 'cache_read': 0}, 'output_token_details': {'audio': 0, 'reasoning': 0}})]}, next=('action',), config={'configurable': {'thread_id': '4', 'checkpoint_ns': '', 'checkpoint_id': '1f010741-0746-6738-8001-14c61b87eaff'}}, metadata={'source': 'loop', 'writes': {'llm': {'messages': [AIMessage(content='', additional_kwargs={'tool_calls': [{'id': 'call_eaMk8qDevR4wWwlo4lXUl3MW', 'function': {'arguments': '{\"query\":\"current weather in Los Angeles\"}', 'name': 'tavily_search_results_json'}, 'type': 'function'}], 'refusal': None}, response_metadata={'token_usage': {'completion_tokens': 23, 'prompt_tokens': 150, 'total_tokens': 173, 'completion_tokens_details': {'accepted_prediction_tokens': 0, 'audio_tokens': 0, 'reasoning_tokens': 0, 'rejected_prediction_tokens': 0}, 'prompt_tokens_details': {'audio_tokens': 0, 'cached_tokens': 0}}, 'model_name': 'gpt-4o-2024-08-06', 'system_fingerprint': 'fp_898ac29719', 'id': 'chatcmpl-BIBq4ILRLV9f1wUckictE6ewtNFym', 'finish_reason': 'tool_calls', 'logprobs': None}, id='run-29ca967b-403e-4134-bddf-a4c7183aa803-0', tool_calls=[{'name': 'tavily_search_results_json', 'args': {'query': 'current weather in Los Angeles'}, 'id': 'call_eaMk8qDevR4wWwlo4lXUl3MW', 'type': 'tool_call'}], usage_metadata={'input_tokens': 150, 'output_tokens': 23, 'total_tokens': 173, 'input_token_details': {'audio': 0, 'cache_read': 0}, 'output_token_details': {'audio': 0, 'reasoning': 0}})]}}, 'step': 1, 'parents': {}, 'thread_id': '4'}, created_at='2025-04-03T10:11:52.680018+00:00', parent_config={'configurable': {'thread_id': '4', 'checkpoint_ns': '', 'checkpoint_id': '1f010740-fbf7-63a2-8000-9fe77f05c3b8'}}, tasks=(PregelTask(id='dcb0509a-7c4b-4aa4-f500-9775d0b527ed', name='action', path=('__pregel_pull', 'action'), error=None, interrupts=(), state=None, result=None),))\n",
      "--\n",
      "StateSnapshot(values={'messages': [HumanMessage(content='Whats the weather in LA?', additional_kwargs={}, response_metadata={}, id='b6143d9e-c683-44b6-af23-b49e34215de2')]}, next=('llm',), config={'configurable': {'thread_id': '4', 'checkpoint_ns': '', 'checkpoint_id': '1f010740-fbf7-63a2-8000-9fe77f05c3b8'}}, metadata={'source': 'loop', 'writes': None, 'step': 0, 'parents': {}, 'thread_id': '4'}, created_at='2025-04-03T10:11:51.494134+00:00', parent_config={'configurable': {'thread_id': '4', 'checkpoint_ns': '', 'checkpoint_id': '1f010740-fbef-6f13-bfff-5f32414a55d5'}}, tasks=(PregelTask(id='81224f84-922b-4552-1452-b8f8d018a22e', name='llm', path=('__pregel_pull', 'llm'), error=None, interrupts=(), state=None, result={'messages': [AIMessage(content='', additional_kwargs={'tool_calls': [{'id': 'call_eaMk8qDevR4wWwlo4lXUl3MW', 'function': {'arguments': '{\"query\":\"current weather in Los Angeles\"}', 'name': 'tavily_search_results_json'}, 'type': 'function'}], 'refusal': None}, response_metadata={'token_usage': {'completion_tokens': 23, 'prompt_tokens': 150, 'total_tokens': 173, 'completion_tokens_details': {'accepted_prediction_tokens': 0, 'audio_tokens': 0, 'reasoning_tokens': 0, 'rejected_prediction_tokens': 0}, 'prompt_tokens_details': {'audio_tokens': 0, 'cached_tokens': 0}}, 'model_name': 'gpt-4o-2024-08-06', 'system_fingerprint': 'fp_898ac29719', 'id': 'chatcmpl-BIBq4ILRLV9f1wUckictE6ewtNFym', 'finish_reason': 'tool_calls', 'logprobs': None}, id='run-29ca967b-403e-4134-bddf-a4c7183aa803-0', tool_calls=[{'name': 'tavily_search_results_json', 'args': {'query': 'current weather in Los Angeles'}, 'id': 'call_eaMk8qDevR4wWwlo4lXUl3MW', 'type': 'tool_call'}], usage_metadata={'input_tokens': 150, 'output_tokens': 23, 'total_tokens': 173, 'input_token_details': {'audio': 0, 'cache_read': 0}, 'output_token_details': {'audio': 0, 'reasoning': 0}})]}),))\n",
      "--\n",
      "StateSnapshot(values={'messages': []}, next=('__start__',), config={'configurable': {'thread_id': '4', 'checkpoint_ns': '', 'checkpoint_id': '1f010740-fbef-6f13-bfff-5f32414a55d5'}}, metadata={'source': 'input', 'writes': {'__start__': {'messages': [HumanMessage(content='Whats the weather in LA?', additional_kwargs={}, response_metadata={})]}}, 'step': -1, 'parents': {}, 'thread_id': '4'}, created_at='2025-04-03T10:11:51.491150+00:00', parent_config=None, tasks=(PregelTask(id='ce477b25-33a0-5c47-d4f4-d027539a22cb', name='__start__', path=('__pregel_pull', '__start__'), error=None, interrupts=(), state=None, result={'messages': [HumanMessage(content='Whats the weather in LA?', additional_kwargs={}, response_metadata={}, id='b6143d9e-c683-44b6-af23-b49e34215de2')]}),))\n",
      "--\n"
     ]
    }
   ],
   "source": [
    "states = []\n",
    "for state in abot.graph.get_state_history(thread):\n",
    "    print(state)\n",
    "    print('--')\n",
    "    states.append(state)"
   ]
  },
  {
   "cell_type": "code",
   "execution_count": 37,
   "metadata": {},
   "outputs": [],
   "source": [
    "to_replay = states[-3]"
   ]
  },
  {
   "cell_type": "code",
   "execution_count": 38,
   "metadata": {},
   "outputs": [
    {
     "data": {
      "text/plain": [
       "StateSnapshot(values={'messages': [HumanMessage(content='Whats the weather in LA?', additional_kwargs={}, response_metadata={}, id='b6143d9e-c683-44b6-af23-b49e34215de2'), AIMessage(content='', additional_kwargs={'tool_calls': [{'id': 'call_eaMk8qDevR4wWwlo4lXUl3MW', 'function': {'arguments': '{\"query\":\"current weather in Los Angeles\"}', 'name': 'tavily_search_results_json'}, 'type': 'function'}], 'refusal': None}, response_metadata={'token_usage': {'completion_tokens': 23, 'prompt_tokens': 150, 'total_tokens': 173, 'completion_tokens_details': {'accepted_prediction_tokens': 0, 'audio_tokens': 0, 'reasoning_tokens': 0, 'rejected_prediction_tokens': 0}, 'prompt_tokens_details': {'audio_tokens': 0, 'cached_tokens': 0}}, 'model_name': 'gpt-4o-2024-08-06', 'system_fingerprint': 'fp_898ac29719', 'id': 'chatcmpl-BIBq4ILRLV9f1wUckictE6ewtNFym', 'finish_reason': 'tool_calls', 'logprobs': None}, id='run-29ca967b-403e-4134-bddf-a4c7183aa803-0', tool_calls=[{'name': 'tavily_search_results_json', 'args': {'query': 'current weather in Los Angeles'}, 'id': 'call_eaMk8qDevR4wWwlo4lXUl3MW', 'type': 'tool_call'}], usage_metadata={'input_tokens': 150, 'output_tokens': 23, 'total_tokens': 173, 'input_token_details': {'audio': 0, 'cache_read': 0}, 'output_token_details': {'audio': 0, 'reasoning': 0}})]}, next=('action',), config={'configurable': {'thread_id': '4', 'checkpoint_ns': '', 'checkpoint_id': '1f010741-0746-6738-8001-14c61b87eaff'}}, metadata={'source': 'loop', 'writes': {'llm': {'messages': [AIMessage(content='', additional_kwargs={'tool_calls': [{'id': 'call_eaMk8qDevR4wWwlo4lXUl3MW', 'function': {'arguments': '{\"query\":\"current weather in Los Angeles\"}', 'name': 'tavily_search_results_json'}, 'type': 'function'}], 'refusal': None}, response_metadata={'token_usage': {'completion_tokens': 23, 'prompt_tokens': 150, 'total_tokens': 173, 'completion_tokens_details': {'accepted_prediction_tokens': 0, 'audio_tokens': 0, 'reasoning_tokens': 0, 'rejected_prediction_tokens': 0}, 'prompt_tokens_details': {'audio_tokens': 0, 'cached_tokens': 0}}, 'model_name': 'gpt-4o-2024-08-06', 'system_fingerprint': 'fp_898ac29719', 'id': 'chatcmpl-BIBq4ILRLV9f1wUckictE6ewtNFym', 'finish_reason': 'tool_calls', 'logprobs': None}, id='run-29ca967b-403e-4134-bddf-a4c7183aa803-0', tool_calls=[{'name': 'tavily_search_results_json', 'args': {'query': 'current weather in Los Angeles'}, 'id': 'call_eaMk8qDevR4wWwlo4lXUl3MW', 'type': 'tool_call'}], usage_metadata={'input_tokens': 150, 'output_tokens': 23, 'total_tokens': 173, 'input_token_details': {'audio': 0, 'cache_read': 0}, 'output_token_details': {'audio': 0, 'reasoning': 0}})]}}, 'step': 1, 'parents': {}, 'thread_id': '4'}, created_at='2025-04-03T10:11:52.680018+00:00', parent_config={'configurable': {'thread_id': '4', 'checkpoint_ns': '', 'checkpoint_id': '1f010740-fbf7-63a2-8000-9fe77f05c3b8'}}, tasks=(PregelTask(id='dcb0509a-7c4b-4aa4-f500-9775d0b527ed', name='action', path=('__pregel_pull', 'action'), error=None, interrupts=(), state=None, result=None),))"
      ]
     },
     "execution_count": 38,
     "metadata": {},
     "output_type": "execute_result"
    }
   ],
   "source": [
    "to_replay"
   ]
  },
  {
   "cell_type": "code",
   "execution_count": 39,
   "metadata": {},
   "outputs": [
    {
     "name": "stdout",
     "output_type": "stream",
     "text": [
      "Calling: {'name': 'tavily_search_results_json', 'args': {'query': 'current weather in Los Angeles'}, 'id': 'call_eaMk8qDevR4wWwlo4lXUl3MW', 'type': 'tool_call'}\n",
      "Back to the model!\n",
      "{'messages': [ToolMessage(content='[{\\'title\\': \\'Thursday, April 3, 2025. Los Angeles, CA - Weather Forecast\\', \\'url\\': \\'https://weathershogun.com/weather/usa/ca/los-angeles/451/april/2025-04-03\\', \\'content\\': \\'Los Angeles, California Weather: Thursday, April 3, 2025. Cloudy weather, overcast skies with clouds. Day 66°. Night 50°. Precipitation 10 %.\\', \\'score\\': 0.94314384}, {\\'title\\': \\'Weather in Los Angeles\\', \\'url\\': \\'https://www.weatherapi.com/\\', \\'content\\': \"{\\'location\\': {\\'name\\': \\'Los Angeles\\', \\'region\\': \\'California\\', \\'country\\': \\'United States of America\\', \\'lat\\': 34.0522, \\'lon\\': -118.2428, \\'tz_id\\': \\'America/Los_Angeles\\', \\'localtime_epoch\\': 1743676056, \\'localtime\\': \\'2025-04-03 03:27\\'}, \\'current\\': {\\'last_updated_epoch\\': 1743675300, \\'last_updated\\': \\'2025-04-03 03:15\\', \\'temp_c\\': 11.7, \\'temp_f\\': 53.1, \\'is_day\\': 0, \\'condition\\': {\\'text\\': \\'Partly cloudy\\', \\'icon\\': \\'//cdn.weatherapi.com/weather/64x64/night/116.png\\', \\'code\\': 1003}, \\'wind_mph\\': 7.4, \\'wind_kph\\': 11.9, \\'wind_degree\\': 87, \\'wind_dir\\': \\'E\\', \\'pressure_mb\\': 1012.0, \\'pressure_in\\': 29.88, \\'precip_mm\\': 0.0, \\'precip_in\\': 0.0, \\'humidity\\': 74, \\'cloud\\': 25, \\'feelslike_c\\': 10.4, \\'feelslike_f\\': 50.7, \\'windchill_c\\': 11.6, \\'windchill_f\\': 52.9, \\'heatindex_c\\': 12.3, \\'heatindex_f\\': 54.2, \\'dewpoint_c\\': 6.0, \\'dewpoint_f\\': 42.7, \\'vis_km\\': 16.0, \\'vis_miles\\': 9.0, \\'uv\\': 0.0, \\'gust_mph\\': 10.0, \\'gust_kph\\': 16.1}}\", \\'score\\': 0.8818349}]', name='tavily_search_results_json', id='59eee2f3-6a16-4f88-a6d5-fadd708a433e', tool_call_id='call_eaMk8qDevR4wWwlo4lXUl3MW')]}\n",
      "{'messages': [HumanMessage(content='Whats the weather in LA?', additional_kwargs={}, response_metadata={}, id='b6143d9e-c683-44b6-af23-b49e34215de2'), AIMessage(content='', additional_kwargs={'tool_calls': [{'id': 'call_eaMk8qDevR4wWwlo4lXUl3MW', 'function': {'arguments': '{\"query\":\"current weather in Los Angeles\"}', 'name': 'tavily_search_results_json'}, 'type': 'function'}], 'refusal': None}, response_metadata={'token_usage': {'completion_tokens': 23, 'prompt_tokens': 150, 'total_tokens': 173, 'completion_tokens_details': {'accepted_prediction_tokens': 0, 'audio_tokens': 0, 'reasoning_tokens': 0, 'rejected_prediction_tokens': 0}, 'prompt_tokens_details': {'audio_tokens': 0, 'cached_tokens': 0}}, 'model_name': 'gpt-4o-2024-08-06', 'system_fingerprint': 'fp_898ac29719', 'id': 'chatcmpl-BIBq4ILRLV9f1wUckictE6ewtNFym', 'finish_reason': 'tool_calls', 'logprobs': None}, id='run-29ca967b-403e-4134-bddf-a4c7183aa803-0', tool_calls=[{'name': 'tavily_search_results_json', 'args': {'query': 'current weather in Los Angeles'}, 'id': 'call_eaMk8qDevR4wWwlo4lXUl3MW', 'type': 'tool_call'}], usage_metadata={'input_tokens': 150, 'output_tokens': 23, 'total_tokens': 173, 'input_token_details': {'audio': 0, 'cache_read': 0}, 'output_token_details': {'audio': 0, 'reasoning': 0}}), ToolMessage(content='[{\\'title\\': \\'Thursday, April 3, 2025. Los Angeles, CA - Weather Forecast\\', \\'url\\': \\'https://weathershogun.com/weather/usa/ca/los-angeles/451/april/2025-04-03\\', \\'content\\': \\'Los Angeles, California Weather: Thursday, April 3, 2025. Cloudy weather, overcast skies with clouds. Day 66°. Night 50°. Precipitation 10 %.\\', \\'score\\': 0.94314384}, {\\'title\\': \\'Weather in Los Angeles\\', \\'url\\': \\'https://www.weatherapi.com/\\', \\'content\\': \"{\\'location\\': {\\'name\\': \\'Los Angeles\\', \\'region\\': \\'California\\', \\'country\\': \\'United States of America\\', \\'lat\\': 34.0522, \\'lon\\': -118.2428, \\'tz_id\\': \\'America/Los_Angeles\\', \\'localtime_epoch\\': 1743676056, \\'localtime\\': \\'2025-04-03 03:27\\'}, \\'current\\': {\\'last_updated_epoch\\': 1743675300, \\'last_updated\\': \\'2025-04-03 03:15\\', \\'temp_c\\': 11.7, \\'temp_f\\': 53.1, \\'is_day\\': 0, \\'condition\\': {\\'text\\': \\'Partly cloudy\\', \\'icon\\': \\'//cdn.weatherapi.com/weather/64x64/night/116.png\\', \\'code\\': 1003}, \\'wind_mph\\': 7.4, \\'wind_kph\\': 11.9, \\'wind_degree\\': 87, \\'wind_dir\\': \\'E\\', \\'pressure_mb\\': 1012.0, \\'pressure_in\\': 29.88, \\'precip_mm\\': 0.0, \\'precip_in\\': 0.0, \\'humidity\\': 74, \\'cloud\\': 25, \\'feelslike_c\\': 10.4, \\'feelslike_f\\': 50.7, \\'windchill_c\\': 11.6, \\'windchill_f\\': 52.9, \\'heatindex_c\\': 12.3, \\'heatindex_f\\': 54.2, \\'dewpoint_c\\': 6.0, \\'dewpoint_f\\': 42.7, \\'vis_km\\': 16.0, \\'vis_miles\\': 9.0, \\'uv\\': 0.0, \\'gust_mph\\': 10.0, \\'gust_kph\\': 16.1}}\", \\'score\\': 0.8818349}]', name='tavily_search_results_json', id='59eee2f3-6a16-4f88-a6d5-fadd708a433e', tool_call_id='call_eaMk8qDevR4wWwlo4lXUl3MW'), AIMessage(content='The current weather in Los Angeles, California is partly cloudy. The temperature is approximately 53.1°F (11.7°C) with an easterly wind at 7.4 mph (11.9 kph). Humidity is at 74%, with no significant precipitation and good visibility of up to 9 miles (16 km).', additional_kwargs={'refusal': None}, response_metadata={'token_usage': {'completion_tokens': 72, 'prompt_tokens': 718, 'total_tokens': 790, 'completion_tokens_details': {'accepted_prediction_tokens': 0, 'audio_tokens': 0, 'reasoning_tokens': 0, 'rejected_prediction_tokens': 0}, 'prompt_tokens_details': {'audio_tokens': 0, 'cached_tokens': 0}}, 'model_name': 'gpt-4o-2024-08-06', 'system_fingerprint': 'fp_898ac29719', 'id': 'chatcmpl-BIC3AAEB9xPbKEopRa70RIdSLTpUx', 'finish_reason': 'stop', 'logprobs': None}, id='run-5c648259-432d-4b88-9913-48b94d8f3912-0', usage_metadata={'input_tokens': 718, 'output_tokens': 72, 'total_tokens': 790, 'input_token_details': {'audio': 0, 'cache_read': 0}, 'output_token_details': {'audio': 0, 'reasoning': 0}})]}\n",
      "{'messages': [AIMessage(content='The current weather in Los Angeles, California is partly cloudy. The temperature is approximately 53.1°F (11.7°C) with an easterly wind at 7.4 mph (11.9 kph). Humidity is at 74%, with no significant precipitation and good visibility of up to 9 miles (16 km).', additional_kwargs={'refusal': None}, response_metadata={'token_usage': {'completion_tokens': 72, 'prompt_tokens': 718, 'total_tokens': 790, 'completion_tokens_details': {'accepted_prediction_tokens': 0, 'audio_tokens': 0, 'reasoning_tokens': 0, 'rejected_prediction_tokens': 0}, 'prompt_tokens_details': {'audio_tokens': 0, 'cached_tokens': 0}}, 'model_name': 'gpt-4o-2024-08-06', 'system_fingerprint': 'fp_898ac29719', 'id': 'chatcmpl-BIC3AAEB9xPbKEopRa70RIdSLTpUx', 'finish_reason': 'stop', 'logprobs': None}, id='run-5c648259-432d-4b88-9913-48b94d8f3912-0', usage_metadata={'input_tokens': 718, 'output_tokens': 72, 'total_tokens': 790, 'input_token_details': {'audio': 0, 'cache_read': 0}, 'output_token_details': {'audio': 0, 'reasoning': 0}})]}\n"
     ]
    }
   ],
   "source": [
    "for event in abot.graph.stream(None, to_replay.config):\n",
    "    for k, v in event.items():\n",
    "        print(v)"
   ]
  },
  {
   "cell_type": "markdown",
   "metadata": {},
   "source": [
    "Add message to a state at a given time"
   ]
  },
  {
   "cell_type": "code",
   "execution_count": 40,
   "metadata": {},
   "outputs": [
    {
     "data": {
      "text/plain": [
       "StateSnapshot(values={'messages': [HumanMessage(content='Whats the weather in LA?', additional_kwargs={}, response_metadata={}, id='b6143d9e-c683-44b6-af23-b49e34215de2'), AIMessage(content='', additional_kwargs={'tool_calls': [{'id': 'call_eaMk8qDevR4wWwlo4lXUl3MW', 'function': {'arguments': '{\"query\":\"current weather in Los Angeles\"}', 'name': 'tavily_search_results_json'}, 'type': 'function'}], 'refusal': None}, response_metadata={'token_usage': {'completion_tokens': 23, 'prompt_tokens': 150, 'total_tokens': 173, 'completion_tokens_details': {'accepted_prediction_tokens': 0, 'audio_tokens': 0, 'reasoning_tokens': 0, 'rejected_prediction_tokens': 0}, 'prompt_tokens_details': {'audio_tokens': 0, 'cached_tokens': 0}}, 'model_name': 'gpt-4o-2024-08-06', 'system_fingerprint': 'fp_898ac29719', 'id': 'chatcmpl-BIBq4ILRLV9f1wUckictE6ewtNFym', 'finish_reason': 'tool_calls', 'logprobs': None}, id='run-29ca967b-403e-4134-bddf-a4c7183aa803-0', tool_calls=[{'name': 'tavily_search_results_json', 'args': {'query': 'current weather in Los Angeles'}, 'id': 'call_eaMk8qDevR4wWwlo4lXUl3MW', 'type': 'tool_call'}], usage_metadata={'input_tokens': 150, 'output_tokens': 23, 'total_tokens': 173, 'input_token_details': {'audio': 0, 'cache_read': 0}, 'output_token_details': {'audio': 0, 'reasoning': 0}})]}, next=('action',), config={'configurable': {'thread_id': '4', 'checkpoint_ns': '', 'checkpoint_id': '1f010741-0746-6738-8001-14c61b87eaff'}}, metadata={'source': 'loop', 'writes': {'llm': {'messages': [AIMessage(content='', additional_kwargs={'tool_calls': [{'id': 'call_eaMk8qDevR4wWwlo4lXUl3MW', 'function': {'arguments': '{\"query\":\"current weather in Los Angeles\"}', 'name': 'tavily_search_results_json'}, 'type': 'function'}], 'refusal': None}, response_metadata={'token_usage': {'completion_tokens': 23, 'prompt_tokens': 150, 'total_tokens': 173, 'completion_tokens_details': {'accepted_prediction_tokens': 0, 'audio_tokens': 0, 'reasoning_tokens': 0, 'rejected_prediction_tokens': 0}, 'prompt_tokens_details': {'audio_tokens': 0, 'cached_tokens': 0}}, 'model_name': 'gpt-4o-2024-08-06', 'system_fingerprint': 'fp_898ac29719', 'id': 'chatcmpl-BIBq4ILRLV9f1wUckictE6ewtNFym', 'finish_reason': 'tool_calls', 'logprobs': None}, id='run-29ca967b-403e-4134-bddf-a4c7183aa803-0', tool_calls=[{'name': 'tavily_search_results_json', 'args': {'query': 'current weather in Los Angeles'}, 'id': 'call_eaMk8qDevR4wWwlo4lXUl3MW', 'type': 'tool_call'}], usage_metadata={'input_tokens': 150, 'output_tokens': 23, 'total_tokens': 173, 'input_token_details': {'audio': 0, 'cache_read': 0}, 'output_token_details': {'audio': 0, 'reasoning': 0}})]}}, 'step': 1, 'parents': {}, 'thread_id': '4'}, created_at='2025-04-03T10:11:52.680018+00:00', parent_config={'configurable': {'thread_id': '4', 'checkpoint_ns': '', 'checkpoint_id': '1f010740-fbf7-63a2-8000-9fe77f05c3b8'}}, tasks=(PregelTask(id='dcb0509a-7c4b-4aa4-f500-9775d0b527ed', name='action', path=('__pregel_pull', 'action'), error=None, interrupts=(), state=None, result=None),))"
      ]
     },
     "execution_count": 40,
     "metadata": {},
     "output_type": "execute_result"
    }
   ],
   "source": [
    "to_replay"
   ]
  },
  {
   "cell_type": "code",
   "execution_count": 41,
   "metadata": {},
   "outputs": [],
   "source": [
    "_id = to_replay.values['messages'][-1].tool_calls[0]['id']"
   ]
  },
  {
   "cell_type": "code",
   "execution_count": null,
   "metadata": {},
   "outputs": [],
   "source": [
    "state_update = {\"messages\": [ToolMessage(\n",
    "    tool_call_id=_id,\n",
    "    name=\"tavily_search_results_json\",\n",
    "    content=\"54 degree celcius\", # Changing message\n",
    ")]}"
   ]
  },
  {
   "cell_type": "code",
   "execution_count": 43,
   "metadata": {},
   "outputs": [],
   "source": [
    "branch_and_add = abot.graph.update_state(\n",
    "    to_replay.config, \n",
    "    state_update, \n",
    "    as_node=\"action\")"
   ]
  },
  {
   "cell_type": "code",
   "execution_count": 44,
   "metadata": {},
   "outputs": [
    {
     "name": "stdout",
     "output_type": "stream",
     "text": [
      "{'messages': [HumanMessage(content='Whats the weather in LA?', additional_kwargs={}, response_metadata={}, id='b6143d9e-c683-44b6-af23-b49e34215de2'), AIMessage(content='', additional_kwargs={'tool_calls': [{'id': 'call_eaMk8qDevR4wWwlo4lXUl3MW', 'function': {'arguments': '{\"query\":\"current weather in Los Angeles\"}', 'name': 'tavily_search_results_json'}, 'type': 'function'}], 'refusal': None}, response_metadata={'token_usage': {'completion_tokens': 23, 'prompt_tokens': 150, 'total_tokens': 173, 'completion_tokens_details': {'accepted_prediction_tokens': 0, 'audio_tokens': 0, 'reasoning_tokens': 0, 'rejected_prediction_tokens': 0}, 'prompt_tokens_details': {'audio_tokens': 0, 'cached_tokens': 0}}, 'model_name': 'gpt-4o-2024-08-06', 'system_fingerprint': 'fp_898ac29719', 'id': 'chatcmpl-BIBq4ILRLV9f1wUckictE6ewtNFym', 'finish_reason': 'tool_calls', 'logprobs': None}, id='run-29ca967b-403e-4134-bddf-a4c7183aa803-0', tool_calls=[{'name': 'tavily_search_results_json', 'args': {'query': 'current weather in Los Angeles'}, 'id': 'call_eaMk8qDevR4wWwlo4lXUl3MW', 'type': 'tool_call'}], usage_metadata={'input_tokens': 150, 'output_tokens': 23, 'total_tokens': 173, 'input_token_details': {'audio': 0, 'cache_read': 0}, 'output_token_details': {'audio': 0, 'reasoning': 0}}), ToolMessage(content='54 degree celcius', name='tavily_search_results_json', id='c3bf44ef-89d2-4b9e-90c0-abd76295cef6', tool_call_id='call_eaMk8qDevR4wWwlo4lXUl3MW'), AIMessage(content=\"The current temperature in Los Angeles is 54 degrees Celsius. This seems unusually high, as it's not typical for Los Angeles to experience such temperatures. It's possible there may be an error, so it might be a good idea to check a reliable weather service for confirmation.\", additional_kwargs={'refusal': None}, response_metadata={'token_usage': {'completion_tokens': 55, 'prompt_tokens': 188, 'total_tokens': 243, 'completion_tokens_details': {'accepted_prediction_tokens': 0, 'audio_tokens': 0, 'reasoning_tokens': 0, 'rejected_prediction_tokens': 0}, 'prompt_tokens_details': {'audio_tokens': 0, 'cached_tokens': 0}}, 'model_name': 'gpt-4o-2024-08-06', 'system_fingerprint': 'fp_898ac29719', 'id': 'chatcmpl-BIC5dj1AxfsKaE6IYyjAxlngZkyLb', 'finish_reason': 'stop', 'logprobs': None}, id='run-223e3d8f-41cf-4241-bdaa-48e45496aaab-0', usage_metadata={'input_tokens': 188, 'output_tokens': 55, 'total_tokens': 243, 'input_token_details': {'audio': 0, 'cache_read': 0}, 'output_token_details': {'audio': 0, 'reasoning': 0}})]}\n",
      "{'messages': [AIMessage(content=\"The current temperature in Los Angeles is 54 degrees Celsius. This seems unusually high, as it's not typical for Los Angeles to experience such temperatures. It's possible there may be an error, so it might be a good idea to check a reliable weather service for confirmation.\", additional_kwargs={'refusal': None}, response_metadata={'token_usage': {'completion_tokens': 55, 'prompt_tokens': 188, 'total_tokens': 243, 'completion_tokens_details': {'accepted_prediction_tokens': 0, 'audio_tokens': 0, 'reasoning_tokens': 0, 'rejected_prediction_tokens': 0}, 'prompt_tokens_details': {'audio_tokens': 0, 'cached_tokens': 0}}, 'model_name': 'gpt-4o-2024-08-06', 'system_fingerprint': 'fp_898ac29719', 'id': 'chatcmpl-BIC5dj1AxfsKaE6IYyjAxlngZkyLb', 'finish_reason': 'stop', 'logprobs': None}, id='run-223e3d8f-41cf-4241-bdaa-48e45496aaab-0', usage_metadata={'input_tokens': 188, 'output_tokens': 55, 'total_tokens': 243, 'input_token_details': {'audio': 0, 'cache_read': 0}, 'output_token_details': {'audio': 0, 'reasoning': 0}})]}\n"
     ]
    }
   ],
   "source": [
    "for event in abot.graph.stream(None, branch_and_add):\n",
    "    for k, v in event.items():\n",
    "        print(v)"
   ]
  }
 ],
 "metadata": {
  "kernelspec": {
   "display_name": "myenv",
   "language": "python",
   "name": "python3"
  },
  "language_info": {
   "codemirror_mode": {
    "name": "ipython",
    "version": 3
   },
   "file_extension": ".py",
   "mimetype": "text/x-python",
   "name": "python",
   "nbconvert_exporter": "python",
   "pygments_lexer": "ipython3",
   "version": "3.12.9"
  }
 },
 "nbformat": 4,
 "nbformat_minor": 2
}
