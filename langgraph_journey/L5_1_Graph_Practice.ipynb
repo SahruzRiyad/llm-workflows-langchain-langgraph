{
 "cells": [
  {
   "cell_type": "code",
   "execution_count": 1,
   "metadata": {},
   "outputs": [],
   "source": [
    "import os\n",
    "from dotenv import load_dotenv\n",
    "\n",
    "load_dotenv()\n",
    "\n",
    "openai_api_key = os.getenv(\"OPENAI_API_KEY\")\n",
    "\n",
    "os.environ[\"OPENAI_API_KEY\"] = openai_api_key\n",
    "\n",
    "tavily_api_key = os.getenv(\"TAVILY_API_KEY\")\n",
    "os.environ[\"TAVILY_API_KEY\"] = tavily_api_key"
   ]
  },
  {
   "cell_type": "code",
   "execution_count": 2,
   "metadata": {},
   "outputs": [],
   "source": [
    "from langgraph.graph import StateGraph, END\n",
    "from typing import TypedDict, Annotated\n",
    "import operator, sqlite3\n",
    "from langgraph.checkpoint.sqlite import SqliteSaver"
   ]
  },
  {
   "cell_type": "code",
   "execution_count": 3,
   "metadata": {},
   "outputs": [],
   "source": [
    "class AgentState(TypedDict):\n",
    "    lnode: str\n",
    "    scratch: str\n",
    "    count: Annotated[int, operator.add]"
   ]
  },
  {
   "cell_type": "code",
   "execution_count": 4,
   "metadata": {},
   "outputs": [],
   "source": [
    "def node1(state: AgentState):\n",
    "    print(f\"node1, count: {state['count']}\")\n",
    "    return {\n",
    "        \"lnode\": \"node_1\",\n",
    "        \"count\": 1,\n",
    "    }"
   ]
  },
  {
   "cell_type": "code",
   "execution_count": 5,
   "metadata": {},
   "outputs": [],
   "source": [
    "def node2(state: AgentState):\n",
    "    print(f\"node2, count: {state['count']}\")\n",
    "    return {\n",
    "        \"lnode\": \"node_2\",\n",
    "        \"count\": 1,\n",
    "    }"
   ]
  },
  {
   "cell_type": "markdown",
   "metadata": {},
   "source": [
    "The graph goes N1->N2->N1... but breaks after count reaches 3."
   ]
  },
  {
   "cell_type": "code",
   "execution_count": 6,
   "metadata": {},
   "outputs": [],
   "source": [
    "def should_continue(state):\n",
    "    return state[\"count\"] < 3"
   ]
  },
  {
   "cell_type": "code",
   "execution_count": 7,
   "metadata": {},
   "outputs": [
    {
     "data": {
      "text/plain": [
       "<langgraph.graph.state.StateGraph at 0x1df4f893ce0>"
      ]
     },
     "execution_count": 7,
     "metadata": {},
     "output_type": "execute_result"
    }
   ],
   "source": [
    "builder = StateGraph(AgentState)\n",
    "builder.add_node(\"Node1\",node1)\n",
    "builder.add_node(\"Node2\",node2)\n",
    "\n",
    "builder.add_edge(\"Node1\", \"Node2\")\n",
    "builder.add_conditional_edges(\n",
    "    \"Node2\",\n",
    "    should_continue,\n",
    "    {True: \"Node1\", False: END}\n",
    ")\n",
    "builder.set_entry_point(\"Node1\")"
   ]
  },
  {
   "cell_type": "code",
   "execution_count": 10,
   "metadata": {},
   "outputs": [],
   "source": [
    "conn = sqlite3.Connection(\"checkpoints.sqlite\", check_same_thread=False)\n",
    "memory = SqliteSaver(conn)\n",
    "graph = builder.compile(checkpointer=memory)"
   ]
  },
  {
   "cell_type": "code",
   "execution_count": 11,
   "metadata": {},
   "outputs": [
    {
     "name": "stdout",
     "output_type": "stream",
     "text": [
      "node1, count: 0\n",
      "node2, count: 1\n",
      "node1, count: 2\n",
      "node2, count: 3\n"
     ]
    },
    {
     "data": {
      "text/plain": [
       "{'lnode': 'node_2', 'scratch': 'hi', 'count': 4}"
      ]
     },
     "execution_count": 11,
     "metadata": {},
     "output_type": "execute_result"
    }
   ],
   "source": [
    "thread = {\"configurable\": {\"thread_id\": str(1)}}\n",
    "graph.invoke({\"count\":0, \"scratch\":\"hi\"},thread)"
   ]
  },
  {
   "cell_type": "code",
   "execution_count": 12,
   "metadata": {},
   "outputs": [
    {
     "data": {
      "text/plain": [
       "StateSnapshot(values={'lnode': 'node_2', 'scratch': 'hi', 'count': 4}, next=(), config={'configurable': {'thread_id': '1', 'checkpoint_ns': '', 'checkpoint_id': '1f0109b5-c559-6431-8009-2091696b4f1c'}}, metadata={'source': 'loop', 'writes': {'Node2': {'lnode': 'node_2', 'count': 1}}, 'step': 9, 'parents': {}, 'thread_id': '1'}, created_at='2025-04-03T14:53:10.357304+00:00', parent_config={'configurable': {'thread_id': '1', 'checkpoint_ns': '', 'checkpoint_id': '1f0109b5-c539-69c6-8008-c3024f5dd25e'}}, tasks=())"
      ]
     },
     "execution_count": 12,
     "metadata": {},
     "output_type": "execute_result"
    }
   ],
   "source": [
    "graph.get_state(thread)"
   ]
  },
  {
   "cell_type": "code",
   "execution_count": 13,
   "metadata": {},
   "outputs": [
    {
     "name": "stdout",
     "output_type": "stream",
     "text": [
      "StateSnapshot(values={'lnode': 'node_2', 'scratch': 'hi', 'count': 4}, next=(), config={'configurable': {'thread_id': '1', 'checkpoint_ns': '', 'checkpoint_id': '1f0109b5-c559-6431-8009-2091696b4f1c'}}, metadata={'source': 'loop', 'writes': {'Node2': {'lnode': 'node_2', 'count': 1}}, 'step': 9, 'parents': {}, 'thread_id': '1'}, created_at='2025-04-03T14:53:10.357304+00:00', parent_config={'configurable': {'thread_id': '1', 'checkpoint_ns': '', 'checkpoint_id': '1f0109b5-c539-69c6-8008-c3024f5dd25e'}}, tasks=()) \n",
      "\n",
      "StateSnapshot(values={'lnode': 'node_1', 'scratch': 'hi', 'count': 3}, next=('Node2',), config={'configurable': {'thread_id': '1', 'checkpoint_ns': '', 'checkpoint_id': '1f0109b5-c539-69c6-8008-c3024f5dd25e'}}, metadata={'source': 'loop', 'writes': {'Node1': {'lnode': 'node_1', 'count': 1}}, 'step': 8, 'parents': {}, 'thread_id': '1'}, created_at='2025-04-03T14:53:10.344339+00:00', parent_config={'configurable': {'thread_id': '1', 'checkpoint_ns': '', 'checkpoint_id': '1f0109b5-c534-6bd5-8007-4e546e2c7174'}}, tasks=(PregelTask(id='9a8b7394-a14f-dfbe-d06d-1d7e1e2daa62', name='Node2', path=('__pregel_pull', 'Node2'), error=None, interrupts=(), state=None, result={'lnode': 'node_2', 'count': 1}),)) \n",
      "\n",
      "StateSnapshot(values={'lnode': 'node_2', 'scratch': 'hi', 'count': 2}, next=('Node1',), config={'configurable': {'thread_id': '1', 'checkpoint_ns': '', 'checkpoint_id': '1f0109b5-c534-6bd5-8007-4e546e2c7174'}}, metadata={'source': 'loop', 'writes': {'Node2': {'lnode': 'node_2', 'count': 1}}, 'step': 7, 'parents': {}, 'thread_id': '1'}, created_at='2025-04-03T14:53:10.342344+00:00', parent_config={'configurable': {'thread_id': '1', 'checkpoint_ns': '', 'checkpoint_id': '1f0109b5-c51c-662a-8006-ed450a05a470'}}, tasks=(PregelTask(id='2a12b87d-9f32-492a-b04d-d203079f39cb', name='Node1', path=('__pregel_pull', 'Node1'), error=None, interrupts=(), state=None, result={'lnode': 'node_1', 'count': 1}),)) \n",
      "\n",
      "StateSnapshot(values={'lnode': 'node_1', 'scratch': 'hi', 'count': 1}, next=('Node2',), config={'configurable': {'thread_id': '1', 'checkpoint_ns': '', 'checkpoint_id': '1f0109b5-c51c-662a-8006-ed450a05a470'}}, metadata={'source': 'loop', 'writes': {'Node1': {'lnode': 'node_1', 'count': 1}}, 'step': 6, 'parents': {}, 'thread_id': '1'}, created_at='2025-04-03T14:53:10.332369+00:00', parent_config={'configurable': {'thread_id': '1', 'checkpoint_ns': '', 'checkpoint_id': '1f0109b5-c4d0-6e73-8005-7b99894bc844'}}, tasks=(PregelTask(id='f73a7bc8-402d-9fa2-659a-79c1a290b287', name='Node2', path=('__pregel_pull', 'Node2'), error=None, interrupts=(), state=None, result={'lnode': 'node_2', 'count': 1}),)) \n",
      "\n",
      "StateSnapshot(values={'scratch': 'hi', 'count': 0}, next=('Node1',), config={'configurable': {'thread_id': '1', 'checkpoint_ns': '', 'checkpoint_id': '1f0109b5-c4d0-6e73-8005-7b99894bc844'}}, metadata={'source': 'loop', 'writes': None, 'step': 5, 'parents': {}, 'thread_id': '1'}, created_at='2025-04-03T14:53:10.301451+00:00', parent_config={'configurable': {'thread_id': '1', 'checkpoint_ns': '', 'checkpoint_id': '1f0109b5-c4a7-6838-8004-355da06a0aae'}}, tasks=(PregelTask(id='aa8271d9-6cd3-a08d-6f99-963e35dc41b8', name='Node1', path=('__pregel_pull', 'Node1'), error=None, interrupts=(), state=None, result={'lnode': 'node_1', 'count': 1}),)) \n",
      "\n",
      "StateSnapshot(values={'count': 0}, next=('__start__',), config={'configurable': {'thread_id': '1', 'checkpoint_ns': '', 'checkpoint_id': '1f0109b5-c4a7-6838-8004-355da06a0aae'}}, metadata={'source': 'input', 'writes': {'__start__': {'count': 0, 'scratch': 'hi'}}, 'step': 4, 'parents': {}, 'thread_id': '1'}, created_at='2025-04-03T14:53:10.284498+00:00', parent_config={'configurable': {'thread_id': '1', 'checkpoint_ns': '', 'checkpoint_id': '1f010727-63e1-60b4-8003-6ba71c383f37'}}, tasks=(PregelTask(id='7d80c4b5-5188-a489-7aa6-6740d2919473', name='__start__', path=('__pregel_pull', '__start__'), error=None, interrupts=(), state=None, result={'count': 0, 'scratch': 'hi'}),)) \n",
      "\n",
      "StateSnapshot(values={'count': 0}, next=(), config={'configurable': {'thread_id': '1', 'checkpoint_ns': '', 'checkpoint_id': '1f010727-63e1-60b4-8003-6ba71c383f37'}}, metadata={'source': 'loop', 'writes': None, 'step': 3, 'parents': {}, 'thread_id': '1'}, created_at='2025-04-03T10:00:24.458053+00:00', parent_config={'configurable': {'thread_id': '1', 'checkpoint_ns': '', 'checkpoint_id': '1f010727-63b2-6c77-8002-260ef229d4ea'}}, tasks=()) \n",
      "\n",
      "StateSnapshot(values={'count': 0}, next=('__start__',), config={'configurable': {'thread_id': '1', 'checkpoint_ns': '', 'checkpoint_id': '1f010727-63b2-6c77-8002-260ef229d4ea'}}, metadata={'source': 'input', 'writes': {'__start__': {'messages': [HumanMessage(content='Whats the weather in LA?', additional_kwargs={}, response_metadata={})]}}, 'step': 2, 'parents': {}, 'thread_id': '1'}, created_at='2025-04-03T10:00:24.439103+00:00', parent_config={'configurable': {'thread_id': '1', 'checkpoint_ns': '', 'checkpoint_id': '1f010727-62ba-6e8c-8001-cf2c86ad76f1'}}, tasks=(PregelTask(id='d15b0b39-f82b-f3ef-cbb5-ed4cb69338c4', name='__start__', path=('__pregel_pull', '__start__'), error=None, interrupts=(), state=None, result={}),)) \n",
      "\n",
      "StateSnapshot(values={'count': 0}, next=(), config={'configurable': {'thread_id': '1', 'checkpoint_ns': '', 'checkpoint_id': '1f010727-62ba-6e8c-8001-cf2c86ad76f1'}}, metadata={'source': 'loop', 'writes': {'llm': {'messages': [AIMessage(content='', additional_kwargs={'tool_calls': [{'id': 'call_Q0688Nzw1RiH63YOipy5r3ZA', 'function': {'arguments': '{\"query\":\"current weather in San Francisco\"}', 'name': 'tavily_search_results_json'}, 'type': 'function'}], 'refusal': None}, response_metadata={'token_usage': {'completion_tokens': 23, 'prompt_tokens': 150, 'total_tokens': 173, 'completion_tokens_details': {'accepted_prediction_tokens': 0, 'audio_tokens': 0, 'reasoning_tokens': 0, 'rejected_prediction_tokens': 0}, 'prompt_tokens_details': {'audio_tokens': 0, 'cached_tokens': 0}}, 'model_name': 'gpt-4o-2024-08-06', 'system_fingerprint': 'fp_898ac29719', 'id': 'chatcmpl-BIBexlP7Zjpr0FwmIJfp80utYu9sq', 'finish_reason': 'tool_calls', 'logprobs': None}, id='run-8c2bcf4a-be6c-416c-a166-b4a867261b97-0', tool_calls=[{'name': 'tavily_search_results_json', 'args': {'query': 'current weather in San Francisco'}, 'id': 'call_Q0688Nzw1RiH63YOipy5r3ZA', 'type': 'tool_call'}], usage_metadata={'input_tokens': 150, 'output_tokens': 23, 'total_tokens': 173, 'input_token_details': {'audio': 0, 'cache_read': 0}, 'output_token_details': {'audio': 0, 'reasoning': 0}})]}}, 'step': 1, 'parents': {}, 'thread_id': '1'}, created_at='2025-04-03T10:00:24.337575+00:00', parent_config={'configurable': {'thread_id': '1', 'checkpoint_ns': '', 'checkpoint_id': '1f010727-5317-6d17-8000-6ca75702871b'}}, tasks=()) \n",
      "\n",
      "StateSnapshot(values={'count': 0}, next=(), config={'configurable': {'thread_id': '1', 'checkpoint_ns': '', 'checkpoint_id': '1f010727-5317-6d17-8000-6ca75702871b'}}, metadata={'source': 'loop', 'writes': None, 'step': 0, 'parents': {}, 'thread_id': '1'}, created_at='2025-04-03T10:00:22.697909+00:00', parent_config={'configurable': {'thread_id': '1', 'checkpoint_ns': '', 'checkpoint_id': '1f010727-530b-6a3f-bfff-f1e93e85f694'}}, tasks=()) \n",
      "\n",
      "StateSnapshot(values={'count': 0}, next=('__start__',), config={'configurable': {'thread_id': '1', 'checkpoint_ns': '', 'checkpoint_id': '1f010727-530b-6a3f-bfff-f1e93e85f694'}}, metadata={'source': 'input', 'writes': {'__start__': {'messages': [HumanMessage(content='Whats the weather in SF?', additional_kwargs={}, response_metadata={})]}}, 'step': -1, 'parents': {}, 'thread_id': '1'}, created_at='2025-04-03T10:00:22.692921+00:00', parent_config=None, tasks=(PregelTask(id='9b1ba5de-c50e-0e50-4c70-583c16675b39', name='__start__', path=('__pregel_pull', '__start__'), error=None, interrupts=(), state=None, result={}),)) \n",
      "\n"
     ]
    }
   ],
   "source": [
    "for state in graph.get_state_history(thread):\n",
    "    print(state, \"\\n\")"
   ]
  },
  {
   "cell_type": "code",
   "execution_count": 14,
   "metadata": {},
   "outputs": [
    {
     "name": "stdout",
     "output_type": "stream",
     "text": [
      "{'configurable': {'thread_id': '1', 'checkpoint_ns': '', 'checkpoint_id': '1f0109b5-c559-6431-8009-2091696b4f1c'}} 4\n",
      "{'configurable': {'thread_id': '1', 'checkpoint_ns': '', 'checkpoint_id': '1f0109b5-c539-69c6-8008-c3024f5dd25e'}} 3\n",
      "{'configurable': {'thread_id': '1', 'checkpoint_ns': '', 'checkpoint_id': '1f0109b5-c534-6bd5-8007-4e546e2c7174'}} 2\n",
      "{'configurable': {'thread_id': '1', 'checkpoint_ns': '', 'checkpoint_id': '1f0109b5-c51c-662a-8006-ed450a05a470'}} 1\n",
      "{'configurable': {'thread_id': '1', 'checkpoint_ns': '', 'checkpoint_id': '1f0109b5-c4d0-6e73-8005-7b99894bc844'}} 0\n",
      "{'configurable': {'thread_id': '1', 'checkpoint_ns': '', 'checkpoint_id': '1f0109b5-c4a7-6838-8004-355da06a0aae'}} 0\n",
      "{'configurable': {'thread_id': '1', 'checkpoint_ns': '', 'checkpoint_id': '1f010727-63e1-60b4-8003-6ba71c383f37'}} 0\n",
      "{'configurable': {'thread_id': '1', 'checkpoint_ns': '', 'checkpoint_id': '1f010727-63b2-6c77-8002-260ef229d4ea'}} 0\n",
      "{'configurable': {'thread_id': '1', 'checkpoint_ns': '', 'checkpoint_id': '1f010727-62ba-6e8c-8001-cf2c86ad76f1'}} 0\n",
      "{'configurable': {'thread_id': '1', 'checkpoint_ns': '', 'checkpoint_id': '1f010727-5317-6d17-8000-6ca75702871b'}} 0\n",
      "{'configurable': {'thread_id': '1', 'checkpoint_ns': '', 'checkpoint_id': '1f010727-530b-6a3f-bfff-f1e93e85f694'}} 0\n"
     ]
    }
   ],
   "source": [
    "states = []\n",
    "for state in graph.get_state_history(thread):\n",
    "    states.append(state.config)\n",
    "    print(state.config, state.values['count'])"
   ]
  },
  {
   "cell_type": "code",
   "execution_count": 15,
   "metadata": {},
   "outputs": [
    {
     "data": {
      "text/plain": [
       "{'configurable': {'thread_id': '1',\n",
       "  'checkpoint_ns': '',\n",
       "  'checkpoint_id': '1f010727-62ba-6e8c-8001-cf2c86ad76f1'}}"
      ]
     },
     "execution_count": 15,
     "metadata": {},
     "output_type": "execute_result"
    }
   ],
   "source": [
    "states[-3]"
   ]
  },
  {
   "cell_type": "code",
   "execution_count": 16,
   "metadata": {},
   "outputs": [
    {
     "data": {
      "text/plain": [
       "StateSnapshot(values={'count': 0}, next=(), config={'configurable': {'thread_id': '1', 'checkpoint_ns': '', 'checkpoint_id': '1f010727-62ba-6e8c-8001-cf2c86ad76f1'}}, metadata={'source': 'loop', 'writes': {'llm': {'messages': [AIMessage(content='', additional_kwargs={'tool_calls': [{'id': 'call_Q0688Nzw1RiH63YOipy5r3ZA', 'function': {'arguments': '{\"query\":\"current weather in San Francisco\"}', 'name': 'tavily_search_results_json'}, 'type': 'function'}], 'refusal': None}, response_metadata={'token_usage': {'completion_tokens': 23, 'prompt_tokens': 150, 'total_tokens': 173, 'completion_tokens_details': {'accepted_prediction_tokens': 0, 'audio_tokens': 0, 'reasoning_tokens': 0, 'rejected_prediction_tokens': 0}, 'prompt_tokens_details': {'audio_tokens': 0, 'cached_tokens': 0}}, 'model_name': 'gpt-4o-2024-08-06', 'system_fingerprint': 'fp_898ac29719', 'id': 'chatcmpl-BIBexlP7Zjpr0FwmIJfp80utYu9sq', 'finish_reason': 'tool_calls', 'logprobs': None}, id='run-8c2bcf4a-be6c-416c-a166-b4a867261b97-0', tool_calls=[{'name': 'tavily_search_results_json', 'args': {'query': 'current weather in San Francisco'}, 'id': 'call_Q0688Nzw1RiH63YOipy5r3ZA', 'type': 'tool_call'}], usage_metadata={'input_tokens': 150, 'output_tokens': 23, 'total_tokens': 173, 'input_token_details': {'audio': 0, 'cache_read': 0}, 'output_token_details': {'audio': 0, 'reasoning': 0}})]}}, 'step': 1, 'parents': {}, 'thread_id': '1'}, created_at='2025-04-03T10:00:24.337575+00:00', parent_config={'configurable': {'thread_id': '1', 'checkpoint_ns': '', 'checkpoint_id': '1f010727-5317-6d17-8000-6ca75702871b'}}, tasks=())"
      ]
     },
     "execution_count": 16,
     "metadata": {},
     "output_type": "execute_result"
    }
   ],
   "source": [
    "graph.get_state(states[-3])"
   ]
  },
  {
   "cell_type": "code",
   "execution_count": 17,
   "metadata": {},
   "outputs": [
    {
     "data": {
      "text/plain": [
       "{'count': 0}"
      ]
     },
     "execution_count": 17,
     "metadata": {},
     "output_type": "execute_result"
    }
   ],
   "source": [
    "graph.invoke(None, states[-3])"
   ]
  },
  {
   "cell_type": "code",
   "execution_count": 18,
   "metadata": {},
   "outputs": [
    {
     "name": "stdout",
     "output_type": "stream",
     "text": [
      "{'configurable': {'thread_id': '1', 'checkpoint_ns': '', 'checkpoint_id': '1f0109b5-c559-6431-8009-2091696b4f1c'}} 4\n",
      "{'configurable': {'thread_id': '1', 'checkpoint_ns': '', 'checkpoint_id': '1f0109b5-c539-69c6-8008-c3024f5dd25e'}} 3\n",
      "{'configurable': {'thread_id': '1', 'checkpoint_ns': '', 'checkpoint_id': '1f0109b5-c534-6bd5-8007-4e546e2c7174'}} 2\n",
      "{'configurable': {'thread_id': '1', 'checkpoint_ns': '', 'checkpoint_id': '1f0109b5-c51c-662a-8006-ed450a05a470'}} 1\n",
      "{'configurable': {'thread_id': '1', 'checkpoint_ns': '', 'checkpoint_id': '1f0109b5-c4d0-6e73-8005-7b99894bc844'}} 0\n",
      "{'configurable': {'thread_id': '1', 'checkpoint_ns': '', 'checkpoint_id': '1f0109b5-c4a7-6838-8004-355da06a0aae'}} 0\n",
      "{'configurable': {'thread_id': '1', 'checkpoint_ns': '', 'checkpoint_id': '1f010727-63e1-60b4-8003-6ba71c383f37'}} 0\n",
      "{'configurable': {'thread_id': '1', 'checkpoint_ns': '', 'checkpoint_id': '1f010727-63b2-6c77-8002-260ef229d4ea'}} 0\n",
      "{'configurable': {'thread_id': '1', 'checkpoint_ns': '', 'checkpoint_id': '1f010727-62ba-6e8c-8001-cf2c86ad76f1'}} 0\n",
      "{'configurable': {'thread_id': '1', 'checkpoint_ns': '', 'checkpoint_id': '1f010727-5317-6d17-8000-6ca75702871b'}} 0\n",
      "{'configurable': {'thread_id': '1', 'checkpoint_ns': '', 'checkpoint_id': '1f010727-530b-6a3f-bfff-f1e93e85f694'}} 0\n"
     ]
    }
   ],
   "source": [
    "thread = {\"configurable\": {\"thread_id\": str(1)}}\n",
    "for state in graph.get_state_history(thread):\n",
    "    print(state.config, state.values['count'])"
   ]
  },
  {
   "cell_type": "code",
   "execution_count": 19,
   "metadata": {},
   "outputs": [
    {
     "name": "stdout",
     "output_type": "stream",
     "text": [
      "StateSnapshot(values={'lnode': 'node_2', 'scratch': 'hi', 'count': 4}, next=(), config={'configurable': {'thread_id': '1', 'checkpoint_ns': '', 'checkpoint_id': '1f0109b5-c559-6431-8009-2091696b4f1c'}}, metadata={'source': 'loop', 'writes': {'Node2': {'lnode': 'node_2', 'count': 1}}, 'step': 9, 'parents': {}, 'thread_id': '1'}, created_at='2025-04-03T14:53:10.357304+00:00', parent_config={'configurable': {'thread_id': '1', 'checkpoint_ns': '', 'checkpoint_id': '1f0109b5-c539-69c6-8008-c3024f5dd25e'}}, tasks=()) \n",
      "\n",
      "StateSnapshot(values={'lnode': 'node_1', 'scratch': 'hi', 'count': 3}, next=('Node2',), config={'configurable': {'thread_id': '1', 'checkpoint_ns': '', 'checkpoint_id': '1f0109b5-c539-69c6-8008-c3024f5dd25e'}}, metadata={'source': 'loop', 'writes': {'Node1': {'lnode': 'node_1', 'count': 1}}, 'step': 8, 'parents': {}, 'thread_id': '1'}, created_at='2025-04-03T14:53:10.344339+00:00', parent_config={'configurable': {'thread_id': '1', 'checkpoint_ns': '', 'checkpoint_id': '1f0109b5-c534-6bd5-8007-4e546e2c7174'}}, tasks=(PregelTask(id='9a8b7394-a14f-dfbe-d06d-1d7e1e2daa62', name='Node2', path=('__pregel_pull', 'Node2'), error=None, interrupts=(), state=None, result={'lnode': 'node_2', 'count': 1}),)) \n",
      "\n",
      "StateSnapshot(values={'lnode': 'node_2', 'scratch': 'hi', 'count': 2}, next=('Node1',), config={'configurable': {'thread_id': '1', 'checkpoint_ns': '', 'checkpoint_id': '1f0109b5-c534-6bd5-8007-4e546e2c7174'}}, metadata={'source': 'loop', 'writes': {'Node2': {'lnode': 'node_2', 'count': 1}}, 'step': 7, 'parents': {}, 'thread_id': '1'}, created_at='2025-04-03T14:53:10.342344+00:00', parent_config={'configurable': {'thread_id': '1', 'checkpoint_ns': '', 'checkpoint_id': '1f0109b5-c51c-662a-8006-ed450a05a470'}}, tasks=(PregelTask(id='2a12b87d-9f32-492a-b04d-d203079f39cb', name='Node1', path=('__pregel_pull', 'Node1'), error=None, interrupts=(), state=None, result={'lnode': 'node_1', 'count': 1}),)) \n",
      "\n",
      "StateSnapshot(values={'lnode': 'node_1', 'scratch': 'hi', 'count': 1}, next=('Node2',), config={'configurable': {'thread_id': '1', 'checkpoint_ns': '', 'checkpoint_id': '1f0109b5-c51c-662a-8006-ed450a05a470'}}, metadata={'source': 'loop', 'writes': {'Node1': {'lnode': 'node_1', 'count': 1}}, 'step': 6, 'parents': {}, 'thread_id': '1'}, created_at='2025-04-03T14:53:10.332369+00:00', parent_config={'configurable': {'thread_id': '1', 'checkpoint_ns': '', 'checkpoint_id': '1f0109b5-c4d0-6e73-8005-7b99894bc844'}}, tasks=(PregelTask(id='f73a7bc8-402d-9fa2-659a-79c1a290b287', name='Node2', path=('__pregel_pull', 'Node2'), error=None, interrupts=(), state=None, result={'lnode': 'node_2', 'count': 1}),)) \n",
      "\n",
      "StateSnapshot(values={'scratch': 'hi', 'count': 0}, next=('Node1',), config={'configurable': {'thread_id': '1', 'checkpoint_ns': '', 'checkpoint_id': '1f0109b5-c4d0-6e73-8005-7b99894bc844'}}, metadata={'source': 'loop', 'writes': None, 'step': 5, 'parents': {}, 'thread_id': '1'}, created_at='2025-04-03T14:53:10.301451+00:00', parent_config={'configurable': {'thread_id': '1', 'checkpoint_ns': '', 'checkpoint_id': '1f0109b5-c4a7-6838-8004-355da06a0aae'}}, tasks=(PregelTask(id='aa8271d9-6cd3-a08d-6f99-963e35dc41b8', name='Node1', path=('__pregel_pull', 'Node1'), error=None, interrupts=(), state=None, result={'lnode': 'node_1', 'count': 1}),)) \n",
      "\n",
      "StateSnapshot(values={'count': 0}, next=('__start__',), config={'configurable': {'thread_id': '1', 'checkpoint_ns': '', 'checkpoint_id': '1f0109b5-c4a7-6838-8004-355da06a0aae'}}, metadata={'source': 'input', 'writes': {'__start__': {'count': 0, 'scratch': 'hi'}}, 'step': 4, 'parents': {}, 'thread_id': '1'}, created_at='2025-04-03T14:53:10.284498+00:00', parent_config={'configurable': {'thread_id': '1', 'checkpoint_ns': '', 'checkpoint_id': '1f010727-63e1-60b4-8003-6ba71c383f37'}}, tasks=(PregelTask(id='7d80c4b5-5188-a489-7aa6-6740d2919473', name='__start__', path=('__pregel_pull', '__start__'), error=None, interrupts=(), state=None, result={'count': 0, 'scratch': 'hi'}),)) \n",
      "\n",
      "StateSnapshot(values={'count': 0}, next=(), config={'configurable': {'thread_id': '1', 'checkpoint_ns': '', 'checkpoint_id': '1f010727-63e1-60b4-8003-6ba71c383f37'}}, metadata={'source': 'loop', 'writes': None, 'step': 3, 'parents': {}, 'thread_id': '1'}, created_at='2025-04-03T10:00:24.458053+00:00', parent_config={'configurable': {'thread_id': '1', 'checkpoint_ns': '', 'checkpoint_id': '1f010727-63b2-6c77-8002-260ef229d4ea'}}, tasks=()) \n",
      "\n",
      "StateSnapshot(values={'count': 0}, next=('__start__',), config={'configurable': {'thread_id': '1', 'checkpoint_ns': '', 'checkpoint_id': '1f010727-63b2-6c77-8002-260ef229d4ea'}}, metadata={'source': 'input', 'writes': {'__start__': {'messages': [HumanMessage(content='Whats the weather in LA?', additional_kwargs={}, response_metadata={})]}}, 'step': 2, 'parents': {}, 'thread_id': '1'}, created_at='2025-04-03T10:00:24.439103+00:00', parent_config={'configurable': {'thread_id': '1', 'checkpoint_ns': '', 'checkpoint_id': '1f010727-62ba-6e8c-8001-cf2c86ad76f1'}}, tasks=(PregelTask(id='d15b0b39-f82b-f3ef-cbb5-ed4cb69338c4', name='__start__', path=('__pregel_pull', '__start__'), error=None, interrupts=(), state=None, result={}),)) \n",
      "\n",
      "StateSnapshot(values={'count': 0}, next=(), config={'configurable': {'thread_id': '1', 'checkpoint_ns': '', 'checkpoint_id': '1f010727-62ba-6e8c-8001-cf2c86ad76f1'}}, metadata={'source': 'loop', 'writes': {'llm': {'messages': [AIMessage(content='', additional_kwargs={'tool_calls': [{'id': 'call_Q0688Nzw1RiH63YOipy5r3ZA', 'function': {'arguments': '{\"query\":\"current weather in San Francisco\"}', 'name': 'tavily_search_results_json'}, 'type': 'function'}], 'refusal': None}, response_metadata={'token_usage': {'completion_tokens': 23, 'prompt_tokens': 150, 'total_tokens': 173, 'completion_tokens_details': {'accepted_prediction_tokens': 0, 'audio_tokens': 0, 'reasoning_tokens': 0, 'rejected_prediction_tokens': 0}, 'prompt_tokens_details': {'audio_tokens': 0, 'cached_tokens': 0}}, 'model_name': 'gpt-4o-2024-08-06', 'system_fingerprint': 'fp_898ac29719', 'id': 'chatcmpl-BIBexlP7Zjpr0FwmIJfp80utYu9sq', 'finish_reason': 'tool_calls', 'logprobs': None}, id='run-8c2bcf4a-be6c-416c-a166-b4a867261b97-0', tool_calls=[{'name': 'tavily_search_results_json', 'args': {'query': 'current weather in San Francisco'}, 'id': 'call_Q0688Nzw1RiH63YOipy5r3ZA', 'type': 'tool_call'}], usage_metadata={'input_tokens': 150, 'output_tokens': 23, 'total_tokens': 173, 'input_token_details': {'audio': 0, 'cache_read': 0}, 'output_token_details': {'audio': 0, 'reasoning': 0}})]}}, 'step': 1, 'parents': {}, 'thread_id': '1'}, created_at='2025-04-03T10:00:24.337575+00:00', parent_config={'configurable': {'thread_id': '1', 'checkpoint_ns': '', 'checkpoint_id': '1f010727-5317-6d17-8000-6ca75702871b'}}, tasks=()) \n",
      "\n",
      "StateSnapshot(values={'count': 0}, next=(), config={'configurable': {'thread_id': '1', 'checkpoint_ns': '', 'checkpoint_id': '1f010727-5317-6d17-8000-6ca75702871b'}}, metadata={'source': 'loop', 'writes': None, 'step': 0, 'parents': {}, 'thread_id': '1'}, created_at='2025-04-03T10:00:22.697909+00:00', parent_config={'configurable': {'thread_id': '1', 'checkpoint_ns': '', 'checkpoint_id': '1f010727-530b-6a3f-bfff-f1e93e85f694'}}, tasks=()) \n",
      "\n",
      "StateSnapshot(values={'count': 0}, next=('__start__',), config={'configurable': {'thread_id': '1', 'checkpoint_ns': '', 'checkpoint_id': '1f010727-530b-6a3f-bfff-f1e93e85f694'}}, metadata={'source': 'input', 'writes': {'__start__': {'messages': [HumanMessage(content='Whats the weather in SF?', additional_kwargs={}, response_metadata={})]}}, 'step': -1, 'parents': {}, 'thread_id': '1'}, created_at='2025-04-03T10:00:22.692921+00:00', parent_config=None, tasks=(PregelTask(id='9b1ba5de-c50e-0e50-4c70-583c16675b39', name='__start__', path=('__pregel_pull', '__start__'), error=None, interrupts=(), state=None, result={}),)) \n",
      "\n"
     ]
    }
   ],
   "source": [
    "thread = {\"configurable\": {\"thread_id\": str(1)}}\n",
    "for state in graph.get_state_history(thread):\n",
    "    print(state,\"\\n\")"
   ]
  },
  {
   "cell_type": "code",
   "execution_count": 20,
   "metadata": {},
   "outputs": [
    {
     "name": "stdout",
     "output_type": "stream",
     "text": [
      "node1, count: 0\n",
      "node2, count: 1\n",
      "node1, count: 2\n",
      "node2, count: 3\n"
     ]
    },
    {
     "data": {
      "text/plain": [
       "{'lnode': 'node_2', 'scratch': 'hi', 'count': 4}"
      ]
     },
     "execution_count": 20,
     "metadata": {},
     "output_type": "execute_result"
    }
   ],
   "source": [
    "thread2 = {\"configurable\": {\"thread_id\": str(2)}}\n",
    "graph.invoke({\"count\":0, \"scratch\":\"hi\"},thread2)"
   ]
  },
  {
   "cell_type": "code",
   "execution_count": 21,
   "metadata": {},
   "outputs": [
    {
     "name": "stdout",
     "output_type": "stream",
     "text": [
      "{'configurable': {'thread_id': '2', 'checkpoint_ns': '', 'checkpoint_id': '1f0109c6-7353-68cf-800c-c47313269dd3'}} 4\n",
      "{'configurable': {'thread_id': '2', 'checkpoint_ns': '', 'checkpoint_id': '1f0109c6-7349-6cda-800b-82b8f4c8e3b0'}} 3\n",
      "{'configurable': {'thread_id': '2', 'checkpoint_ns': '', 'checkpoint_id': '1f0109c6-7344-6f06-800a-c1c07a60b9b0'}} 2\n",
      "{'configurable': {'thread_id': '2', 'checkpoint_ns': '', 'checkpoint_id': '1f0109c6-7331-68e3-8009-4b12058588af'}} 1\n",
      "{'configurable': {'thread_id': '2', 'checkpoint_ns': '', 'checkpoint_id': '1f0109c6-732a-6264-8008-7a2b8cc2635a'}} 0\n",
      "{'configurable': {'thread_id': '2', 'checkpoint_ns': '', 'checkpoint_id': '1f0109c6-7322-6d8c-8007-86ce5a11a9e6'}} 0\n",
      "{'configurable': {'thread_id': '2', 'checkpoint_ns': '', 'checkpoint_id': '1f010734-fa65-65b2-8006-0352c05e683f'}} 0\n",
      "{'configurable': {'thread_id': '2', 'checkpoint_ns': '', 'checkpoint_id': '1f010734-eeb6-6bf1-8005-90544b0e6a54'}} 0\n",
      "{'configurable': {'thread_id': '2', 'checkpoint_ns': '', 'checkpoint_id': '1f010734-eead-6028-8004-8f42355f0a34'}} 0\n",
      "{'configurable': {'thread_id': '2', 'checkpoint_ns': '', 'checkpoint_id': '1f01072a-3467-6f7e-8003-d7626e1b298a'}} 0\n",
      "{'configurable': {'thread_id': '2', 'checkpoint_ns': '', 'checkpoint_id': '1f01072a-1d44-60e1-8002-a91becdd88dd'}} 0\n",
      "{'configurable': {'thread_id': '2', 'checkpoint_ns': '', 'checkpoint_id': '1f010728-b12f-60dc-8001-3da87e6ee316'}} 0\n",
      "{'configurable': {'thread_id': '2', 'checkpoint_ns': '', 'checkpoint_id': '1f010728-a3a7-64e9-8000-c9f5646e1746'}} 0\n",
      "{'configurable': {'thread_id': '2', 'checkpoint_ns': '', 'checkpoint_id': '1f010728-a39d-6938-bfff-0dcbdd3ea580'}} 0\n"
     ]
    }
   ],
   "source": [
    "states2 = []\n",
    "for state in graph.get_state_history(thread2):\n",
    "    states2.append(state.config)\n",
    "    print(state.config, state.values['count'])   "
   ]
  },
  {
   "cell_type": "code",
   "execution_count": 23,
   "metadata": {},
   "outputs": [
    {
     "data": {
      "text/plain": [
       "StateSnapshot(values={'count': 0}, next=(), config={'configurable': {'thread_id': '2', 'checkpoint_ns': '', 'checkpoint_id': '1f010728-b12f-60dc-8001-3da87e6ee316'}}, metadata={'source': 'loop', 'writes': {'llm': {'messages': [AIMessage(content='', additional_kwargs={'tool_calls': [{'id': 'call_TXhEpd2BqYoM3e31G5PJlVuu', 'function': {'arguments': '{\"query\":\"current weather in Los Angeles\"}', 'name': 'tavily_search_results_json'}, 'type': 'function'}], 'refusal': None}, response_metadata={'token_usage': {'completion_tokens': 23, 'prompt_tokens': 150, 'total_tokens': 173, 'completion_tokens_details': {'accepted_prediction_tokens': 0, 'audio_tokens': 0, 'reasoning_tokens': 0, 'rejected_prediction_tokens': 0}, 'prompt_tokens_details': {'audio_tokens': 0, 'cached_tokens': 0}}, 'model_name': 'gpt-4o-2024-08-06', 'system_fingerprint': 'fp_898ac29719', 'id': 'chatcmpl-BIBfXUu1bEJPWPnpmLX4KggCCfQw7', 'finish_reason': 'tool_calls', 'logprobs': None}, id='run-c953b961-10bd-4b48-bb16-170a692b0de9-0', tool_calls=[{'name': 'tavily_search_results_json', 'args': {'query': 'current weather in Los Angeles'}, 'id': 'call_TXhEpd2BqYoM3e31G5PJlVuu', 'type': 'tool_call'}], usage_metadata={'input_tokens': 150, 'output_tokens': 23, 'total_tokens': 173, 'input_token_details': {'audio': 0, 'cache_read': 0}, 'output_token_details': {'audio': 0, 'reasoning': 0}})]}}, 'step': 1, 'parents': {}, 'thread_id': '2'}, created_at='2025-04-03T10:00:59.407586+00:00', parent_config={'configurable': {'thread_id': '2', 'checkpoint_ns': '', 'checkpoint_id': '1f010728-a3a7-64e9-8000-c9f5646e1746'}}, tasks=())"
      ]
     },
     "execution_count": 23,
     "metadata": {},
     "output_type": "execute_result"
    }
   ],
   "source": [
    "save_state = graph.get_state(states2[-3])\n",
    "save_state"
   ]
  },
  {
   "cell_type": "code",
   "execution_count": 24,
   "metadata": {},
   "outputs": [
    {
     "data": {
      "text/plain": [
       "StateSnapshot(values={'count': -3, 'scratch': 'hello'}, next=(), config={'configurable': {'thread_id': '2', 'checkpoint_ns': '', 'checkpoint_id': '1f010728-b12f-60dc-8001-3da87e6ee316'}}, metadata={'source': 'loop', 'writes': {'llm': {'messages': [AIMessage(content='', additional_kwargs={'tool_calls': [{'id': 'call_TXhEpd2BqYoM3e31G5PJlVuu', 'function': {'arguments': '{\"query\":\"current weather in Los Angeles\"}', 'name': 'tavily_search_results_json'}, 'type': 'function'}], 'refusal': None}, response_metadata={'token_usage': {'completion_tokens': 23, 'prompt_tokens': 150, 'total_tokens': 173, 'completion_tokens_details': {'accepted_prediction_tokens': 0, 'audio_tokens': 0, 'reasoning_tokens': 0, 'rejected_prediction_tokens': 0}, 'prompt_tokens_details': {'audio_tokens': 0, 'cached_tokens': 0}}, 'model_name': 'gpt-4o-2024-08-06', 'system_fingerprint': 'fp_898ac29719', 'id': 'chatcmpl-BIBfXUu1bEJPWPnpmLX4KggCCfQw7', 'finish_reason': 'tool_calls', 'logprobs': None}, id='run-c953b961-10bd-4b48-bb16-170a692b0de9-0', tool_calls=[{'name': 'tavily_search_results_json', 'args': {'query': 'current weather in Los Angeles'}, 'id': 'call_TXhEpd2BqYoM3e31G5PJlVuu', 'type': 'tool_call'}], usage_metadata={'input_tokens': 150, 'output_tokens': 23, 'total_tokens': 173, 'input_token_details': {'audio': 0, 'cache_read': 0}, 'output_token_details': {'audio': 0, 'reasoning': 0}})]}}, 'step': 1, 'parents': {}, 'thread_id': '2'}, created_at='2025-04-03T10:00:59.407586+00:00', parent_config={'configurable': {'thread_id': '2', 'checkpoint_ns': '', 'checkpoint_id': '1f010728-a3a7-64e9-8000-c9f5646e1746'}}, tasks=())"
      ]
     },
     "execution_count": 24,
     "metadata": {},
     "output_type": "execute_result"
    }
   ],
   "source": [
    "save_state.values[\"count\"] = -3\n",
    "save_state.values[\"scratch\"] = \"hello\"\n",
    "save_state"
   ]
  },
  {
   "cell_type": "code",
   "execution_count": 25,
   "metadata": {},
   "outputs": [
    {
     "data": {
      "text/plain": [
       "{'configurable': {'thread_id': '2',\n",
       "  'checkpoint_ns': '',\n",
       "  'checkpoint_id': '1f0109ca-21f4-6a55-800d-090f0449484e'}}"
      ]
     },
     "execution_count": 25,
     "metadata": {},
     "output_type": "execute_result"
    }
   ],
   "source": [
    "graph.update_state(thread2,save_state.values)"
   ]
  },
  {
   "cell_type": "code",
   "execution_count": 26,
   "metadata": {},
   "outputs": [
    {
     "name": "stdout",
     "output_type": "stream",
     "text": [
      "StateSnapshot(values={'lnode': 'node_2', 'scratch': 'hello', 'count': 1}, next=('Node1',), config={'configurable': {'thread_id': '2', 'checkpoint_ns': '', 'checkpoint_id': '1f0109ca-21f4-6a55-800d-090f0449484e'}}, metadata={'source': 'update', 'writes': {'Node2': {'count': -3, 'scratch': 'hello'}}, 'step': 13, 'parents': {}, 'thread_id': '2'}, created_at='2025-04-03T15:02:16.938760+00:00', parent_config={'configurable': {'thread_id': '2', 'checkpoint_ns': '', 'checkpoint_id': '1f0109c6-7353-68cf-800c-c47313269dd3'}}, tasks=(PregelTask(id='e36261da-9006-cac1-d846-0b0e9d0704f8', name='Node1', path=('__pregel_pull', 'Node1'), error=None, interrupts=(), state=None, result=None),)) \n",
      "\n",
      "StateSnapshot(values={'lnode': 'node_2', 'scratch': 'hi', 'count': 4}, next=(), config={'configurable': {'thread_id': '2', 'checkpoint_ns': '', 'checkpoint_id': '1f0109c6-7353-68cf-800c-c47313269dd3'}}, metadata={'source': 'loop', 'writes': {'Node2': {'lnode': 'node_2', 'count': 1}}, 'step': 12, 'parents': {}, 'thread_id': '2'}, created_at='2025-04-03T15:00:38.096916+00:00', parent_config={'configurable': {'thread_id': '2', 'checkpoint_ns': '', 'checkpoint_id': '1f0109c6-7349-6cda-800b-82b8f4c8e3b0'}}, tasks=()) \n",
      "\n",
      "StateSnapshot(values={'lnode': 'node_1', 'scratch': 'hi', 'count': 3}, next=('Node2',), config={'configurable': {'thread_id': '2', 'checkpoint_ns': '', 'checkpoint_id': '1f0109c6-7349-6cda-800b-82b8f4c8e3b0'}}, metadata={'source': 'loop', 'writes': {'Node1': {'lnode': 'node_1', 'count': 1}}, 'step': 11, 'parents': {}, 'thread_id': '2'}, created_at='2025-04-03T15:00:38.092924+00:00', parent_config={'configurable': {'thread_id': '2', 'checkpoint_ns': '', 'checkpoint_id': '1f0109c6-7344-6f06-800a-c1c07a60b9b0'}}, tasks=(PregelTask(id='38ce03e9-6447-b374-0587-195a021d2dc4', name='Node2', path=('__pregel_pull', 'Node2'), error=None, interrupts=(), state=None, result={'lnode': 'node_2', 'count': 1}),)) \n",
      "\n"
     ]
    }
   ],
   "source": [
    "for i, state in enumerate(graph.get_state_history(thread2)):\n",
    "    if i >= 3:  #print latest 3\n",
    "        break\n",
    "    print(state, '\\n')"
   ]
  },
  {
   "cell_type": "code",
   "execution_count": 28,
   "metadata": {},
   "outputs": [
    {
     "data": {
      "text/plain": [
       "{'configurable': {'thread_id': '2',\n",
       "  'checkpoint_ns': '',\n",
       "  'checkpoint_id': '1f0109cc-c385-6af9-800f-1edc97bf2496'}}"
      ]
     },
     "execution_count": 28,
     "metadata": {},
     "output_type": "execute_result"
    }
   ],
   "source": [
    "graph.update_state(thread2,save_state.values, as_node=\"Node1\")"
   ]
  },
  {
   "cell_type": "code",
   "execution_count": 29,
   "metadata": {},
   "outputs": [
    {
     "name": "stdout",
     "output_type": "stream",
     "text": [
      "StateSnapshot(values={'lnode': 'node_2', 'scratch': 'hello', 'count': -5}, next=('Node2',), config={'configurable': {'thread_id': '2', 'checkpoint_ns': '', 'checkpoint_id': '1f0109cc-c385-6af9-800f-1edc97bf2496'}}, metadata={'source': 'update', 'writes': {'Node1': {'count': -3, 'scratch': 'hello'}}, 'step': 15, 'parents': {}, 'thread_id': '2'}, created_at='2025-04-03T15:03:27.567333+00:00', parent_config={'configurable': {'thread_id': '2', 'checkpoint_ns': '', 'checkpoint_id': '1f0109cc-a15e-65f4-800e-4d4bfb4d05fa'}}, tasks=(PregelTask(id='1a59daf7-c87b-e70a-abc1-25a35a19d7ea', name='Node2', path=('__pregel_pull', 'Node2'), error=None, interrupts=(), state=None, result=None),)) \n",
      "\n",
      "StateSnapshot(values={'lnode': 'node_2', 'scratch': 'hello', 'count': -2}, next=('Node2',), config={'configurable': {'thread_id': '2', 'checkpoint_ns': '', 'checkpoint_id': '1f0109cc-a15e-65f4-800e-4d4bfb4d05fa'}}, metadata={'source': 'update', 'writes': {'Node1': {'count': -3, 'scratch': 'hello'}}, 'step': 14, 'parents': {}, 'thread_id': '2'}, created_at='2025-04-03T15:03:23.986072+00:00', parent_config={'configurable': {'thread_id': '2', 'checkpoint_ns': '', 'checkpoint_id': '1f0109ca-21f4-6a55-800d-090f0449484e'}}, tasks=(PregelTask(id='ca6f5fe7-cfb2-3790-7d1c-4b8ee5597cf2', name='Node2', path=('__pregel_pull', 'Node2'), error=None, interrupts=(), state=None, result=None),)) \n",
      "\n",
      "StateSnapshot(values={'lnode': 'node_2', 'scratch': 'hello', 'count': 1}, next=('Node1',), config={'configurable': {'thread_id': '2', 'checkpoint_ns': '', 'checkpoint_id': '1f0109ca-21f4-6a55-800d-090f0449484e'}}, metadata={'source': 'update', 'writes': {'Node2': {'count': -3, 'scratch': 'hello'}}, 'step': 13, 'parents': {}, 'thread_id': '2'}, created_at='2025-04-03T15:02:16.938760+00:00', parent_config={'configurable': {'thread_id': '2', 'checkpoint_ns': '', 'checkpoint_id': '1f0109c6-7353-68cf-800c-c47313269dd3'}}, tasks=(PregelTask(id='e36261da-9006-cac1-d846-0b0e9d0704f8', name='Node1', path=('__pregel_pull', 'Node1'), error=None, interrupts=(), state=None, result=None),)) \n",
      "\n"
     ]
    }
   ],
   "source": [
    "for i, state in enumerate(graph.get_state_history(thread2)):\n",
    "    if i >= 3:  #print latest 3\n",
    "        break\n",
    "    print(state, '\\n')"
   ]
  },
  {
   "cell_type": "code",
   "execution_count": 30,
   "metadata": {},
   "outputs": [
    {
     "name": "stdout",
     "output_type": "stream",
     "text": [
      "node2, count: -5\n",
      "node1, count: -4\n",
      "node2, count: -3\n",
      "node1, count: -2\n",
      "node2, count: -1\n",
      "node1, count: 0\n",
      "node2, count: 1\n",
      "node1, count: 2\n",
      "node2, count: 3\n"
     ]
    },
    {
     "data": {
      "text/plain": [
       "{'lnode': 'node_2', 'scratch': 'hello', 'count': 4}"
      ]
     },
     "execution_count": 30,
     "metadata": {},
     "output_type": "execute_result"
    }
   ],
   "source": [
    "graph.invoke(None,thread2)"
   ]
  },
  {
   "cell_type": "code",
   "execution_count": 31,
   "metadata": {},
   "outputs": [
    {
     "name": "stdout",
     "output_type": "stream",
     "text": [
      "StateSnapshot(values={'lnode': 'node_2', 'scratch': 'hello', 'count': 4}, next=(), config={'configurable': {'thread_id': '2', 'checkpoint_ns': '', 'checkpoint_id': '1f0109ce-6b78-6570-8018-434979b525b4'}}, metadata={'source': 'loop', 'writes': {'Node2': {'lnode': 'node_2', 'count': 1}}, 'step': 24, 'parents': {}, 'thread_id': '2'}, created_at='2025-04-03T15:04:12.021489+00:00', parent_config={'configurable': {'thread_id': '2', 'checkpoint_ns': '', 'checkpoint_id': '1f0109ce-6b75-6e7a-8017-9fa296007597'}}, tasks=()) \n",
      "\n",
      "StateSnapshot(values={'lnode': 'node_1', 'scratch': 'hello', 'count': 3}, next=('Node2',), config={'configurable': {'thread_id': '2', 'checkpoint_ns': '', 'checkpoint_id': '1f0109ce-6b75-6e7a-8017-9fa296007597'}}, metadata={'source': 'loop', 'writes': {'Node1': {'lnode': 'node_1', 'count': 1}}, 'step': 23, 'parents': {}, 'thread_id': '2'}, created_at='2025-04-03T15:04:12.020492+00:00', parent_config={'configurable': {'thread_id': '2', 'checkpoint_ns': '', 'checkpoint_id': '1f0109ce-6b71-60d6-8016-d673953adf43'}}, tasks=(PregelTask(id='f74249c2-0665-bf6a-57bd-f40626d016a4', name='Node2', path=('__pregel_pull', 'Node2'), error=None, interrupts=(), state=None, result={'lnode': 'node_2', 'count': 1}),)) \n",
      "\n",
      "StateSnapshot(values={'lnode': 'node_2', 'scratch': 'hello', 'count': 2}, next=('Node1',), config={'configurable': {'thread_id': '2', 'checkpoint_ns': '', 'checkpoint_id': '1f0109ce-6b71-60d6-8016-d673953adf43'}}, metadata={'source': 'loop', 'writes': {'Node2': {'lnode': 'node_2', 'count': 1}}, 'step': 22, 'parents': {}, 'thread_id': '2'}, created_at='2025-04-03T15:04:12.018504+00:00', parent_config={'configurable': {'thread_id': '2', 'checkpoint_ns': '', 'checkpoint_id': '1f0109ce-6b67-64cd-8015-04312e11994f'}}, tasks=(PregelTask(id='99c50cef-3adb-0dc3-2865-92bb3f7795bb', name='Node1', path=('__pregel_pull', 'Node1'), error=None, interrupts=(), state=None, result={'lnode': 'node_1', 'count': 1}),)) \n",
      "\n",
      "StateSnapshot(values={'lnode': 'node_1', 'scratch': 'hello', 'count': 1}, next=('Node2',), config={'configurable': {'thread_id': '2', 'checkpoint_ns': '', 'checkpoint_id': '1f0109ce-6b67-64cd-8015-04312e11994f'}}, metadata={'source': 'loop', 'writes': {'Node1': {'lnode': 'node_1', 'count': 1}}, 'step': 21, 'parents': {}, 'thread_id': '2'}, created_at='2025-04-03T15:04:12.014510+00:00', parent_config={'configurable': {'thread_id': '2', 'checkpoint_ns': '', 'checkpoint_id': '1f0109ce-6b62-66bc-8014-01d9a58be255'}}, tasks=(PregelTask(id='97ad863a-82ac-88cf-90e7-9c0018b89259', name='Node2', path=('__pregel_pull', 'Node2'), error=None, interrupts=(), state=None, result={'lnode': 'node_2', 'count': 1}),)) \n",
      "\n",
      "StateSnapshot(values={'lnode': 'node_2', 'scratch': 'hello', 'count': 0}, next=('Node1',), config={'configurable': {'thread_id': '2', 'checkpoint_ns': '', 'checkpoint_id': '1f0109ce-6b62-66bc-8014-01d9a58be255'}}, metadata={'source': 'loop', 'writes': {'Node2': {'lnode': 'node_2', 'count': 1}}, 'step': 20, 'parents': {}, 'thread_id': '2'}, created_at='2025-04-03T15:04:12.012511+00:00', parent_config={'configurable': {'thread_id': '2', 'checkpoint_ns': '', 'checkpoint_id': '1f0109ce-6b5b-6200-8013-49f2b0417538'}}, tasks=(PregelTask(id='864ff048-6109-fd04-456b-1e553e2ad560', name='Node1', path=('__pregel_pull', 'Node1'), error=None, interrupts=(), state=None, result={'lnode': 'node_1', 'count': 1}),)) \n",
      "\n",
      "StateSnapshot(values={'lnode': 'node_1', 'scratch': 'hello', 'count': -1}, next=('Node2',), config={'configurable': {'thread_id': '2', 'checkpoint_ns': '', 'checkpoint_id': '1f0109ce-6b5b-6200-8013-49f2b0417538'}}, metadata={'source': 'loop', 'writes': {'Node1': {'lnode': 'node_1', 'count': 1}}, 'step': 19, 'parents': {}, 'thread_id': '2'}, created_at='2025-04-03T15:04:12.009523+00:00', parent_config={'configurable': {'thread_id': '2', 'checkpoint_ns': '', 'checkpoint_id': '1f0109ce-6b53-6d16-8012-2516b6daa2fc'}}, tasks=(PregelTask(id='e959b66b-94e7-ff7e-7dca-ae0064a68069', name='Node2', path=('__pregel_pull', 'Node2'), error=None, interrupts=(), state=None, result={'lnode': 'node_2', 'count': 1}),)) \n",
      "\n",
      "StateSnapshot(values={'lnode': 'node_2', 'scratch': 'hello', 'count': -2}, next=('Node1',), config={'configurable': {'thread_id': '2', 'checkpoint_ns': '', 'checkpoint_id': '1f0109ce-6b53-6d16-8012-2516b6daa2fc'}}, metadata={'source': 'loop', 'writes': {'Node2': {'lnode': 'node_2', 'count': 1}}, 'step': 18, 'parents': {}, 'thread_id': '2'}, created_at='2025-04-03T15:04:12.006530+00:00', parent_config={'configurable': {'thread_id': '2', 'checkpoint_ns': '', 'checkpoint_id': '1f0109ce-6b4c-6833-8011-a0e389092c3a'}}, tasks=(PregelTask(id='fc73957a-22a1-0291-dc48-775f3eb2fa66', name='Node1', path=('__pregel_pull', 'Node1'), error=None, interrupts=(), state=None, result={'lnode': 'node_1', 'count': 1}),)) \n",
      "\n",
      "StateSnapshot(values={'lnode': 'node_1', 'scratch': 'hello', 'count': -3}, next=('Node2',), config={'configurable': {'thread_id': '2', 'checkpoint_ns': '', 'checkpoint_id': '1f0109ce-6b4c-6833-8011-a0e389092c3a'}}, metadata={'source': 'loop', 'writes': {'Node1': {'lnode': 'node_1', 'count': 1}}, 'step': 17, 'parents': {}, 'thread_id': '2'}, created_at='2025-04-03T15:04:12.003537+00:00', parent_config={'configurable': {'thread_id': '2', 'checkpoint_ns': '', 'checkpoint_id': '1f0109ce-6b45-634b-8010-3629030cb974'}}, tasks=(PregelTask(id='8879158b-0c4f-b223-46be-0af9f0160de6', name='Node2', path=('__pregel_pull', 'Node2'), error=None, interrupts=(), state=None, result={'lnode': 'node_2', 'count': 1}),)) \n",
      "\n",
      "StateSnapshot(values={'lnode': 'node_2', 'scratch': 'hello', 'count': -4}, next=('Node1',), config={'configurable': {'thread_id': '2', 'checkpoint_ns': '', 'checkpoint_id': '1f0109ce-6b45-634b-8010-3629030cb974'}}, metadata={'source': 'loop', 'writes': {'Node2': {'lnode': 'node_2', 'count': 1}}, 'step': 16, 'parents': {}, 'thread_id': '2'}, created_at='2025-04-03T15:04:12.000545+00:00', parent_config={'configurable': {'thread_id': '2', 'checkpoint_ns': '', 'checkpoint_id': '1f0109cc-c385-6af9-800f-1edc97bf2496'}}, tasks=(PregelTask(id='c6093e54-84b9-6362-b49a-a6470a8ce7ec', name='Node1', path=('__pregel_pull', 'Node1'), error=None, interrupts=(), state=None, result={'lnode': 'node_1', 'count': 1}),)) \n",
      "\n",
      "StateSnapshot(values={'lnode': 'node_2', 'scratch': 'hello', 'count': -5}, next=('Node2',), config={'configurable': {'thread_id': '2', 'checkpoint_ns': '', 'checkpoint_id': '1f0109cc-c385-6af9-800f-1edc97bf2496'}}, metadata={'source': 'update', 'writes': {'Node1': {'count': -3, 'scratch': 'hello'}}, 'step': 15, 'parents': {}, 'thread_id': '2'}, created_at='2025-04-03T15:03:27.567333+00:00', parent_config={'configurable': {'thread_id': '2', 'checkpoint_ns': '', 'checkpoint_id': '1f0109cc-a15e-65f4-800e-4d4bfb4d05fa'}}, tasks=(PregelTask(id='1a59daf7-c87b-e70a-abc1-25a35a19d7ea', name='Node2', path=('__pregel_pull', 'Node2'), error=None, interrupts=(), state=None, result={'lnode': 'node_2', 'count': 1}),)) \n",
      "\n",
      "StateSnapshot(values={'lnode': 'node_2', 'scratch': 'hello', 'count': -2}, next=('Node2',), config={'configurable': {'thread_id': '2', 'checkpoint_ns': '', 'checkpoint_id': '1f0109cc-a15e-65f4-800e-4d4bfb4d05fa'}}, metadata={'source': 'update', 'writes': {'Node1': {'count': -3, 'scratch': 'hello'}}, 'step': 14, 'parents': {}, 'thread_id': '2'}, created_at='2025-04-03T15:03:23.986072+00:00', parent_config={'configurable': {'thread_id': '2', 'checkpoint_ns': '', 'checkpoint_id': '1f0109ca-21f4-6a55-800d-090f0449484e'}}, tasks=(PregelTask(id='ca6f5fe7-cfb2-3790-7d1c-4b8ee5597cf2', name='Node2', path=('__pregel_pull', 'Node2'), error=None, interrupts=(), state=None, result=None),)) \n",
      "\n",
      "StateSnapshot(values={'lnode': 'node_2', 'scratch': 'hello', 'count': 1}, next=('Node1',), config={'configurable': {'thread_id': '2', 'checkpoint_ns': '', 'checkpoint_id': '1f0109ca-21f4-6a55-800d-090f0449484e'}}, metadata={'source': 'update', 'writes': {'Node2': {'count': -3, 'scratch': 'hello'}}, 'step': 13, 'parents': {}, 'thread_id': '2'}, created_at='2025-04-03T15:02:16.938760+00:00', parent_config={'configurable': {'thread_id': '2', 'checkpoint_ns': '', 'checkpoint_id': '1f0109c6-7353-68cf-800c-c47313269dd3'}}, tasks=(PregelTask(id='e36261da-9006-cac1-d846-0b0e9d0704f8', name='Node1', path=('__pregel_pull', 'Node1'), error=None, interrupts=(), state=None, result=None),)) \n",
      "\n",
      "StateSnapshot(values={'lnode': 'node_2', 'scratch': 'hi', 'count': 4}, next=(), config={'configurable': {'thread_id': '2', 'checkpoint_ns': '', 'checkpoint_id': '1f0109c6-7353-68cf-800c-c47313269dd3'}}, metadata={'source': 'loop', 'writes': {'Node2': {'lnode': 'node_2', 'count': 1}}, 'step': 12, 'parents': {}, 'thread_id': '2'}, created_at='2025-04-03T15:00:38.096916+00:00', parent_config={'configurable': {'thread_id': '2', 'checkpoint_ns': '', 'checkpoint_id': '1f0109c6-7349-6cda-800b-82b8f4c8e3b0'}}, tasks=()) \n",
      "\n",
      "StateSnapshot(values={'lnode': 'node_1', 'scratch': 'hi', 'count': 3}, next=('Node2',), config={'configurable': {'thread_id': '2', 'checkpoint_ns': '', 'checkpoint_id': '1f0109c6-7349-6cda-800b-82b8f4c8e3b0'}}, metadata={'source': 'loop', 'writes': {'Node1': {'lnode': 'node_1', 'count': 1}}, 'step': 11, 'parents': {}, 'thread_id': '2'}, created_at='2025-04-03T15:00:38.092924+00:00', parent_config={'configurable': {'thread_id': '2', 'checkpoint_ns': '', 'checkpoint_id': '1f0109c6-7344-6f06-800a-c1c07a60b9b0'}}, tasks=(PregelTask(id='38ce03e9-6447-b374-0587-195a021d2dc4', name='Node2', path=('__pregel_pull', 'Node2'), error=None, interrupts=(), state=None, result={'lnode': 'node_2', 'count': 1}),)) \n",
      "\n",
      "StateSnapshot(values={'lnode': 'node_2', 'scratch': 'hi', 'count': 2}, next=('Node1',), config={'configurable': {'thread_id': '2', 'checkpoint_ns': '', 'checkpoint_id': '1f0109c6-7344-6f06-800a-c1c07a60b9b0'}}, metadata={'source': 'loop', 'writes': {'Node2': {'lnode': 'node_2', 'count': 1}}, 'step': 10, 'parents': {}, 'thread_id': '2'}, created_at='2025-04-03T15:00:38.090931+00:00', parent_config={'configurable': {'thread_id': '2', 'checkpoint_ns': '', 'checkpoint_id': '1f0109c6-7331-68e3-8009-4b12058588af'}}, tasks=(PregelTask(id='d7cfd2b0-ef5f-1f01-47c1-583f5f183c06', name='Node1', path=('__pregel_pull', 'Node1'), error=None, interrupts=(), state=None, result={'lnode': 'node_1', 'count': 1}),)) \n",
      "\n",
      "StateSnapshot(values={'lnode': 'node_1', 'scratch': 'hi', 'count': 1}, next=('Node2',), config={'configurable': {'thread_id': '2', 'checkpoint_ns': '', 'checkpoint_id': '1f0109c6-7331-68e3-8009-4b12058588af'}}, metadata={'source': 'loop', 'writes': {'Node1': {'lnode': 'node_1', 'count': 1}}, 'step': 9, 'parents': {}, 'thread_id': '2'}, created_at='2025-04-03T15:00:38.082992+00:00', parent_config={'configurable': {'thread_id': '2', 'checkpoint_ns': '', 'checkpoint_id': '1f0109c6-732a-6264-8008-7a2b8cc2635a'}}, tasks=(PregelTask(id='c4901c2b-414f-f134-a22f-caa199128a41', name='Node2', path=('__pregel_pull', 'Node2'), error=None, interrupts=(), state=None, result={'lnode': 'node_2', 'count': 1}),)) \n",
      "\n",
      "StateSnapshot(values={'scratch': 'hi', 'count': 0}, next=('Node1',), config={'configurable': {'thread_id': '2', 'checkpoint_ns': '', 'checkpoint_id': '1f0109c6-732a-6264-8008-7a2b8cc2635a'}}, metadata={'source': 'loop', 'writes': None, 'step': 8, 'parents': {}, 'thread_id': '2'}, created_at='2025-04-03T15:00:38.079958+00:00', parent_config={'configurable': {'thread_id': '2', 'checkpoint_ns': '', 'checkpoint_id': '1f0109c6-7322-6d8c-8007-86ce5a11a9e6'}}, tasks=(PregelTask(id='77384982-3933-aab6-ee4d-d7922d2b305a', name='Node1', path=('__pregel_pull', 'Node1'), error=None, interrupts=(), state=None, result={'lnode': 'node_1', 'count': 1}),)) \n",
      "\n",
      "StateSnapshot(values={'count': 0}, next=('__start__',), config={'configurable': {'thread_id': '2', 'checkpoint_ns': '', 'checkpoint_id': '1f0109c6-7322-6d8c-8007-86ce5a11a9e6'}}, metadata={'source': 'input', 'writes': {'__start__': {'count': 0, 'scratch': 'hi'}}, 'step': 7, 'parents': {}, 'thread_id': '2'}, created_at='2025-04-03T15:00:38.076967+00:00', parent_config={'configurable': {'thread_id': '2', 'checkpoint_ns': '', 'checkpoint_id': '1f010734-fa65-65b2-8006-0352c05e683f'}}, tasks=(PregelTask(id='2ce84aae-980f-97a3-912e-8d7da4d019b7', name='__start__', path=('__pregel_pull', '__start__'), error=None, interrupts=(), state=None, result={'count': 0, 'scratch': 'hi'}),)) \n",
      "\n",
      "StateSnapshot(values={'count': 0}, next=(), config={'configurable': {'thread_id': '2', 'checkpoint_ns': '', 'checkpoint_id': '1f010734-fa65-65b2-8006-0352c05e683f'}}, metadata={'source': 'loop', 'writes': {'llm': {'messages': [AIMessage(content='', additional_kwargs={'tool_calls': [{'id': 'call_9wQEi4qlMUkHYp0ZvQnqIc4E', 'function': {'arguments': '{\"query\":\"current weather in Los Angeles\"}', 'name': 'tavily_search_results_json'}, 'type': 'function'}], 'refusal': None}, response_metadata={'token_usage': {'completion_tokens': 23, 'prompt_tokens': 806, 'total_tokens': 829, 'completion_tokens_details': {'accepted_prediction_tokens': 0, 'audio_tokens': 0, 'reasoning_tokens': 0, 'rejected_prediction_tokens': 0}, 'prompt_tokens_details': {'audio_tokens': 0, 'cached_tokens': 0}}, 'model_name': 'gpt-4o-2024-08-06', 'system_fingerprint': 'fp_898ac29719', 'id': 'chatcmpl-BIBkrBvMKtzP5YjNswIvVMuAst3T1', 'finish_reason': 'tool_calls', 'logprobs': None}, id='run-1c7159de-c1e0-4ae6-afdf-00b070afce17-0', tool_calls=[{'name': 'tavily_search_results_json', 'args': {'query': 'current weather in Los Angeles'}, 'id': 'call_9wQEi4qlMUkHYp0ZvQnqIc4E', 'type': 'tool_call'}], usage_metadata={'input_tokens': 806, 'output_tokens': 23, 'total_tokens': 829, 'input_token_details': {'audio': 0, 'cache_read': 0}, 'output_token_details': {'audio': 0, 'reasoning': 0}})]}}, 'step': 6, 'parents': {}, 'thread_id': '2'}, created_at='2025-04-03T10:06:29.206981+00:00', parent_config={'configurable': {'thread_id': '2', 'checkpoint_ns': '', 'checkpoint_id': '1f010734-eeb6-6bf1-8005-90544b0e6a54'}}, tasks=()) \n",
      "\n",
      "StateSnapshot(values={'count': 0}, next=(), config={'configurable': {'thread_id': '2', 'checkpoint_ns': '', 'checkpoint_id': '1f010734-eeb6-6bf1-8005-90544b0e6a54'}}, metadata={'source': 'loop', 'writes': None, 'step': 5, 'parents': {}, 'thread_id': '2'}, created_at='2025-04-03T10:06:27.982027+00:00', parent_config={'configurable': {'thread_id': '2', 'checkpoint_ns': '', 'checkpoint_id': '1f010734-eead-6028-8004-8f42355f0a34'}}, tasks=()) \n",
      "\n",
      "StateSnapshot(values={'count': 0}, next=('__start__',), config={'configurable': {'thread_id': '2', 'checkpoint_ns': '', 'checkpoint_id': '1f010734-eead-6028-8004-8f42355f0a34'}}, metadata={'source': 'input', 'writes': {'__start__': {'messages': [HumanMessage(content='Whats the weather in LA?', additional_kwargs={}, response_metadata={})]}}, 'step': 4, 'parents': {}, 'thread_id': '2'}, created_at='2025-04-03T10:06:27.978039+00:00', parent_config={'configurable': {'thread_id': '2', 'checkpoint_ns': '', 'checkpoint_id': '1f01072a-3467-6f7e-8003-d7626e1b298a'}}, tasks=(PregelTask(id='9f1593ea-b1a9-2562-d1a5-8c848a8d5e12', name='__start__', path=('__pregel_pull', '__start__'), error=None, interrupts=(), state=None, result={}),)) \n",
      "\n",
      "StateSnapshot(values={'count': 0}, next=(), config={'configurable': {'thread_id': '2', 'checkpoint_ns': '', 'checkpoint_id': '1f01072a-3467-6f7e-8003-d7626e1b298a'}}, metadata={'source': 'loop', 'writes': {'llm': {'messages': [AIMessage(content=\"The current weather in Los Angeles is partly cloudy with a temperature of 54.0°F (12.2°C). The wind is blowing from the east at 8.7 mph (14.0 kph), and the humidity is at 74%. There's no precipitation at the moment, and the visibility is up to 16 kilometers (approximately 9 miles).\", additional_kwargs={'refusal': None}, response_metadata={'token_usage': {'completion_tokens': 76, 'prompt_tokens': 718, 'total_tokens': 794, 'completion_tokens_details': {'accepted_prediction_tokens': 0, 'audio_tokens': 0, 'reasoning_tokens': 0, 'rejected_prediction_tokens': 0}, 'prompt_tokens_details': {'audio_tokens': 0, 'cached_tokens': 0}}, 'model_name': 'gpt-4o-2024-08-06', 'system_fingerprint': 'fp_898ac29719', 'id': 'chatcmpl-BIBgAmtcKhoqlBAycNHQGQVKvGF4o', 'finish_reason': 'stop', 'logprobs': None}, id='run-c45423b1-4847-46e1-9bbf-b9d77d4b6f6e-0', usage_metadata={'input_tokens': 718, 'output_tokens': 76, 'total_tokens': 794, 'input_token_details': {'audio': 0, 'cache_read': 0}, 'output_token_details': {'audio': 0, 'reasoning': 0}})]}}, 'step': 3, 'parents': {}, 'thread_id': '2'}, created_at='2025-04-03T10:01:40.010790+00:00', parent_config={'configurable': {'thread_id': '2', 'checkpoint_ns': '', 'checkpoint_id': '1f01072a-1d44-60e1-8002-a91becdd88dd'}}, tasks=()) \n",
      "\n",
      "StateSnapshot(values={'count': 0}, next=(), config={'configurable': {'thread_id': '2', 'checkpoint_ns': '', 'checkpoint_id': '1f01072a-1d44-60e1-8002-a91becdd88dd'}}, metadata={'source': 'loop', 'writes': {'action': {'messages': [ToolMessage(content='[{\\'title\\': \\'Thursday, April 3, 2025. Los Angeles, CA - Weather Forecast\\', \\'url\\': \\'https://weathershogun.com/weather/usa/ca/los-angeles/451/april/2025-04-03\\', \\'content\\': \\'Los Angeles, California Weather: Thursday, April 3, 2025. Cloudy weather, overcast skies with clouds. Day 66°. Night 50°. Precipitation 10 %.\\', \\'score\\': 0.94314384}, {\\'title\\': \\'Weather in Los Angeles\\', \\'url\\': \\'https://www.weatherapi.com/\\', \\'content\\': \"{\\'location\\': {\\'name\\': \\'Los Angeles\\', \\'region\\': \\'California\\', \\'country\\': \\'United States of America\\', \\'lat\\': 34.0522, \\'lon\\': -118.2428, \\'tz_id\\': \\'America/Los_Angeles\\', \\'localtime_epoch\\': 1743671979, \\'localtime\\': \\'2025-04-03 02:19\\'}, \\'current\\': {\\'last_updated_epoch\\': 1743671700, \\'last_updated\\': \\'2025-04-03 02:15\\', \\'temp_c\\': 12.2, \\'temp_f\\': 54.0, \\'is_day\\': 0, \\'condition\\': {\\'text\\': \\'Partly cloudy\\', \\'icon\\': \\'//cdn.weatherapi.com/weather/64x64/night/116.png\\', \\'code\\': 1003}, \\'wind_mph\\': 8.7, \\'wind_kph\\': 14.0, \\'wind_degree\\': 87, \\'wind_dir\\': \\'E\\', \\'pressure_mb\\': 1012.0, \\'pressure_in\\': 29.89, \\'precip_mm\\': 0.0, \\'precip_in\\': 0.0, \\'humidity\\': 74, \\'cloud\\': 50, \\'feelslike_c\\': 10.7, \\'feelslike_f\\': 51.3, \\'windchill_c\\': 11.4, \\'windchill_f\\': 52.5, \\'heatindex_c\\': 11.5, \\'heatindex_f\\': 52.6, \\'dewpoint_c\\': 6.1, \\'dewpoint_f\\': 43.0, \\'vis_km\\': 16.0, \\'vis_miles\\': 9.0, \\'uv\\': 0.0, \\'gust_mph\\': 11.5, \\'gust_kph\\': 18.4}}\", \\'score\\': 0.9202036}]', name='tavily_search_results_json', id='bbbdbb7d-fa1a-4729-b5ed-21271eb8bd14', tool_call_id='call_TXhEpd2BqYoM3e31G5PJlVuu')]}}, 'step': 2, 'parents': {}, 'thread_id': '2'}, created_at='2025-04-03T10:01:37.584355+00:00', parent_config={'configurable': {'thread_id': '2', 'checkpoint_ns': '', 'checkpoint_id': '1f010728-b12f-60dc-8001-3da87e6ee316'}}, tasks=()) \n",
      "\n",
      "StateSnapshot(values={'count': 0}, next=(), config={'configurable': {'thread_id': '2', 'checkpoint_ns': '', 'checkpoint_id': '1f010728-b12f-60dc-8001-3da87e6ee316'}}, metadata={'source': 'loop', 'writes': {'llm': {'messages': [AIMessage(content='', additional_kwargs={'tool_calls': [{'id': 'call_TXhEpd2BqYoM3e31G5PJlVuu', 'function': {'arguments': '{\"query\":\"current weather in Los Angeles\"}', 'name': 'tavily_search_results_json'}, 'type': 'function'}], 'refusal': None}, response_metadata={'token_usage': {'completion_tokens': 23, 'prompt_tokens': 150, 'total_tokens': 173, 'completion_tokens_details': {'accepted_prediction_tokens': 0, 'audio_tokens': 0, 'reasoning_tokens': 0, 'rejected_prediction_tokens': 0}, 'prompt_tokens_details': {'audio_tokens': 0, 'cached_tokens': 0}}, 'model_name': 'gpt-4o-2024-08-06', 'system_fingerprint': 'fp_898ac29719', 'id': 'chatcmpl-BIBfXUu1bEJPWPnpmLX4KggCCfQw7', 'finish_reason': 'tool_calls', 'logprobs': None}, id='run-c953b961-10bd-4b48-bb16-170a692b0de9-0', tool_calls=[{'name': 'tavily_search_results_json', 'args': {'query': 'current weather in Los Angeles'}, 'id': 'call_TXhEpd2BqYoM3e31G5PJlVuu', 'type': 'tool_call'}], usage_metadata={'input_tokens': 150, 'output_tokens': 23, 'total_tokens': 173, 'input_token_details': {'audio': 0, 'cache_read': 0}, 'output_token_details': {'audio': 0, 'reasoning': 0}})]}}, 'step': 1, 'parents': {}, 'thread_id': '2'}, created_at='2025-04-03T10:00:59.407586+00:00', parent_config={'configurable': {'thread_id': '2', 'checkpoint_ns': '', 'checkpoint_id': '1f010728-a3a7-64e9-8000-c9f5646e1746'}}, tasks=()) \n",
      "\n",
      "StateSnapshot(values={'count': 0}, next=(), config={'configurable': {'thread_id': '2', 'checkpoint_ns': '', 'checkpoint_id': '1f010728-a3a7-64e9-8000-c9f5646e1746'}}, metadata={'source': 'loop', 'writes': None, 'step': 0, 'parents': {}, 'thread_id': '2'}, created_at='2025-04-03T10:00:57.988836+00:00', parent_config={'configurable': {'thread_id': '2', 'checkpoint_ns': '', 'checkpoint_id': '1f010728-a39d-6938-bfff-0dcbdd3ea580'}}, tasks=()) \n",
      "\n",
      "StateSnapshot(values={'count': 0}, next=('__start__',), config={'configurable': {'thread_id': '2', 'checkpoint_ns': '', 'checkpoint_id': '1f010728-a39d-6938-bfff-0dcbdd3ea580'}}, metadata={'source': 'input', 'writes': {'__start__': {'messages': [HumanMessage(content='Whats the weather in LA?', additional_kwargs={}, response_metadata={})]}}, 'step': -1, 'parents': {}, 'thread_id': '2'}, created_at='2025-04-03T10:00:57.984850+00:00', parent_config=None, tasks=(PregelTask(id='c6ae93ec-50f8-46a5-c191-12cd316b0cb3', name='__start__', path=('__pregel_pull', '__start__'), error=None, interrupts=(), state=None, result={}),)) \n",
      "\n"
     ]
    }
   ],
   "source": [
    "for state in graph.get_state_history(thread2):\n",
    "    print(state,\"\\n\")"
   ]
  },
  {
   "cell_type": "code",
   "execution_count": null,
   "metadata": {},
   "outputs": [],
   "source": []
  }
 ],
 "metadata": {
  "kernelspec": {
   "display_name": "myenv",
   "language": "python",
   "name": "python3"
  },
  "language_info": {
   "codemirror_mode": {
    "name": "ipython",
    "version": 3
   },
   "file_extension": ".py",
   "mimetype": "text/x-python",
   "name": "python",
   "nbconvert_exporter": "python",
   "pygments_lexer": "ipython3",
   "version": "3.12.9"
  }
 },
 "nbformat": 4,
 "nbformat_minor": 2
}
